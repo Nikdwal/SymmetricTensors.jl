{
 "cells": [
  {
   "cell_type": "code",
   "execution_count": 2,
   "metadata": {
    "collapsed": false
   },
   "outputs": [
    {
     "name": "stderr",
     "output_type": "stream",
     "text": [
      "WARNING: Method definition invers_gen(Array{Float64, 1}, Float64) in module Main at /home/krzysztof/Dokumenty/badania/tensors_sym/cum_calc/code/codecum/test/test_helpers/naivecum.jl:9 overwritten at /home/krzysztof/Dokumenty/badania/tensors_sym/cum_calc/code/codecum/test/test_helpers/naivecum.jl:9.\n",
      "WARNING: replacing docs for 'invers_gen :: Tuple{Array{Float64,1},Float64}' in module 'Main'.\n",
      "WARNING: Method definition clcopulagen(Int64, Int64) in module Main at /home/krzysztof/Dokumenty/badania/tensors_sym/cum_calc/code/codecum/test/test_helpers/naivecum.jl:22 overwritten at /home/krzysztof/Dokumenty/badania/tensors_sym/cum_calc/code/codecum/test/test_helpers/naivecum.jl:22.\n",
      "WARNING: replacing docs for 'clcopulagen :: Tuple{Int64,Int64}' in module 'Main'.\n"
     ]
    },
    {
     "name": "stdout",
     "output_type": "stream",
     "text": [
      "  2.131038 seconds (84.98 k allocations: 6.581 GB, 37.03% gc time)\n"
     ]
    },
    {
     "name": "stderr",
     "output_type": "stream",
     "text": [
      "WARNING: Method definition cumulantelement(Array{#T<:AbstractFloat, 1}...) in module Main at /home/krzysztof/Dokumenty/badania/tensors_sym/cum_calc/code/codecum/test/test_helpers/naivecum.jl:45 overwritten at /home/krzysztof/Dokumenty/badania/tensors_sym/cum_calc/code/codecum/test/test_helpers/naivecum.jl:45.\n",
      "WARNING: Method definition moment(Array{#T<:AbstractFloat, 1}...) in module Main at /home/krzysztof/Dokumenty/badania/tensors_sym/cum_calc/code/codecum/test/test_helpers/naivecum.jl:51 overwritten at /home/krzysztof/Dokumenty/badania/tensors_sym/cum_calc/code/codecum/test/test_helpers/naivecum.jl:51.\n",
      "WARNING: Method definition mixedelements(Array{#T<:AbstractFloat, 1}, Array{#T<:AbstractFloat, 1}, Array{#T<:AbstractFloat, 1}, Array{#T<:AbstractFloat, 1}) in module Main at /home/krzysztof/Dokumenty/badania/tensors_sym/cum_calc/code/codecum/test/test_helpers/naivecum.jl:58 overwritten at /home/krzysztof/Dokumenty/badania/tensors_sym/cum_calc/code/codecum/test/test_helpers/naivecum.jl:58.\n",
      "WARNING: Method definition mixedelements(Array{#T<:AbstractFloat, 1}, Array{#T<:AbstractFloat, 1}, Array{#T<:AbstractFloat, 1}, Array{#T<:AbstractFloat, 1}, Array{#T<:AbstractFloat, 1}) in module Main at /home/krzysztof/Dokumenty/badania/tensors_sym/cum_calc/code/codecum/test/test_helpers/naivecum.jl:61 overwritten at /home/krzysztof/Dokumenty/badania/tensors_sym/cum_calc/code/codecum/test/test_helpers/naivecum.jl:61.\n",
      "WARNING: Method definition mixedelements(Array{#T<:AbstractFloat, 1}, Array{#T<:AbstractFloat, 1}, Array{#T<:AbstractFloat, 1}, Array{#T<:AbstractFloat, 1}, Array{#T<:AbstractFloat, 1}, Array{#T<:AbstractFloat, 1}) in module Main at /home/krzysztof/Dokumenty/badania/tensors_sym/cum_calc/code/codecum/test/test_helpers/naivecum.jl:67 overwritten at /home/krzysztof/Dokumenty/badania/tensors_sym/cum_calc/code/codecum/test/test_helpers/naivecum.jl:67.\n",
      "WARNING: Method definition naivecumulant(Array{#T<:AbstractFloat, 2}) in module Main at /home/krzysztof/Dokumenty/badania/tensors_sym/cum_calc/code/codecum/test/test_helpers/naivecum.jl:96 overwritten at /home/krzysztof/Dokumenty/badania/tensors_sym/cum_calc/code/codecum/test/test_helpers/naivecum.jl:96.\n",
      "WARNING: Method definition naivecumulant(Array{#T<:AbstractFloat, 2}, Int64) in module Main at /home/krzysztof/Dokumenty/badania/tensors_sym/cum_calc/code/codecum/test/test_helpers/naivecum.jl:96 overwritten at /home/krzysztof/Dokumenty/badania/tensors_sym/cum_calc/code/codecum/test/test_helpers/naivecum.jl:96.\n"
     ]
    },
    {
     "name": "stdout",
     "output_type": "stream",
     "text": [
      "  4.747116 seconds (300.12 k allocations: 21.790 GB, 8.80% gc time)\n"
     ]
    }
   ],
   "source": [
    "#using SymmetricTensors\n",
    "using Cumulants\n",
    "using Distributions\n",
    "#importall SymmetricTensors\n",
    "#importall Cumulants\n",
    "\n",
    "#include(\"test_helpers/s_naive.jl\")\n",
    "include(\"test_helpers/naivecum.jl\")\n",
    "\n",
    "i = 10000\n",
    "s = 3\n",
    "n_max = 4\n",
    "\n",
    "for size in [18]\n",
    "    data = clcopulagen(i, size);\n",
    "    for n in(3:n_max)\n",
    "        @time cumulants(data, n, s);\n",
    "        @time naivecumulant(data, n);\n",
    "    end\n",
    "end\n",
    "\n"
   ]
  },
  {
   "cell_type": "code",
   "execution_count": null,
   "metadata": {
    "collapsed": true
   },
   "outputs": [],
   "source": [
    "if nprocs() == 1\n",
    "    addprocs()\n",
    "end\n",
    "@everywhere begin\n",
    "    include(\"/home/krzysztof/Dokumenty/badania_iitis/tensors_symetric/tensor calculations/calc&codes/sym_tensor/src/Boxtensors.jl\")\n",
    "    using Boxtensors\n",
    "end\n",
    "importall Boxtensors"
   ]
  },
  {
   "cell_type": "code",
   "execution_count": null,
   "metadata": {
    "collapsed": true
   },
   "outputs": [],
   "source": []
  },
  {
   "cell_type": "code",
   "execution_count": null,
   "metadata": {
    "collapsed": true
   },
   "outputs": [],
   "source": []
  }
 ],
 "metadata": {
  "anaconda-cloud": {},
  "kernelspec": {
   "display_name": "Julia 0.5.0",
   "language": "julia",
   "name": "julia-0.5"
  },
  "language_info": {
   "file_extension": ".jl",
   "mimetype": "application/julia",
   "name": "julia",
   "version": "0.5.0"
  }
 },
 "nbformat": 4,
 "nbformat_minor": 0
}
