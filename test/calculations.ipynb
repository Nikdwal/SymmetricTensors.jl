{
 "cells": [
  {
   "cell_type": "code",
   "execution_count": 1,
   "metadata": {
    "collapsed": false
   },
   "outputs": [
    {
     "name": "stderr",
     "output_type": "stream",
     "text": [
      "WARNING: could not attach metadata for @simd loop.\n",
      "WARNING: could not attach metadata for @simd loop.\n"
     ]
    }
   ],
   "source": [
    "include(\"/home/krzysztof/Dokumenty/badania_iitis/tensors_symetric/tensor calculations/calc&codes/sym_tensor/src/Boxtensors.jl\")  \n",
    "include(\"Test.jl\")\n",
    "using Test"
   ]
  },
  {
   "cell_type": "code",
   "execution_count": 2,
   "metadata": {
    "collapsed": false
   },
   "outputs": [
    {
     "name": "stderr",
     "output_type": "stream",
     "text": [
      "WARNING: replacing module Boxtensors\n"
     ]
    }
   ],
   "source": [
    "include(\"/home/krzysztof/Dokumenty/badania_iitis/tensors_symetric/tensor calculations/calc&codes/sym_tensor/src/Boxtensors.jl\")\n",
    "using Boxtensors\n",
    "importall Boxtensors"
   ]
  },
  {
   "cell_type": "code",
   "execution_count": 3,
   "metadata": {
    "collapsed": false,
    "scrolled": true
   },
   "outputs": [
    {
     "name": "stdout",
     "output_type": "stream",
     "text": [
      "136.956198 seconds (643.61 k allocations: 410.534 GB, 27.74% gc time)\n",
      "2094.036819 seconds (19.91 M allocations: 6.152 TB, 30.64% gc time)\n",
      "105512.417406 seconds (218.36 M allocations: 158.878 TB, 54.02% gc time)\n",
      "163.044710 seconds (736.35 k allocations: 511.432 GB, 27.67% gc time)\n",
      "2717.331006 seconds (26.34 M allocations: 8.168 TB, 31.00% gc time)\n",
      "147308.412574 seconds (300.75 M allocations: 218.832 TB, 53.72% gc time)\n"
     ]
    }
   ],
   "source": [
    "i = 1000000\n",
    "\n",
    "s = 3\n",
    "\n",
    "for size in [36, 39]\n",
    "    data = clcopulagen(i, size);\n",
    "    @time cumulants(3, data, s);\n",
    "    @time cumulants(4, data, s);\n",
    "    @time naivecumulant(data, 4);\n",
    "end"
   ]
  },
  {
   "cell_type": "code",
   "execution_count": 2,
   "metadata": {
    "collapsed": false
   },
   "outputs": [],
   "source": [
    "data = clcopulagen(1000000, 15);"
   ]
  },
  {
   "cell_type": "code",
   "execution_count": 5,
   "metadata": {
    "collapsed": false
   },
   "outputs": [
    {
     "name": "stdout",
     "output_type": "stream",
     "text": [
      " 12.659137 seconds (83.06 k allocations: 41.689 GB, 23.37% gc time)\n",
      "104.536850 seconds (1.13 M allocations: 343.700 GB, 25.10% gc time)\n",
      "2976.083995 seconds (6.71 M allocations: 4.789 TB, 49.89% gc time)\n"
     ]
    }
   ],
   "source": [
    "o = 4\n",
    "\n",
    "@time cumulants(o-1, data, 3);\n",
    "@time cumulants(o, data, 3);\n",
    "@time naivecumulant(data, o);"
   ]
  },
  {
   "cell_type": "code",
   "execution_count": 5,
   "metadata": {
    "collapsed": false
   },
   "outputs": [
    {
     "name": "stdout",
     "output_type": "stream",
     "text": [
      " 71.303060 seconds (45.45 M allocations: 211.876 GB, 17.23% gc time)\n",
      "476.877464 seconds (749.81 M allocations: 1006.402 GB, 12.36% gc time)\n"
     ]
    }
   ],
   "source": [
    "for o in collect(6:7)\n",
    "    @time c = cumulants(o, data, div(size(data, 2), 3));\n",
    "end\n",
    "#cn = naivecumulant(data, 5);\n"
   ]
  },
  {
   "cell_type": "code",
   "execution_count": null,
   "metadata": {
    "collapsed": true
   },
   "outputs": [],
   "source": [
    " 71.781549 seconds (45.45 M allocations: 211.876 GB, 14.92% gc time)\n",
    "475\n",
    "\n",
    "#1000000 15 3 \n",
    "#115.607918 seconds (1.14 M allocations: 343.700 GB, 32.13% gc time)\n",
    "#3237.854221 seconds (6.58 M allocations: 4.789 TB, 54.23% gc time)\n",
    "#1000000 30 3 \n",
    "#1128.944750 seconds (10.66 M allocations: 3.257 TB, 33.08% gc time)\n",
    "#51451.271712 seconds (105.31 M allocations: 76.620 TB, 54.45% gc time)\n",
    "#33\n",
    "#1582.785217 seconds (14.75 M allocations: 4.534 TB, 34.03% gc time)\n",
    "#78787.640539 seconds (154.18 M allocations: 112.179 TB, 56.60% gc time)\n",
    "#36\n",
    "#2146.416321 seconds (19.94 M allocations: 6.152 TB, 34.07% gc time)\n",
    "#111770.945808 seconds (218.35 M allocations: 158.878 TB, 56.68% gc time)"
   ]
  },
  {
   "cell_type": "code",
   "execution_count": 4,
   "metadata": {
    "collapsed": false
   },
   "outputs": [
    {
     "ename": "LoadError",
     "evalue": "LoadError: UndefVarError: snaivecumulant not defined\nwhile loading In[4], in expression starting on line 155",
     "output_type": "error",
     "traceback": [
      "LoadError: UndefVarError: snaivecumulant not defined\nwhile loading In[4], in expression starting on line 155",
      ""
     ]
    }
   ],
   "source": [
    "@time c = snaivecumulant(data, 8)"
   ]
  },
  {
   "cell_type": "code",
   "execution_count": 10,
   "metadata": {
    "collapsed": false
   },
   "outputs": [
    {
     "name": "stdout",
     "output_type": "stream",
     "text": [
      "  0.068689 seconds (79.27 k allocations: 45.919 MB, 10.93% gc time)\n"
     ]
    }
   ],
   "source": [
    "@time c2, c3 = cumulants(3, data, 5);"
   ]
  },
  {
   "cell_type": "code",
   "execution_count": 9,
   "metadata": {
    "collapsed": false
   },
   "outputs": [
    {
     "name": "stdout",
     "output_type": "stream",
     "text": [
      "  0.370966 seconds (342.51 k allocations: 18.139 MB, 1.89% gc time)\n"
     ]
    }
   ],
   "source": [
    "@time c2, c3, c4, c5 = cumulants(5, data, 2);\n"
   ]
  },
  {
   "cell_type": "code",
   "execution_count": 10,
   "metadata": {
    "collapsed": false
   },
   "outputs": [
    {
     "name": "stdout",
     "output_type": "stream",
     "text": [
      "  0.097818 seconds (330.81 k allocations: 44.802 MB, 8.87% gc time)\n"
     ]
    }
   ],
   "source": [
    "cn4 = naivecumulant(data, 4)\n",
    "@time cn5 = naivecumulant(data, 5);"
   ]
  },
  {
   "cell_type": "code",
   "execution_count": 74,
   "metadata": {
    "collapsed": true
   },
   "outputs": [
    {
     "name": "stdout",
     "output_type": "stream",
     "text": [
      "347.649006 seconds (3.71 M allocations: 1.734 GB, 0.08% gc time)\n"
     ]
    },
    {
     "name": "stderr",
     "output_type": "stream",
     "text": [
      "WARNING: could not attach metadata for @simd loop.\n"
     ]
    }
   ],
   "source": [
    "@time  cf = get_diff(data, 5);"
   ]
  },
  {
   "cell_type": "code",
   "execution_count": 6,
   "metadata": {
    "collapsed": false
   },
   "outputs": [
    {
     "data": {
      "text/plain": [
       "5.329070518200751e-15"
      ]
     },
     "execution_count": 6,
     "metadata": {},
     "output_type": "execute_result"
    }
   ],
   "source": [
    "#138.701652 seconds\n",
    "#1627.469713 seconds (6.28 G allocations: 595.513 GB, 4.33% gc time)\n",
    "# 543.527439 seconds (1.89 G allocations: 870.856 GB, 10.93% gc time)\n",
    "#test = convert(Array, c10) - cf[10]\n",
    "\n",
    "#test = c[\"c8\"] - convert(Array, c8)\n",
    "test = convert(Array, c[4]) - cn\n",
    "maximum(abs(test))\n"
   ]
  },
  {
   "cell_type": "code",
   "execution_count": 13,
   "metadata": {
    "collapsed": false
   },
   "outputs": [],
   "source": [
    "#data = clcopulagen(50000, 48);\n",
    "#272.183187 seconds (61.29 M allocations: 968.278 GB, 25.18% gc time)\n",
    "# 7585.766758 seconds (716.64 M allocations: 25.126 TB, 20.33% gc time)\n",
    "# div = 28"
   ]
  },
  {
   "cell_type": "code",
   "execution_count": null,
   "metadata": {
    "collapsed": true
   },
   "outputs": [],
   "source": [
    "@time bs+bs1;\n",
    "@time bs+2;\n",
    "@time st + st1;\n",
    "@time st + 2;\n",
    "@time convert(Array, bs);\n",
    "@time vec(bs);\n",
    "@time vec(st);\n",
    "@time bs.*bs1;\n",
    "@time bs+bs1;\n",
    "@time bs./bs1;\n",
    "@time st.*st1;\n",
    "@time st+st1;\n",
    "@time st./st1;\n",
    "@time modemult(bs, c1', 4)\n",
    "@time Tensors.modemult(st,c1',4);\n",
    "@time bcssclass(bs, c1')"
   ]
  },
  {
   "cell_type": "code",
   "execution_count": null,
   "metadata": {
    "collapsed": true
   },
   "outputs": [],
   "source": [
    "\n",
    "if nprocs() == 1\n",
    "    addprocs()\n",
    "end\n",
    "@everywhere begin\n",
    "    include(\"/home/krzysztof/Dokumenty/badania_iitis/tensors_symetric/tensor calculations/calc&codes/sym_tensor/src/Boxtensors.jl\")\n",
    "    using Boxtensors\n",
    "end\n",
    "importall Boxtensors"
   ]
  },
  {
   "cell_type": "code",
   "execution_count": 3,
   "metadata": {
    "collapsed": false
   },
   "outputs": [
    {
     "data": {
      "text/plain": [
       "10x10 Array{Float64,2}:\n",
       "  1.23845     0.611371   -0.0518148  …  -0.167113    0.116201   0.876525 \n",
       "  0.611371    1.31396     0.071718      -0.16593    -0.210259   0.314712 \n",
       " -0.0518148   0.071718    0.806635       0.448023   -0.355023  -0.34978  \n",
       " -0.0571788  -0.130006   -0.334718      -0.298709   -0.19531   -0.15415  \n",
       " -0.11585     0.598699   -0.626223      -0.976551    0.496991   0.0645199\n",
       " -0.0592483   0.0636601  -0.2557     …   0.180694    0.211843   0.0857358\n",
       " -0.276256    0.302982    0.408813       0.958388   -1.23326   -0.412608 \n",
       " -0.167113   -0.16593     0.448023       2.17862    -1.18547    0.0491065\n",
       "  0.116201   -0.210259   -0.355023      -1.18547     1.58335    0.146063 \n",
       "  0.876525    0.314712   -0.34978        0.0491065   0.146063   0.939336 "
      ]
     },
     "execution_count": 3,
     "metadata": {},
     "output_type": "execute_result"
    }
   ],
   "source": [
    "x = randn(10, 10);\n",
    "Base.covm(x, 0; corrected = false)"
   ]
  },
  {
   "cell_type": "code",
   "execution_count": 17,
   "metadata": {
    "collapsed": false
   },
   "outputs": [
    {
     "data": {
      "text/html": [
       "4 methods for generic function <b>covm</b>:<ul><li> covm(x::<b>AbstractArray{T,1}</b>, xmean) at <a href=\"https://github.com/JuliaLang/julia/tree/2e358ce975029ec97aba5994c17d4a2169c3b085/base/statistics.jl#L277\" target=\"_blank\">statistics.jl:277</a><li> covm(x::<b>AbstractArray{T,2}</b>, xmean) at <a href=\"https://github.com/JuliaLang/julia/tree/2e358ce975029ec97aba5994c17d4a2169c3b085/base/statistics.jl#L280\" target=\"_blank\">statistics.jl:280</a><li> covm(x::<b>AbstractArray{T,1}</b>, xmean, y::<b>AbstractArray{T,1}</b>, ymean) at <a href=\"https://github.com/JuliaLang/julia/tree/2e358ce975029ec97aba5994c17d4a2169c3b085/base/statistics.jl#L283\" target=\"_blank\">statistics.jl:283</a><li> covm(x::<b>Union{AbstractArray{T,1},AbstractArray{T,2}}</b>, xmean, y::<b>Union{AbstractArray{T,1},AbstractArray{T,2}}</b>, ymean) at <a href=\"https://github.com/JuliaLang/julia/tree/2e358ce975029ec97aba5994c17d4a2169c3b085/base/statistics.jl#L286\" target=\"_blank\">statistics.jl:286</a></ul>"
      ],
      "text/plain": [
       "# 4 methods for generic function \"covm\":\n",
       "covm(x::AbstractArray{T,1}, xmean) at statistics.jl:277\n",
       "covm(x::AbstractArray{T,2}, xmean) at statistics.jl:280\n",
       "covm(x::AbstractArray{T,1}, xmean, y::AbstractArray{T,1}, ymean) at statistics.jl:283\n",
       "covm(x::Union{AbstractArray{T,1},AbstractArray{T,2}}, xmean, y::Union{AbstractArray{T,1},AbstractArray{T,2}}, ymean) at statistics.jl:286"
      ]
     },
     "execution_count": 17,
     "metadata": {},
     "output_type": "execute_result"
    }
   ],
   "source": [
    "methods(Base.covm)\n"
   ]
  },
  {
   "cell_type": "code",
   "execution_count": 3,
   "metadata": {
    "collapsed": false
   },
   "outputs": [
    {
     "data": {
      "text/html": [
       "5 methods for generic function <b>jacobian</b>:<ul><li> jacobian(result::<b>ForwardDiff.ForwardDiffResult{T}</b>) at <a href=\"https://github.com/JuliaDiff/ForwardDiff.jl/tree/d723cfc9c94a8fae1b5637e1a4562c572b1e603f/src/api/ForwardDiffResult.jl#L84\" target=\"_blank\">/home/krzysztof/.julia/v0.4/ForwardDiff/src/api/ForwardDiffResult.jl:84</a><li> jacobian(f) at <a href=\"https://github.com/JuliaDiff/ForwardDiff.jl/tree/d723cfc9c94a8fae1b5637e1a4562c572b1e603f/src/api/jacobian.jl#L49\" target=\"_blank\">/home/krzysztof/.julia/v0.4/ForwardDiff/src/api/jacobian.jl:49</a><li> jacobian<i>{T}</i>(f, x::<b>Array{T,1}</b>) at <a href=\"https://github.com/JuliaDiff/ForwardDiff.jl/tree/d723cfc9c94a8fae1b5637e1a4562c572b1e603f/src/api/jacobian.jl#L27\" target=\"_blank\">/home/krzysztof/.julia/v0.4/ForwardDiff/src/api/jacobian.jl:27</a><li> jacobian<i>{T,A}</i>(f, x::<b>Array{T,1}</b>, ::<b>Type{A}</b>) at <a href=\"https://github.com/JuliaDiff/ForwardDiff.jl/tree/d723cfc9c94a8fae1b5637e1a4562c572b1e603f/src/api/jacobian.jl#L27\" target=\"_blank\">/home/krzysztof/.julia/v0.4/ForwardDiff/src/api/jacobian.jl:27</a><li> jacobian<i>{A}</i>(f, ::<b>Type{A}</b>) at <a href=\"https://github.com/JuliaDiff/ForwardDiff.jl/tree/d723cfc9c94a8fae1b5637e1a4562c572b1e603f/src/api/jacobian.jl#L49\" target=\"_blank\">/home/krzysztof/.julia/v0.4/ForwardDiff/src/api/jacobian.jl:49</a></ul>"
      ],
      "text/plain": [
       "# 5 methods for generic function \"jacobian\":\n",
       "jacobian(result::ForwardDiff.ForwardDiffResult{T}) at /home/krzysztof/.julia/v0.4/ForwardDiff/src/api/ForwardDiffResult.jl:84\n",
       "jacobian(f) at /home/krzysztof/.julia/v0.4/ForwardDiff/src/api/jacobian.jl:49\n",
       "jacobian{T}(f, x::Array{T,1}) at /home/krzysztof/.julia/v0.4/ForwardDiff/src/api/jacobian.jl:27\n",
       "jacobian{T,A}(f, x::Array{T,1}, ::Type{A}) at /home/krzysztof/.julia/v0.4/ForwardDiff/src/api/jacobian.jl:27\n",
       "jacobian{A}(f, ::Type{A}) at /home/krzysztof/.julia/v0.4/ForwardDiff/src/api/jacobian.jl:49"
      ]
     },
     "execution_count": 3,
     "metadata": {},
     "output_type": "execute_result"
    }
   ],
   "source": [
    "methods(ForwardDiff.jacobian)"
   ]
  },
  {
   "cell_type": "code",
   "execution_count": 1,
   "metadata": {
    "collapsed": false
   },
   "outputs": [
    {
     "data": {
      "text/plain": [
       "4"
      ]
     },
     "execution_count": 1,
     "metadata": {},
     "output_type": "execute_result"
    }
   ],
   "source": [
    "2+2"
   ]
  },
  {
   "cell_type": "code",
   "execution_count": 5,
   "metadata": {
    "collapsed": false
   },
   "outputs": [
    {
     "data": {
      "text/plain": [
       "3-element Array{Any,1}:\n",
       " [4,1,1]\n",
       " [3,2,1]\n",
       " [2,2,2]"
      ]
     },
     "execution_count": 5,
     "metadata": {},
     "output_type": "execute_result"
    }
   ],
   "source": [
    "collect(partitions(6,3))"
   ]
  },
  {
   "cell_type": "code",
   "execution_count": 6,
   "metadata": {
    "collapsed": false
   },
   "outputs": [
    {
     "data": {
      "text/plain": [
       "part (generic function with 1 method)"
      ]
     },
     "execution_count": 6,
     "metadata": {},
     "output_type": "execute_result"
    }
   ],
   "source": [
    "splitind(n::Vector{Int}, pe::Vector{Vector{Int}}) = map(p->n[p], pe)\n",
    "\n",
    "function productseg{T <: AbstractFloat}(s::Int, N::Int, part::Vector{Vector{Int}}, c::Array{T}...)\n",
    "  ret = zeros(T, fill(s, N)...)\n",
    "  for i = 1:(s^N)\n",
    "    ind = ind2sub((fill(s, N)...), i)\n",
    "    pe = splitind(collect(ind), part)\n",
    "    @inbounds ret[ind...] = mapreduce(i -> c[i][pe[i]...], *, 1:size(part, 1))\n",
    "  end\n",
    "  ret\n",
    "end\n",
    "\n",
    "sortpart(ls::Vector{Vector{Int}}) = ls[sortperm(map(length, ls))]\n",
    "si(ls::Vector{Vector{Int}}) = map(length, ls)\n",
    "\n",
    "function partitionsind(part::Vector{Int})\n",
    "  ret = Vector{Vector{Int}}[]\n",
    "  N = sum(part)\n",
    "  for p in partitions(1:N, length(part))\n",
    "    p = sortpart(p)\n",
    "    if (mapreduce(i -> (length(p[i]) == part[i]), *, 1:length(part)))\n",
    "      push!(ret, p)\n",
    "    end\n",
    "  end\n",
    "  N, ret\n",
    "end\n",
    "\n",
    "function findpart(n::Int)\n",
    "  ret = Vector{Int}[]\n",
    "  for k = 2:floor(Int, n/2), p in partitions(n, k)\n",
    "    (1 in p)? (): push!(ret, sort(p))\n",
    "  end\n",
    "  ret\n",
    "end\n",
    "\n",
    "function part(n::Int, sigma::Int)\n",
    "    perm = Vector{Vector{Int}}[]\n",
    "    corder = Vector{Int}[]\n",
    "    for p in partitions(1:n, sigma)\n",
    "        s = map(length, p)\n",
    "        (1 in s)? (): (push!(perm, p), push!(corder, s))\n",
    "    end\n",
    "    perm, corder, size(corder, 1)\n",
    "end\n",
    "    "
   ]
  },
  {
   "cell_type": "code",
   "execution_count": 8,
   "metadata": {
    "collapsed": false
   },
   "outputs": [
    {
     "data": {
      "text/plain": [
       "15"
      ]
     },
     "execution_count": 8,
     "metadata": {},
     "output_type": "execute_result"
    }
   ],
   "source": [
    "a, b, c = part(6,3)\n",
    "c"
   ]
  },
  {
   "cell_type": "code",
   "execution_count": 17,
   "metadata": {
    "collapsed": false
   },
   "outputs": [
    {
     "data": {
      "text/plain": [
       "(6,[[[5,6],[1,2,3,4]],[[4,6],[1,2,3,5]],[[4,5],[1,2,3,6]],[[3,6],[1,2,4,5]],[[3,5],[1,2,4,6]],[[3,4],[1,2,5,6]],[[1,2],[3,4,5,6]],[[2,6],[1,3,4,5]],[[2,5],[1,3,4,6]],[[2,4],[1,3,5,6]],[[1,3],[2,4,5,6]],[[2,3],[1,4,5,6]],[[1,4],[2,3,5,6]],[[1,5],[2,3,4,6]],[[1,6],[2,3,4,5]]])"
      ]
     },
     "execution_count": 17,
     "metadata": {},
     "output_type": "execute_result"
    }
   ],
   "source": [
    "partitionsind([2,4])"
   ]
  },
  {
   "cell_type": "code",
   "execution_count": 18,
   "metadata": {
    "collapsed": false
   },
   "outputs": [
    {
     "data": {
      "text/plain": [
       "(10,[[[8,9,10],[1,2,3,4,5,6,7]],[[7,9,10],[1,2,3,4,5,6,8]],[[7,8,10],[1,2,3,4,5,6,9]],[[7,8,9],[1,2,3,4,5,6,10]],[[6,9,10],[1,2,3,4,5,7,8]],[[6,8,10],[1,2,3,4,5,7,9]],[[6,8,9],[1,2,3,4,5,7,10]],[[6,7,10],[1,2,3,4,5,8,9]],[[6,7,9],[1,2,3,4,5,8,10]],[[6,7,8],[1,2,3,4,5,9,10]]  …  [[1,6,7],[2,3,4,5,8,9,10]],[[1,6,8],[2,3,4,5,7,9,10]],[[1,6,9],[2,3,4,5,7,8,10]],[[1,6,10],[2,3,4,5,7,8,9]],[[1,7,8],[2,3,4,5,6,9,10]],[[1,7,9],[2,3,4,5,6,8,10]],[[1,7,10],[2,3,4,5,6,8,9]],[[1,8,9],[2,3,4,5,6,7,10]],[[1,8,10],[2,3,4,5,6,7,9]],[[1,9,10],[2,3,4,5,6,7,8]]])"
      ]
     },
     "execution_count": 18,
     "metadata": {},
     "output_type": "execute_result"
    }
   ],
   "source": [
    "partitionsind([3,7])"
   ]
  },
  {
   "cell_type": "code",
   "execution_count": 11,
   "metadata": {
    "collapsed": false
   },
   "outputs": [
    {
     "ename": "LoadError",
     "evalue": "LoadError: MethodError: `splitind` has no method matching splitind(::Array{Int64,1}, ::Array{Array{Array{Int64,1},1},1})\nClosest candidates are:\n  splitind(::Array{Int64,1}, !Matched::Array{Array{Int64,1},1})\nwhile loading In[11], in expression starting on line 1",
     "output_type": "error",
     "traceback": [
      "LoadError: MethodError: `splitind` has no method matching splitind(::Array{Int64,1}, ::Array{Array{Array{Int64,1},1},1})\nClosest candidates are:\n  splitind(::Array{Int64,1}, !Matched::Array{Array{Int64,1},1})\nwhile loading In[11], in expression starting on line 1",
      ""
     ]
    }
   ],
   "source": [
    "splitind([1,2,3,4,5,6], part(6,2)[1])"
   ]
  },
  {
   "cell_type": "code",
   "execution_count": 2,
   "metadata": {
    "collapsed": false
   },
   "outputs": [
    {
     "ename": "LoadError",
     "evalue": "LoadError: UndefVarError: part not defined\nwhile loading In[2], in expression starting on line 1",
     "output_type": "error",
     "traceback": [
      "LoadError: UndefVarError: part not defined\nwhile loading In[2], in expression starting on line 1",
      ""
     ]
    }
   ],
   "source": [
    "a, b = part(6,2)"
   ]
  },
  {
   "cell_type": "code",
   "execution_count": 6,
   "metadata": {
    "collapsed": false
   },
   "outputs": [
    {
     "data": {
      "text/plain": [
       "false"
      ]
     },
     "execution_count": 6,
     "metadata": {},
     "output_type": "execute_result"
    }
   ],
   "source": [
    "10 % 3 == 0"
   ]
  },
  {
   "cell_type": "code",
   "execution_count": 11,
   "metadata": {
    "collapsed": false
   },
   "outputs": [
    {
     "ename": "LoadError",
     "evalue": "LoadError: MethodError: `ceil` has no method matching ceil(::Type{Int64}, ::Int64, ::Int64)\nClosest candidates are:\n  ceil{T<:Integer}(::Type{T<:Integer}, ::Integer)\n  ceil{R}(!Matched::AbstractArray{R,1}, ::Integer, ::Integer)\n  ceil{R}(!Matched::AbstractArray{R,2}, ::Integer, ::Integer)\n  ...\nwhile loading In[11], in expression starting on line 1",
     "output_type": "error",
     "traceback": [
      "LoadError: MethodError: `ceil` has no method matching ceil(::Type{Int64}, ::Int64, ::Int64)\nClosest candidates are:\n  ceil{T<:Integer}(::Type{T<:Integer}, ::Integer)\n  ceil{R}(!Matched::AbstractArray{R,1}, ::Integer, ::Integer)\n  ceil{R}(!Matched::AbstractArray{R,2}, ::Integer, ::Integer)\n  ...\nwhile loading In[11], in expression starting on line 1",
      ""
     ]
    }
   ],
   "source": [
    "ceil(Int, 5,2)"
   ]
  },
  {
   "cell_type": "code",
   "execution_count": null,
   "metadata": {
    "collapsed": true
   },
   "outputs": [],
   "source": []
  }
 ],
 "metadata": {
  "kernelspec": {
   "display_name": "Julia 0.4.5",
   "language": "julia",
   "name": "julia-0.4"
  },
  "language_info": {
   "file_extension": ".jl",
   "mimetype": "application/julia",
   "name": "julia",
   "version": "0.4.6"
  }
 },
 "nbformat": 4,
 "nbformat_minor": 0
}
