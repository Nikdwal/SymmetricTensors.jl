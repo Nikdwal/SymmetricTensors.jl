{
 "cells": [
  {
   "cell_type": "code",
   "execution_count": 1,
   "metadata": {
    "collapsed": false
   },
   "outputs": [
    {
     "name": "stderr",
     "output_type": "stream",
     "text": [
      "WARNING: Method definition reconstruct(Tensors.TuckerOperator) in module Tensors at /home/krzysztof/.julia/v0.5/Tensors/src/hosvd.jl:72 overwritten at /home/krzysztof/.julia/v0.5/Tensors/src/hosvd.jl:75.\n",
      "\n",
      "WARNING: deprecated syntax \"call(::Type{SymmetricTensor}, ...)\".\n",
      "Use \"(::Type{SymmetricTensor})(...)\" instead.\n"
     ]
    }
   ],
   "source": [
    "include(\"/home/krzysztof/Dokumenty/badania_iitis/tensors_symetric/tensor calculations/calc&codes/sym_tensor/src/SymmetricTensors.jl\")  \n",
    "include(\"Test.jl\")\n",
    "using Test"
   ]
  },
  {
   "cell_type": "code",
   "execution_count": 2,
   "metadata": {
    "collapsed": false
   },
   "outputs": [
    {
     "name": "stderr",
     "output_type": "stream",
     "text": [
      "WARNING: replacing module SymmetricTensors\n",
      "\n",
      "WARNING: deprecated syntax \"call(::Type{SymmetricTensor}, ...)\".\n",
      "Use \"(::Type{SymmetricTensor})(...)\" instead.\n"
     ]
    }
   ],
   "source": [
    "include(\"/home/krzysztof/Dokumenty/badania_iitis/tensors_symetric/tensor calculations/calc&codes/sym_tensor/src/SymmetricTensors.jl\")\n",
    "using SymmetricTensors\n",
    "importall SymmetricTensors"
   ]
  },
  {
   "cell_type": "code",
   "execution_count": 5,
   "metadata": {
    "collapsed": false
   },
   "outputs": [
    {
     "name": "stderr",
     "output_type": "stream",
     "text": [
      "WARNING: Method definition clcopulagen(Int64, Int64) in module Main at /home/krzysztof/Dokumenty/badania_iitis/tensors_symetric/tensor calculations/calc&codes/sym_tensor/test/copulagen.jl:4 overwritten at /home/krzysztof/Dokumenty/badania_iitis/tensors_symetric/tensor calculations/calc&codes/sym_tensor/test/copulagen.jl:4.\n",
      "WARNING: Method definition mixedelements(Array{#T<:AbstractFloat, 1}, Array{#T<:AbstractFloat, 1}, Array{#T<:AbstractFloat, 1}, Array{#T<:AbstractFloat, 1}) in module Main at /home/krzysztof/Dokumenty/badania_iitis/tensors_symetric/tensor calculations/calc&codes/sym_tensor/test/naivecum.jl:3 overwritten at /home/krzysztof/Dokumenty/badania_iitis/tensors_symetric/tensor calculations/calc&codes/sym_tensor/test/naivecum.jl:3.\n",
      "WARNING: Method definition cumulantelement(Array{#T<:AbstractFloat, 1}, Array{#T<:AbstractFloat, 1}, Array{#T<:AbstractFloat, 1}, Array{#T<:AbstractFloat, 1}) in module Main at /home/krzysztof/Dokumenty/badania_iitis/tensors_symetric/tensor calculations/calc&codes/sym_tensor/test/naivecum.jl:4 overwritten at /home/krzysztof/Dokumenty/badania_iitis/tensors_symetric/tensor calculations/calc&codes/sym_tensor/test/naivecum.jl:4.\n",
      "WARNING: Method definition mixedelements(Array{#T<:AbstractFloat, 1}, Array{#T<:AbstractFloat, 1}, Array{#T<:AbstractFloat, 1}, Array{#T<:AbstractFloat, 1}, Array{#T<:AbstractFloat, 1}) in module Main at /home/krzysztof/Dokumenty/badania_iitis/tensors_symetric/tensor calculations/calc&codes/sym_tensor/test/naivecum.jl:7 overwritten at /home/krzysztof/Dokumenty/badania_iitis/tensors_symetric/tensor calculations/calc&codes/sym_tensor/test/naivecum.jl:7.\n",
      "WARNING: Method definition cumulantelement(Array{#T<:AbstractFloat, 1}, Array{#T<:AbstractFloat, 1}, Array{#T<:AbstractFloat, 1}, Array{#T<:AbstractFloat, 1}, Array{#T<:AbstractFloat, 1}) in module Main at /home/krzysztof/Dokumenty/badania_iitis/tensors_symetric/tensor calculations/calc&codes/sym_tensor/test/naivecum.jl:10 overwritten at /home/krzysztof/Dokumenty/badania_iitis/tensors_symetric/tensor calculations/calc&codes/sym_tensor/test/naivecum.jl:10.\n",
      "WARNING: Method definition naivecumulant(Array{#T<:AbstractFloat, 2}) in module Main at /home/krzysztof/Dokumenty/badania_iitis/tensors_symetric/tensor calculations/calc&codes/sym_tensor/test/naivecum.jl:13 overwritten at /home/krzysztof/Dokumenty/badania_iitis/tensors_symetric/tensor calculations/calc&codes/sym_tensor/test/naivecum.jl:13.\n",
      "WARNING: Method definition naivecumulant(Array{#T<:AbstractFloat, 2}, Int64) in module Main at /home/krzysztof/Dokumenty/badania_iitis/tensors_symetric/tensor calculations/calc&codes/sym_tensor/test/naivecum.jl:13 overwritten at /home/krzysztof/Dokumenty/badania_iitis/tensors_symetric/tensor calculations/calc&codes/sym_tensor/test/naivecum.jl:13.\n"
     ]
    },
    {
     "data": {
      "text/plain": [
       "naivecumulant (generic function with 2 methods)"
      ]
     },
     "execution_count": 5,
     "metadata": {},
     "output_type": "execute_result"
    }
   ],
   "source": [
    "include(\"copulagen.jl\")\n",
    "include(\"naivecum.jl\")"
   ]
  },
  {
   "cell_type": "code",
   "execution_count": null,
   "metadata": {
    "collapsed": false,
    "scrolled": true
   },
   "outputs": [],
   "source": [
    "i = 1000000\n",
    "\n",
    "s = 3\n",
    "\n",
    "for size in [36, 39]\n",
    "    data = clcopulagen(i, size);\n",
    "    @time cumulants(3, data, s);\n",
    "    @time cumulants(4, data, s);\n",
    "    @time naivecumulant(data, 4);\n",
    "end"
   ]
  },
  {
   "cell_type": "code",
   "execution_count": null,
   "metadata": {
    "collapsed": false
   },
   "outputs": [],
   "source": [
    "data = clcopulagen(120000, 21);"
   ]
  },
  {
   "cell_type": "code",
   "execution_count": 10,
   "metadata": {
    "collapsed": false
   },
   "outputs": [
    {
     "name": "stdout",
     "output_type": "stream",
     "text": [
      " 31.625345 seconds (3.17 M allocations: 120.542 GB, 17.60% gc time)\n",
      "261.980526 seconds (53.52 M allocations: 1.008 TB, 12.22% gc time)\n",
      "39413.502460 seconds (1.67 G allocations: 139.120 TB, 10.17% gc time)\n"
     ]
    }
   ],
   "source": [
    "o = 5\n",
    "\n",
    "@time cumulants(o-1, data, 3);\n",
    "@time cumulants(o, data, 3);\n",
    "#@time naivecumulant(data, o);"
   ]
  },
  {
   "cell_type": "code",
   "execution_count": null,
   "metadata": {
    "collapsed": false
   },
   "outputs": [],
   "source": [
    "for o in collect(6:7)\n",
    "    @time c = cumulants(o, data, 3);\n",
    "end\n",
    "#cn = naivecumulant(data, 5);\n"
   ]
  },
  {
   "cell_type": "code",
   "execution_count": null,
   "metadata": {
    "collapsed": true
   },
   "outputs": [],
   "source": [
    " 71.781549 seconds (45.45 M allocations: 211.876 GB, 14.92% gc time)\n",
    "475\n",
    "\n",
    "#1000000 15 3 \n",
    "#115.607918 seconds (1.14 M allocations: 343.700 GB, 32.13% gc time)\n",
    "#3237.854221 seconds (6.58 M allocations: 4.789 TB, 54.23% gc time)\n",
    "#1000000 30 3 \n",
    "#1128.944750 seconds (10.66 M allocations: 3.257 TB, 33.08% gc time)\n",
    "#51451.271712 seconds (105.31 M allocations: 76.620 TB, 54.45% gc time)\n",
    "#33\n",
    "#1582.785217 seconds (14.75 M allocations: 4.534 TB, 34.03% gc time)\n",
    "#78787.640539 seconds (154.18 M allocations: 112.179 TB, 56.60% gc time)\n",
    "#36\n",
    "#2146.416321 seconds (19.94 M allocations: 6.152 TB, 34.07% gc time)\n",
    "#111770.945808 seconds (218.35 M allocations: 158.878 TB, 56.68% gc time)\n",
    "\n",
    "test = convert(Array, c[4]) - cn\n",
    "maximum(abs(test))"
   ]
  },
  {
   "cell_type": "code",
   "execution_count": 95,
   "metadata": {
    "collapsed": false
   },
   "outputs": [
    {
     "data": {
      "text/plain": [
       "tweak! (generic function with 1 method)"
      ]
     },
     "execution_count": 95,
     "metadata": {},
     "output_type": "execute_result"
    }
   ],
   "source": []
  },
  {
   "cell_type": "code",
   "execution_count": 37,
   "metadata": {
    "collapsed": false
   },
   "outputs": [
    {
     "data": {
      "text/plain": [
       "testpart (generic function with 1 method)"
      ]
     },
     "execution_count": 37,
     "metadata": {},
     "output_type": "execute_result"
    }
   ],
   "source": [
    "function tweak!(a::Array{Int})\n",
    "    a[1] -= 1\n",
    "    a[2] += 1\n",
    "end\n",
    "\n",
    "function h4(a::Array{Int})\n",
    "    for j in 3:length(a)\n",
    "        if a[j] < (a[1])\n",
    "            s = sum(a[1:(j-1)])-1\n",
    "            return j, s\n",
    "        end\n",
    "    end\n",
    "    0,0\n",
    "end\n",
    "\n",
    "function h56!(a::Array{Int})\n",
    "    j, s = h4(a)\n",
    "    a[j] += 1\n",
    "    x = a[j]\n",
    "    j -= 1\n",
    "    for i in 2:j\n",
    "        a[i] = x\n",
    "    end\n",
    "    a[1] = s - (j-1)*x;\n",
    "#    a\n",
    "end\n",
    "\n",
    "function mypart(n::Int,sigma::Int, rmin::Int = 1)\n",
    "    ret = Vector{Int}[]\n",
    "    a = [n-(sigma-1)*rmin, fill(rmin, (sigma-1))..., -1]\n",
    "    for i in 1:factorial(n)\n",
    "        if a[2] > a[1]\n",
    "            h56!(a)\n",
    "            if a[end] >= 0\n",
    "                return ret\n",
    "            end\n",
    "        else\n",
    "            push!(ret, [a...][1:(end-1)]) \n",
    "            tweak!(a)\n",
    "        end\n",
    "    end\n",
    "    ret\n",
    "end\n",
    "\n",
    "function testpart(n::Int, sigma::Int)\n",
    "    ret = Vector{Int}[]\n",
    "    for p in partitions(n, sigma)\n",
    "    (1 in p)? (): (push!(ret, p))\n",
    "    end\n",
    "    ret\n",
    "end\n",
    "    "
   ]
  },
  {
   "cell_type": "code",
   "execution_count": 38,
   "metadata": {
    "collapsed": false
   },
   "outputs": [
    {
     "data": {
      "text/plain": [
       "1-element Array{Array{Int64,1},1}:\n",
       " [2,2,2]"
      ]
     },
     "execution_count": 38,
     "metadata": {},
     "output_type": "execute_result"
    }
   ],
   "source": [
    "testpart(6,3)"
   ]
  },
  {
   "cell_type": "code",
   "execution_count": 42,
   "metadata": {
    "collapsed": false
   },
   "outputs": [
    {
     "name": "stdout",
     "output_type": "stream",
     "text": [
      "[[0,0],[0,0],[0,0],[0,0],[0,0],[0,0]]\n",
      "[[0,0,0],[0,0,0],[0,0,0],[0,0,0],[0,0,0],[0,0,0],[0,0,0],[0,0,0],[0,0,0],[0,0,0],[0,0,0],[0,0,0]]\n",
      "[[0,0,0,0],[0,0,0,0],[0,0,0,0],[0,0,0,0],[0,0,0,0],[0,0,0,0],[0,0,0,0],[0,0,0,0],[0,0,0,0],[0,0,0,0],[0,0,0,0]]\n",
      "[[0,0,0,0,0],[0,0,0,0,0],[0,0,0,0,0],[0,0,0,0,0],[0,0,0,0,0],[0,0,0,0,0],[0,0,0,0,0]]\n",
      "[[0,0,0,0,0,0],[0,0,0,0,0,0],[0,0,0,0,0,0]]\n",
      "[[0,0,0,0,0,0,0]]\n"
     ]
    }
   ],
   "source": [
    "\n",
    "\n",
    "for i in 2:7\n",
    "    println(mypart(15,i,2)-testpart(15,i))\n",
    "end"
   ]
  },
  {
   "cell_type": "code",
   "execution_count": 22,
   "metadata": {
    "collapsed": false
   },
   "outputs": [
    {
     "data": {
      "text/plain": [
       "mysetpart (generic function with 2 methods)"
      ]
     },
     "execution_count": 22,
     "metadata": {},
     "output_type": "execute_result"
    }
   ],
   "source": [
    "initialize(n::Int) = zeros(Int, n), [1 for i in 1:(n-1)], 1\n",
    "function increase(a::Array, n::Int)\n",
    "    a[n] += 1\n",
    "    a\n",
    "end\n",
    "\n",
    "function h4(a::Array{Int}, b::Array{Int}, n::Int)\n",
    "    for j in (n-1):(-1):1\n",
    "        if a[j] != b[j]\n",
    "            return j\n",
    "        end\n",
    "    end\n",
    "    0\n",
    "end\n",
    "\n",
    "function record1!(ret, a::Array{Int}, m::Int, n::Int, sigma::Int)\n",
    "    (m + (m == a[n]) == sigma)? push!(ret, [a...]): ()\n",
    "end\n",
    "\n",
    "function record!(ret, a::Array{Int}, m::Int, n::Int, sigma::Int)\n",
    "    (m + (m == a[n]) == sigma)? push!(ret, transfer(n, [a...])): ()\n",
    "end\n",
    "\n",
    "function h25!(ret, a::Array{Int}, b::Array{Int}, m::Int, n::Int, sigma::Int)\n",
    "    record!(ret, a, m, n, sigma)\n",
    "    for i in 1:n\n",
    "        a = increase(a, n)\n",
    "        record!(ret, a, m, n, sigma)\n",
    "        if (a[n] == m)\n",
    "            break\n",
    "        end\n",
    "    end\n",
    "    j = h4(a,b,n)\n",
    "    (j == 1)? (): (a[j] += 1)\n",
    "    a, j\n",
    "end\n",
    "\n",
    "function h6(a::Vector{Int}, b::Vector{Int}, m::Int, n::Int, j::Int)\n",
    "    m = b[j] + (a[j] == b[j])\n",
    "    j += 1\n",
    "    for i in j:(n-1)\n",
    "        a[i] = 0\n",
    "        b[i] = m\n",
    "    end\n",
    "    a[n] = 0\n",
    "    j = j+1\n",
    "    a,b,m\n",
    "end\n",
    "\n",
    "function transfer(n::Int, a::Vector{Int})\n",
    "    ret = Vector{Int}[]\n",
    "    seq = collect(1:n)\n",
    "    for k in 0:maximum(a)\n",
    "        temp = Int[]\n",
    "        for i in 1:n\n",
    "            if a[i] == k\n",
    "                push!(temp, seq[i])\n",
    "            end\n",
    "        end\n",
    "        push!(ret, temp)\n",
    "    end\n",
    "    ret\n",
    "end\n",
    "\n",
    "function mysetpart(n::Int, sigma::Int)\n",
    "    ret = Vector{Vector{Int}}[]\n",
    "    #ret = Vector{Int}[]\n",
    "    a, b,m = initialize(n)\n",
    "    for i in 1:factorial(n)\n",
    "        a, j = h25!(ret, a,b,m,n, sigma)\n",
    "        if j == 1\n",
    "            break\n",
    "        else\n",
    "            a, b,m = h6(a,b,m,n,j)\n",
    "        end\n",
    "    end\n",
    "    ret\n",
    "end"
   ]
  },
  {
   "cell_type": "code",
   "execution_count": 65,
   "metadata": {
    "collapsed": false
   },
   "outputs": [
    {
     "name": "stdout",
     "output_type": "stream",
     "text": [
      "  0.000146 seconds (1.29 k allocations: 105.719 KB)\n"
     ]
    },
    {
     "data": {
      "text/plain": [
       "90-element Array{Array{Array{Int64,1},1},1}:\n",
       " [[1,2,3,4],[5],[6]]\n",
       " [[1,2,3,5],[4],[6]]\n",
       " [[1,2,3],[4,5],[6]]\n",
       " [[1,2,3,6],[4],[5]]\n",
       " [[1,2,3],[4,6],[5]]\n",
       " [[1,2,3],[4],[5,6]]\n",
       " [[1,2,4,5],[3],[6]]\n",
       " [[1,2,4],[3,5],[6]]\n",
       " [[1,2,4,6],[3],[5]]\n",
       " [[1,2,4],[3,6],[5]]\n",
       " [[1,2,4],[3],[5,6]]\n",
       " [[1,2,5],[3,4],[6]]\n",
       " [[1,2],[3,4,5],[6]]\n",
       " ⋮                  \n",
       " [[1,6],[2,4],[3,5]]\n",
       " [[1],[2,4,6],[3,5]]\n",
       " [[1],[2,4],[3,5,6]]\n",
       " [[1,5,6],[2],[3,4]]\n",
       " [[1,5],[2,6],[3,4]]\n",
       " [[1,5],[2],[3,4,6]]\n",
       " [[1,6],[2,5],[3,4]]\n",
       " [[1],[2,5,6],[3,4]]\n",
       " [[1],[2,5],[3,4,6]]\n",
       " [[1,6],[2],[3,4,5]]\n",
       " [[1],[2,6],[3,4,5]]\n",
       " [[1],[2],[3,4,5,6]]"
      ]
     },
     "execution_count": 65,
     "metadata": {},
     "output_type": "execute_result"
    }
   ],
   "source": [
    "n = 6\n",
    "sigma = 3\n",
    "@time mysetpart(n, sigma) \n",
    "#@time collect(partitions(collect(1:n),sigma))"
   ]
  },
  {
   "cell_type": "code",
   "execution_count": 108,
   "metadata": {
    "collapsed": false
   },
   "outputs": [
    {
     "data": {
      "text/plain": [
       "mysetpart (generic function with 2 methods)"
      ]
     },
     "execution_count": 108,
     "metadata": {},
     "output_type": "execute_result"
    }
   ],
   "source": [
    "initialize(n::Int) = zeros(Int, n), [1 for i in 1:(n-1)], 1\n",
    "\n",
    "function increase(a::Array, n::Int)\n",
    "    a[n] += 1\n",
    "    a\n",
    "end\n",
    "\n",
    "function h4(a::Array{Int}, b::Array{Int}, n::Int)\n",
    "    for j in (n-1):(-1):1\n",
    "        if a[j] != b[j]\n",
    "            return j\n",
    "        end\n",
    "    end\n",
    "    0\n",
    "end\n",
    "\n",
    "function record1!(ret, a::Array{Int}, m::Int, n::Int, sigma::Int)\n",
    "    (m + (m == a[n]) == sigma)? push!(ret, [a...]): ()\n",
    "end\n",
    "\n",
    "function record!(ret, ret1, a::Array{Int}, m::Int, n::Int, sigma::Int)\n",
    "    if m + (m == a[n]) == sigma\n",
    "        c = counts([a...], 0:(sigma-1))\n",
    "        if !(1 in c)\n",
    "            push!(ret, transfer(n, [a...]))\n",
    "            push!(ret1, c)\n",
    "        end\n",
    "    end\n",
    "end\n",
    "\n",
    "function h25!(ret, ret1, a::Array{Int}, b::Array{Int}, m::Int, n::Int, sigma::Int)\n",
    "    record!(ret, ret1, a, m, n, sigma)\n",
    "    for i in 1:n\n",
    "        a = increase(a, n)\n",
    "        record!(ret, ret1, a, m, n, sigma)\n",
    "        if (a[n] == m)\n",
    "            break\n",
    "        end\n",
    "    end\n",
    "    j = h4(a,b,n)\n",
    "    (j == 1)? (): (a[j] += 1)\n",
    "    a, j\n",
    "end\n",
    "\n",
    "function h6(a::Vector{Int}, b::Vector{Int}, m::Int, n::Int, j::Int)\n",
    "    m = b[j] + (a[j] == b[j])\n",
    "    j += 1\n",
    "    for i in j:(n-1)\n",
    "        a[i] = 0\n",
    "        b[i] = m\n",
    "    end\n",
    "    a[n] = 0\n",
    "    j = j+1\n",
    "    a,b,m\n",
    "end\n",
    "\n",
    "function transfer(n::Int, a::Vector{Int})\n",
    "    ret = Vector{Int}[]\n",
    "    seq = collect(1:n)\n",
    "    for k in 0:maximum(a)\n",
    "        temp = Int[]\n",
    "        for i in 1:n\n",
    "            if a[i] == k\n",
    "                push!(temp, seq[i])\n",
    "            end\n",
    "        end\n",
    "        push!(ret, temp)\n",
    "    end\n",
    "    ret\n",
    "end\n",
    "\n",
    "function mysetpart(n::Int, sigma::Int)\n",
    "    ret = Vector{Vector{Int}}[]\n",
    "    ret1 = Vector{Int}[]\n",
    "    #ret = Vector{Int}[]\n",
    "    a, b,m = initialize(n)\n",
    "    for i in 1:factorial(n)\n",
    "        a, j = h25!(ret, ret1, a,b,m,n, sigma)\n",
    "        if j == 1\n",
    "            break\n",
    "        else\n",
    "            a, b,m = h6(a,b,m,n,j)\n",
    "        end\n",
    "    end\n",
    "    ret, ret1, length(ret1)\n",
    "end\n"
   ]
  },
  {
   "cell_type": "code",
   "execution_count": 301,
   "metadata": {
    "collapsed": false
   },
   "outputs": [
    {
     "name": "stdout",
     "output_type": "stream",
     "text": [
      "  0.000047 seconds (230 allocations: 21.594 KB)\n",
      "  0.000107 seconds (426 allocations: 21.984 KB)\n"
     ]
    },
    {
     "data": {
      "text/plain": [
       "10-element Array{Array{Array{Int64,1},1},1}:\n",
       " [[1,2,3],[4,5]]\n",
       " [[1,2,4],[3,5]]\n",
       " [[1,2,5],[3,4]]\n",
       " [[1,2],[3,4,5]]\n",
       " [[1,3,4],[2,5]]\n",
       " [[1,3,5],[2,4]]\n",
       " [[1,3],[2,4,5]]\n",
       " [[1,4,5],[2,3]]\n",
       " [[1,4],[2,3,5]]\n",
       " [[1,5],[2,3,4]]"
      ]
     },
     "execution_count": 301,
     "metadata": {},
     "output_type": "execute_result"
    }
   ],
   "source": [
    "n = 5\n",
    "sigma = 2\n",
    "\n",
    "@time p = mysetpart(n, sigma)[1]\n",
    "pt = mysetpart(n, sigma)[1]\n",
    "@time p1 = indpart(n, sigma)[1]\n"
   ]
  },
  {
   "cell_type": "code",
   "execution_count": null,
   "metadata": {
    "collapsed": false
   },
   "outputs": [
    {
     "name": "stdout",
     "output_type": "stream",
     "text": [
      "true\n",
      "true\n",
      "true\n",
      "true\n",
      "true\n",
      "true\n",
      "true\n",
      "true\n",
      "true\n",
      "true\n",
      "true\n",
      "true\n",
      "true\n",
      "true\n",
      "true\n",
      "true\n",
      "true\n"
     ]
    }
   ],
   "source": [
    "function testpartitions(p::Vector{Vector{Vector{Int}}}, p1::Vector{Vector{Vector{Int}}})\n",
    "    if length(p) != length(p1)\n",
    "        return false\n",
    "    end\n",
    "    for i in 1:length(p) \n",
    "        if !(p1[i] in p) \n",
    "            return false\n",
    "        end\n",
    "        if !(p[i] in p1) \n",
    "            return false\n",
    "        end\n",
    "    end\n",
    "    return true\n",
    "end\n",
    "\n",
    "n = 5\n",
    "\n",
    "for n = 4:14, sigma = 2:floor(Int, n/2)\n",
    "    println(testpartitions(mysetpart(n, sigma)[1], indpart(n, sigma)[1]))\n",
    "end"
   ]
  },
  {
   "cell_type": "code",
   "execution_count": 120,
   "metadata": {
    "collapsed": false
   },
   "outputs": [
    {
     "data": {
      "text/plain": [
       "3-element Array{Array{Array{Int64,1},1},1}:\n",
       " [[1,4],[2,3],[5,6]]\n",
       " [[1,3],[2,5],[4,6]]\n",
       " [[1,3],[2,6],[4,5]]"
      ]
     },
     "execution_count": 120,
     "metadata": {},
     "output_type": "execute_result"
    }
   ],
   "source": [
    "p = mysetpart(6,3)[1]\n",
    "indpart(6,3)[1][5:7]"
   ]
  },
  {
   "cell_type": "code",
   "execution_count": null,
   "metadata": {
    "collapsed": false
   },
   "outputs": [],
   "source": [
    "\n",
    "\n",
    "function testarr(arr::Vector{Vector{Vector{Int}}})\n",
    "    for i in arr\n",
    "        for j in i\n",
    "            for k in j\n",
    "                (k == 0)? (): (return k)\n",
    "            end\n",
    "        end\n",
    "    end\n",
    "    0\n",
    "end\n",
    "\n",
    "for n in 3:4\n",
    "    println(testarr(mysetpart(n)- collect(partitions(collect(1:n)))))\n",
    "end\n"
   ]
  },
  {
   "cell_type": "code",
   "execution_count": null,
   "metadata": {
    "collapsed": true
   },
   "outputs": [],
   "source": []
  },
  {
   "cell_type": "code",
   "execution_count": null,
   "metadata": {
    "collapsed": false
   },
   "outputs": [],
   "source": [
    "indpart(6,3)[1]"
   ]
  },
  {
   "cell_type": "code",
   "execution_count": 101,
   "metadata": {
    "collapsed": false
   },
   "outputs": [
    {
     "data": {
      "text/plain": [
       "4"
      ]
     },
     "execution_count": 101,
     "metadata": {},
     "output_type": "execute_result"
    }
   ],
   "source": [
    "n = 4\n",
    "a = zeros(Int, n)\n",
    "b = [1 for i in 1:n]\n",
    "ret = Array{Int}[]\n",
    "push!(ret, [a...]) \n",
    "m = 1\n",
    "b[n] = m\n",
    "for i in 1:n\n",
    "    a[n] += 1\n",
    "    (a[n]==m)? push!(ret, [a...]): (break) \n",
    "end\n",
    "a[n] = m\n",
    "j = 0\n",
    "for i in 1:n\n",
    "    if a[i] == b[i]\n",
    "        j = i-1\n",
    "    end\n",
    "end\n",
    "(j == 1)? (return ret): (a[j] += 1)\n",
    "push!(ret, [a...])\n",
    "for i in j:(n-1)\n",
    "    a[i] = 0\n",
    "    b[i] = m\n",
    "end\n",
    "j = j + 1\n"
   ]
  },
  {
   "cell_type": "code",
   "execution_count": 68,
   "metadata": {
    "collapsed": false
   },
   "outputs": [
    {
     "ename": "LoadError",
     "evalue": "LoadError: MethodError: `combinations` has no method matching combinations(::UnitRange{Int64}, ::Int64, ::Int64)\nClosest candidates are:\n  combinations(::Any, ::Integer)\nwhile loading In[68], in expression starting on line 1",
     "output_type": "error",
     "traceback": [
      "LoadError: MethodError: `combinations` has no method matching combinations(::UnitRange{Int64}, ::Int64, ::Int64)\nClosest candidates are:\n  combinations(::Any, ::Integer)\nwhile loading In[68], in expression starting on line 1",
      ""
     ]
    }
   ],
   "source": [
    "collect(combinations(1:4,2,2))"
   ]
  },
  {
   "cell_type": "code",
   "execution_count": 104,
   "metadata": {
    "collapsed": false
   },
   "outputs": [
    {
     "data": {
      "text/plain": [
       "24-element Array{Array{Int64,1},1}:\n",
       " [0,0,1,1]\n",
       " [0,0,1,1]\n",
       " [0,1,0,1]\n",
       " [0,1,1,0]\n",
       " [0,1,0,1]\n",
       " [0,1,1,0]\n",
       " [0,0,1,1]\n",
       " [0,0,1,1]\n",
       " [0,1,0,1]\n",
       " [0,1,1,0]\n",
       " [0,1,0,1]\n",
       " [0,1,1,0]\n",
       " [1,0,0,1]\n",
       " [1,0,1,0]\n",
       " [1,0,0,1]\n",
       " [1,0,1,0]\n",
       " [1,1,0,0]\n",
       " [1,1,0,0]\n",
       " [1,0,0,1]\n",
       " [1,0,1,0]\n",
       " [1,0,0,1]\n",
       " [1,0,1,0]\n",
       " [1,1,0,0]\n",
       " [1,1,0,0]"
      ]
     },
     "execution_count": 104,
     "metadata": {},
     "output_type": "execute_result"
    }
   ],
   "source": [
    "collect(permutations([0,0,1,1]))"
   ]
  },
  {
   "cell_type": "code",
   "execution_count": 110,
   "metadata": {
    "collapsed": false
   },
   "outputs": [
    {
     "data": {
      "text/plain": [
       "indpart (generic function with 1 method)"
      ]
     },
     "execution_count": 110,
     "metadata": {},
     "output_type": "execute_result"
    }
   ],
   "source": [
    "function indpart(n::Int, sigma::Int)\n",
    "    p = Vector{Vector{Int}}[]\n",
    "    r = Vector{Int}[]\n",
    "    for part in partitions(1:n, sigma)\n",
    "      s = map(length, part)\n",
    "      if !(1 in s)\n",
    "        push!(p, part)\n",
    "        push!(r, s)\n",
    "      end\n",
    "    end\n",
    "    p, r, length(r)\n",
    "end\n"
   ]
  },
  {
   "cell_type": "code",
   "execution_count": 5,
   "metadata": {
    "collapsed": false
   },
   "outputs": [
    {
     "data": {
      "text/plain": [
       "119"
      ]
     },
     "execution_count": 5,
     "metadata": {},
     "output_type": "execute_result"
    }
   ],
   "source": [
    "indpart(8,2)[3]"
   ]
  },
  {
   "cell_type": "code",
   "execution_count": 58,
   "metadata": {
    "collapsed": false
   },
   "outputs": [
    {
     "data": {
      "text/plain": [
       "su5 (generic function with 1 method)"
      ]
     },
     "execution_count": 58,
     "metadata": {},
     "output_type": "execute_result"
    }
   ],
   "source": [
    "function su2(n)\n",
    "    ret = 0\n",
    "    sigma = 2\n",
    "    for i in 2:(n- 2*sigma+2)\n",
    "        ret += div(factorial(n), (factorial(i)*factorial(n-i)))\n",
    "    end\n",
    "    div(ret, factorial(sigma))\n",
    "end\n",
    "function su3(n)\n",
    "    ret = 0\n",
    "    sigma = 3\n",
    "    for i in 2:(n- 2*sigma+2)\n",
    "        for j in 2:(n- 2*sigma+4-i)\n",
    "            ret += div(factorial(n), (factorial(i)*factorial(j)*factorial(n-i-j)))\n",
    "        end\n",
    "    end\n",
    "    div(ret, factorial(sigma))\n",
    "end\n",
    "function su4(n)\n",
    "    ret = 0\n",
    "    sigma = 4\n",
    "    for i in 2:(n- 2*sigma+2)\n",
    "        for j in 2:(n- 2*sigma+4-i)\n",
    "            for k in 2:(n- 2*sigma+6-i-j)\n",
    "                ret += div(factorial(n), (factorial(i)*factorial(j)*factorial(k)*factorial(n-i-j-k)))\n",
    "            end\n",
    "        end\n",
    "    end\n",
    "    div(ret, factorial(sigma))\n",
    "end\n",
    "\n",
    "function su5(n)\n",
    "    ret = 0\n",
    "    sigma = 5\n",
    "    for i in 2:(n- 2*sigma+2)\n",
    "        for j in 2:(n- 2*sigma+4-i)\n",
    "            for k in 2:(n- 2*sigma+6-i-j)\n",
    "                for l in 2:(n- 2*sigma+8-i-j-k)\n",
    "                    ret += div(factorial(n), (factorial(i)*factorial(j)*factorial(k)*factorial(l)*factorial(n-i-j-k-l)))\n",
    "                end\n",
    "            end\n",
    "        end\n",
    "    end\n",
    "    div(ret, factorial(sigma))\n",
    "end"
   ]
  },
  {
   "cell_type": "code",
   "execution_count": 64,
   "metadata": {
    "collapsed": false
   },
   "outputs": [
    {
     "data": {
      "text/plain": [
       "su5 (generic function with 1 method)"
      ]
     },
     "execution_count": 64,
     "metadata": {},
     "output_type": "execute_result"
    }
   ],
   "source": [
    "function su2(n)\n",
    "    ret = 0\n",
    "    sigma = 2\n",
    "    for i in 2:(n- 2*sigma+2)\n",
    "        ret += div(factorial(n), (factorial(i)*factorial(n-i)))\n",
    "    end\n",
    "    div(ret, factorial(sigma))*(sigma-1)\n",
    "end\n",
    "function su3(n)\n",
    "    ret = 0\n",
    "    sigma = 3\n",
    "    for i in 2:(n- 2*sigma+2)\n",
    "        for j in 2:(n- 2*sigma+4-i)\n",
    "            ret += div(factorial(n), (factorial(i)*factorial(j)*factorial(n-i-j)))\n",
    "        end\n",
    "    end\n",
    "    div(ret, factorial(sigma))*(sigma - 1)\n",
    "\n",
    "end\n",
    "function su4(n)\n",
    "    ret = 0\n",
    "    sigma = 4\n",
    "    for i in 2:(n- 2*sigma+2)\n",
    "        for j in 2:(n- 2*sigma+4-i)\n",
    "            for k in 2:(n- 2*sigma+6-i-j)\n",
    "                ret += div(factorial(n), (factorial(i)*factorial(j)*factorial(k)*factorial(n-i-j-k)))\n",
    "            end\n",
    "        end\n",
    "    end\n",
    "    div(ret, factorial(sigma))*(sigma-1)\n",
    "end\n",
    "\n",
    "function su5(n)\n",
    "    ret = 0\n",
    "    sigma = 5\n",
    "    for i in 2:(n- 2*sigma+2)\n",
    "        for j in 2:(n- 2*sigma+4-i)\n",
    "            for k in 2:(n- 2*sigma+6-i-j)\n",
    "                for l in 2:(n- 2*sigma+8-i-j-k)\n",
    "                    ret += div(factorial(n), (factorial(i)*factorial(j)*factorial(k)*factorial(l)*factorial(n-i-j-k-l)))\n",
    "                end\n",
    "            end\n",
    "        end\n",
    "    end\n",
    "    div(ret, factorial(sigma))*(sigma-1)\n",
    "end"
   ]
  },
  {
   "cell_type": "code",
   "execution_count": 65,
   "metadata": {
    "collapsed": false
   },
   "outputs": [
    {
     "name": "stdout",
     "output_type": "stream",
     "text": [
      "3\n",
      "10\n",
      "55\n",
      "266\n",
      "1414\n",
      "7862\n",
      "46281\n"
     ]
    }
   ],
   "source": [
    "println(su2(4))\n",
    "println(su2(5))\n",
    "println(su2(6)+su3(6))\n",
    "println(su2(7)+su3(7))\n",
    "println(su2(8)+su3(8)+su4(8))\n",
    "println(su2(9)+su3(9)+su4(9))\n",
    "println(su2(10)+su3(10)+su4(10)+su5(10))"
   ]
  },
  {
   "cell_type": "code",
   "execution_count": 52,
   "metadata": {
    "collapsed": false
   },
   "outputs": [
    {
     "data": {
      "text/plain": [
       "sum (generic function with 1 method)"
      ]
     },
     "execution_count": 52,
     "metadata": {},
     "output_type": "execute_result"
    }
   ],
   "source": [
    "function sum(n)\n",
    "    ret = 0\n",
    "    for sigma in 2: floor(Int, n/2)\n",
    "        ret += indpart(n,sigma)[3]\n",
    "    end\n",
    "    ret\n",
    "end"
   ]
  },
  {
   "cell_type": "code",
   "execution_count": 54,
   "metadata": {
    "collapsed": false
   },
   "outputs": [
    {
     "name": "stdout",
     "output_type": "stream",
     "text": [
      "3\n",
      "10\n",
      "40\n",
      "161\n",
      "714\n",
      "3424\n",
      "17721\n"
     ]
    }
   ],
   "source": [
    "for i in 4:10\n",
    "    println(sum(i))\n",
    "end"
   ]
  },
  {
   "cell_type": "code",
   "execution_count": 92,
   "metadata": {
    "collapsed": false
   },
   "outputs": [
    {
     "data": {
      "text/plain": [
       "indices (generic function with 1 method)"
      ]
     },
     "execution_count": 92,
     "metadata": {},
     "output_type": "execute_result"
    }
   ],
   "source": [
    "if nprocs() == 1\n",
    "    addprocs()\n",
    "end\n",
    "@everywhere begin\n",
    "    include(\"/home/krzysztof/Dokumenty/badania_iitis/tensors_symetric/tensor calculations/calc&codes/sym_tensor/src/Boxtensors.jl\")\n",
    "    using Boxtensors\n",
    "end\n",
    "importall Boxtensors"
   ]
  },
  {
   "cell_type": "code",
   "execution_count": 5,
   "metadata": {
    "collapsed": false
   },
   "outputs": [
    {
     "data": {
      "text/plain": [
       "1"
      ]
     },
     "execution_count": 5,
     "metadata": {},
     "output_type": "execute_result"
    }
   ],
   "source": [
    "ret = 1"
   ]
  },
  {
   "cell_type": "code",
   "execution_count": null,
   "metadata": {
    "collapsed": true
   },
   "outputs": [],
   "source": []
  }
 ],
 "metadata": {
  "kernelspec": {
   "display_name": "Julia 0.5.0",
   "language": "julia",
   "name": "julia-0.5"
  },
  "language_info": {
   "file_extension": ".jl",
   "mimetype": "application/julia",
   "name": "julia",
   "version": "0.5.0"
  }
 },
 "nbformat": 4,
 "nbformat_minor": 0
}
