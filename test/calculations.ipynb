{
 "cells": [
  {
   "cell_type": "code",
   "execution_count": 1,
   "metadata": {
    "collapsed": false
   },
   "outputs": [
    {
     "name": "stderr",
     "output_type": "stream",
     "text": [
      "WARNING: could not attach metadata for @simd loop.\n"
     ]
    }
   ],
   "source": [
    "include(\"/home/krzysztof/Dokumenty/badania_iitis/tensors_symetric/tensor calculations/calc&codes/sym_tensor/src/Boxtensors.jl\")  \n",
    "include(\"Test.jl\")\n",
    "using Test"
   ]
  },
  {
   "cell_type": "code",
   "execution_count": 2,
   "metadata": {
    "collapsed": false
   },
   "outputs": [
    {
     "name": "stderr",
     "output_type": "stream",
     "text": [
      "WARNING: replacing module Boxtensors\n"
     ]
    },
    {
     "data": {
      "text/plain": [
       "Boxtensors"
      ]
     },
     "execution_count": 2,
     "metadata": {},
     "output_type": "execute_result"
    }
   ],
   "source": [
    "include(\"/home/krzysztof/Dokumenty/badania_iitis/tensors_symetric/tensor calculations/calc&codes/sym_tensor/src/Boxtensors.jl\") "
   ]
  },
  {
   "cell_type": "code",
   "execution_count": 2,
   "metadata": {
    "collapsed": false
   },
   "outputs": [],
   "source": [
    "using Boxtensors\n",
    "importall Boxtensors"
   ]
  },
  {
   "cell_type": "code",
   "execution_count": null,
   "metadata": {
    "collapsed": true
   },
   "outputs": [],
   "source": []
  },
  {
   "cell_type": "code",
   "execution_count": 15,
   "metadata": {
    "collapsed": false
   },
   "outputs": [],
   "source": [
    "data = clcopulagen(20000, 16);\n",
    "#using PyPlot\n",
    "#plot3D(data[:,1], data[:,10], data[:,15], \"o\")\n",
    ";"
   ]
  },
  {
   "cell_type": "code",
   "execution_count": 4,
   "metadata": {
    "collapsed": false
   },
   "outputs": [
    {
     "name": "stdout",
     "output_type": "stream",
     "text": [
      "1487.891777 seconds (6.15 G allocations: 276.517 GB, 8.84% gc time)\n"
     ]
    },
    {
     "data": {
      "text/plain": [
       "Dict{ASCIIString,Any} with 8 entries:\n",
       "  \"c2\" => 4x4 Array{Float64,2}:…\n",
       "  \"c8\" => 4x4x4x4x4x4x4x4 Array{Float64,8}:…\n",
       "  \"c9\" => 4x4x4x4x4x4x4x4x4 Array{Float64,9}:…\n",
       "  \"c3\" => 4x4x4 Array{Float64,3}:…\n",
       "  \"c7\" => 4x4x4x4x4x4x4 Array{Float64,7}:…\n",
       "  \"c4\" => 4x4x4x4 Array{Float64,4}:…\n",
       "  \"c6\" => 4x4x4x4x4x4 Array{Float64,6}:…\n",
       "  \"c5\" => 4x4x4x4x4 Array{Float64,5}:…"
      ]
     },
     "execution_count": 4,
     "metadata": {},
     "output_type": "execute_result"
    }
   ],
   "source": [
    "@time c = snaivecumulant(data, 6)"
   ]
  },
  {
   "cell_type": "code",
   "execution_count": 17,
   "metadata": {
    "collapsed": false
   },
   "outputs": [
    {
     "name": "stdout",
     "output_type": "stream",
     "text": [
      "327.101555 seconds (946.42 M allocations: 693.939 GB, 16.93% gc time)\n"
     ]
    }
   ],
   "source": [
    "@time c2, c3, c4, c5, c6 = cumulants(6, data, 4);"
   ]
  },
  {
   "cell_type": "code",
   "execution_count": 74,
   "metadata": {
    "collapsed": false
   },
   "outputs": [
    {
     "name": "stdout",
     "output_type": "stream",
     "text": [
      "347.649006 seconds (3.71 M allocations: 1.734 GB, 0.08% gc time)\n"
     ]
    },
    {
     "name": "stderr",
     "output_type": "stream",
     "text": [
      "WARNING: could not attach metadata for @simd loop.\n"
     ]
    }
   ],
   "source": [
    "@time  cf = get_diff(data, 10);"
   ]
  },
  {
   "cell_type": "code",
   "execution_count": 13,
   "metadata": {
    "collapsed": false
   },
   "outputs": [
    {
     "data": {
      "text/plain": [
       "5.434230843093246e-11"
      ]
     },
     "execution_count": 13,
     "metadata": {},
     "output_type": "execute_result"
    }
   ],
   "source": [
    "#138.701652 seconds\n",
    "#1627.469713 seconds (6.28 G allocations: 595.513 GB, 4.33% gc time)\n",
    "# 543.527439 seconds (1.89 G allocations: 870.856 GB, 10.93% gc time)\n",
    "#test = convert(Array, c10) - cf[10]\n",
    "test = c[\"c9\"] - convert(Array, c9)\n",
    "maximum(abs(test))"
   ]
  },
  {
   "cell_type": "code",
   "execution_count": null,
   "metadata": {
    "collapsed": true
   },
   "outputs": [],
   "source": [
    "@time bs+bs1;\n",
    "@time bs+2;\n",
    "@time st + st1;\n",
    "@time st + 2;\n",
    "@time convert(Array, bs);\n",
    "@time vec(bs);\n",
    "@time vec(st);\n",
    "@time bs.*bs1;\n",
    "@time bs+bs1;\n",
    "@time bs./bs1;\n",
    "@time st.*st1;\n",
    "@time st+st1;\n",
    "@time st./st1;\n",
    "@time modemult(bs, c1', 4)\n",
    "@time Tensors.modemult(st,c1',4);\n",
    "@time bcssclass(bs, c1')"
   ]
  },
  {
   "cell_type": "code",
   "execution_count": null,
   "metadata": {
    "collapsed": true
   },
   "outputs": [],
   "source": []
  }
 ],
 "metadata": {
  "kernelspec": {
   "display_name": "Julia 0.4.5",
   "language": "julia",
   "name": "julia-0.4"
  },
  "language_info": {
   "file_extension": ".jl",
   "mimetype": "application/julia",
   "name": "julia",
   "version": "0.4.6"
  }
 },
 "nbformat": 4,
 "nbformat_minor": 0
}
