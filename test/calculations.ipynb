{
 "cells": [
  {
   "cell_type": "code",
   "execution_count": 1,
   "metadata": {
    "collapsed": false
   },
   "outputs": [
    {
     "name": "stderr",
     "output_type": "stream",
     "text": [
      "WARNING: could not attach metadata for @simd loop.\n"
     ]
    }
   ],
   "source": [
    "include(\"/home/krzysztof/Dokumenty/badania_iitis/tensors_symetric/tensor calculations/calc&codes/sym_tensor/src/Boxtensors.jl\")  \n",
    "include(\"Test.jl\")\n",
    "using Test"
   ]
  },
  {
   "cell_type": "code",
   "execution_count": 2,
   "metadata": {
    "collapsed": false
   },
   "outputs": [
    {
     "name": "stderr",
     "output_type": "stream",
     "text": [
      "WARNING: replacing module Boxtensors\n"
     ]
    },
    {
     "data": {
      "text/plain": [
       "Boxtensors"
      ]
     },
     "execution_count": 2,
     "metadata": {},
     "output_type": "execute_result"
    }
   ],
   "source": [
    "include(\"/home/krzysztof/Dokumenty/badania_iitis/tensors_symetric/tensor calculations/calc&codes/sym_tensor/src/Boxtensors.jl\") "
   ]
  },
  {
   "cell_type": "code",
   "execution_count": 2,
   "metadata": {
    "collapsed": false
   },
   "outputs": [],
   "source": [
    "using Boxtensors\n",
    "importall Boxtensors"
   ]
  },
  {
   "cell_type": "code",
   "execution_count": null,
   "metadata": {
    "collapsed": true
   },
   "outputs": [],
   "source": []
  },
  {
   "cell_type": "code",
   "execution_count": 3,
   "metadata": {
    "collapsed": false
   },
   "outputs": [],
   "source": [
    "data = clcopulagen(10, 4);\n",
    "#using PyPlot\n",
    "#plot3D(data[:,1], data[:,10], data[:,15], \"o\")"
   ]
  },
  {
   "cell_type": "code",
   "execution_count": null,
   "metadata": {
    "collapsed": false
   },
   "outputs": [],
   "source": [
    "@time c = snaivecumulant(data, 9)"
   ]
  },
  {
   "cell_type": "code",
   "execution_count": null,
   "metadata": {
    "collapsed": false
   },
   "outputs": [],
   "source": [
    "@time c2, c3, c4, c5, c6, c7, c8, c9 = cumulants(9, data, 2);"
   ]
  },
  {
   "cell_type": "code",
   "execution_count": 74,
   "metadata": {
    "collapsed": false
   },
   "outputs": [
    {
     "name": "stdout",
     "output_type": "stream",
     "text": [
      "347.649006 seconds (3.71 M allocations: 1.734 GB, 0.08% gc time)\n"
     ]
    },
    {
     "name": "stderr",
     "output_type": "stream",
     "text": [
      "WARNING: could not attach metadata for @simd loop.\n"
     ]
    }
   ],
   "source": [
    "@time  cf = get_diff(data, 10);"
   ]
  },
  {
   "cell_type": "code",
   "execution_count": 16,
   "metadata": {
    "collapsed": false
   },
   "outputs": [
    {
     "ename": "LoadError",
     "evalue": "LoadError: KeyError: c10 not found\nwhile loading In[16], in expression starting on line 5",
     "output_type": "error",
     "traceback": [
      "LoadError: KeyError: c10 not found\nwhile loading In[16], in expression starting on line 5",
      "",
      " in getindex at dict.jl:738"
     ]
    }
   ],
   "source": [
    "#138.701652 seconds\n",
    "#1627.469713 seconds (6.28 G allocations: 595.513 GB, 4.33% gc time)\n",
    "# 543.527439 seconds (1.89 G allocations: 870.856 GB, 10.93% gc time)\n",
    "#test = convert(Array, c10) - cf[10]\n",
    "test = c[\"c10\"] - convert(Array, c10)\n",
    "maximum(abs(test))"
   ]
  },
  {
   "cell_type": "code",
   "execution_count": null,
   "metadata": {
    "collapsed": true
   },
   "outputs": [],
   "source": [
    "@time bs+bs1;\n",
    "@time bs+2;\n",
    "@time st + st1;\n",
    "@time st + 2;\n",
    "@time convert(Array, bs);\n",
    "@time vec(bs);\n",
    "@time vec(st);\n",
    "@time bs.*bs1;\n",
    "@time bs+bs1;\n",
    "@time bs./bs1;\n",
    "@time st.*st1;\n",
    "@time st+st1;\n",
    "@time st./st1;\n",
    "@time modemult(bs, c1', 4)\n",
    "@time Tensors.modemult(st,c1',4);\n",
    "@time bcssclass(bs, c1')"
   ]
  },
  {
   "cell_type": "code",
   "execution_count": null,
   "metadata": {
    "collapsed": true
   },
   "outputs": [],
   "source": []
  }
 ],
 "metadata": {
  "kernelspec": {
   "display_name": "Julia 0.4.5",
   "language": "julia",
   "name": "julia-0.4"
  },
  "language_info": {
   "file_extension": ".jl",
   "mimetype": "application/julia",
   "name": "julia",
   "version": "0.4.6"
  }
 },
 "nbformat": 4,
 "nbformat_minor": 0
}
