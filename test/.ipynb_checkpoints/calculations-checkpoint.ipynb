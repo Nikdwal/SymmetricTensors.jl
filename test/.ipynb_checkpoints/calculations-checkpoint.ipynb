{
 "cells": [
  {
   "cell_type": "code",
   "execution_count": 1,
   "metadata": {
    "collapsed": false
   },
   "outputs": [
    {
     "name": "stderr",
     "output_type": "stream",
     "text": [
      "WARNING: could not attach metadata for @simd loop.\n"
     ]
    }
   ],
   "source": [
    "include(\"/home/krzysztof/Dokumenty/badania_iitis/tensors_symetric/tensor calculations/calc&codes/sym_tensor/src/Boxtensors.jl\")  \n",
    "include(\"Test.jl\")\n",
    "using Test"
   ]
  },
  {
   "cell_type": "code",
   "execution_count": 2,
   "metadata": {
    "collapsed": false
   },
   "outputs": [
    {
     "name": "stderr",
     "output_type": "stream",
     "text": [
      "WARNING: replacing module Boxtensors\n"
     ]
    }
   ],
   "source": [
    "include(\"/home/krzysztof/Dokumenty/badania_iitis/tensors_symetric/tensor calculations/calc&codes/sym_tensor/src/Boxtensors.jl\")\n",
    "using Boxtensors\n",
    "importall Boxtensors"
   ]
  },
  {
   "cell_type": "code",
   "execution_count": 1,
   "metadata": {
    "collapsed": false
   },
   "outputs": [
    {
     "ename": "LoadError",
     "evalue": "LoadError: LoadError: On worker 2:\nSystemError: opening file /home/krzysztof/Dokumenty/badania_iitis/tensors_symetric/tensor calculations/calc&codes/sym_tensor/test/Boxtensors.jl: Nie ma takiego pliku ani katalogu\n in open at ./iostream.jl:90\n in open at ./iostream.jl:112\n in readall at io.jl:266\n in anonymous at multi.jl:923\n in run_work_thunk at multi.jl:661\n [inlined code] from multi.jl:923\n in anonymous at task.jl:63\n in remotecall_fetch at multi.jl:747\n in remotecall_fetch at multi.jl:750\n in include_from_node1 at ./loading.jl:323\n in eval at ./sysimg.jl:14\n in anonymous at multi.jl:1394\n in anonymous at multi.jl:923\n in run_work_thunk at multi.jl:661\n [inlined code] from multi.jl:923\n in anonymous at task.jl:63\n in remotecall_fetch at multi.jl:747\n in remotecall_fetch at multi.jl:750\n in anonymous at multi.jl:1396\n\n...and 7 other exceptions.\n\nwhile loading /home/krzysztof/Dokumenty/badania_iitis/tensors_symetric/tensor calculations/calc&codes/sym_tensor/src/Pboxtensors.jl, in expression starting on line 4\nwhile loading In[1], in expression starting on line 1",
     "output_type": "error",
     "traceback": [
      "LoadError: LoadError: On worker 2:\nSystemError: opening file /home/krzysztof/Dokumenty/badania_iitis/tensors_symetric/tensor calculations/calc&codes/sym_tensor/test/Boxtensors.jl: Nie ma takiego pliku ani katalogu\n in open at ./iostream.jl:90\n in open at ./iostream.jl:112\n in readall at io.jl:266\n in anonymous at multi.jl:923\n in run_work_thunk at multi.jl:661\n [inlined code] from multi.jl:923\n in anonymous at task.jl:63\n in remotecall_fetch at multi.jl:747\n in remotecall_fetch at multi.jl:750\n in include_from_node1 at ./loading.jl:323\n in eval at ./sysimg.jl:14\n in anonymous at multi.jl:1394\n in anonymous at multi.jl:923\n in run_work_thunk at multi.jl:661\n [inlined code] from multi.jl:923\n in anonymous at task.jl:63\n in remotecall_fetch at multi.jl:747\n in remotecall_fetch at multi.jl:750\n in anonymous at multi.jl:1396\n\n...and 7 other exceptions.\n\nwhile loading /home/krzysztof/Dokumenty/badania_iitis/tensors_symetric/tensor calculations/calc&codes/sym_tensor/src/Pboxtensors.jl, in expression starting on line 4\nwhile loading In[1], in expression starting on line 1",
      "",
      " in sync_end at ./task.jl:413",
      " in anonymous at multi.jl:1405",
      " in include at ./boot.jl:261",
      " in include_from_node1 at ./loading.jl:320"
     ]
    }
   ],
   "source": []
  },
  {
   "cell_type": "code",
   "execution_count": 1,
   "metadata": {
    "collapsed": false
   },
   "outputs": [
    {
     "data": {
      "text/plain": [
       "phipy (generic function with 4 methods)"
      ]
     },
     "execution_count": 1,
     "metadata": {},
     "output_type": "execute_result"
    }
   ],
   "source": [
    "include(\"/home/krzysztof/Dokumenty/badania_iitis/tensors_symetric/tensor calculations/calc&codes/sym_tensor/src/phipy.jl\")"
   ]
  },
  {
   "cell_type": "code",
   "execution_count": null,
   "metadata": {
    "collapsed": false
   },
   "outputs": [
    {
     "name": "stdout",
     "output_type": "stream",
     "text": [
      "1582.785217 seconds (14.75 M allocations: 4.534 TB, 34.03% gc time)\n",
      "78787.640539 seconds (154.18 M allocations: 112.179 TB, 56.60% gc time)\n",
      "2146.416321 seconds (19.94 M allocations: 6.152 TB, 34.07% gc time)\n",
      "111770.945808 seconds (218.35 M allocations: 158.878 TB, 56.68% gc time)\n",
      "2850"
     ]
    }
   ],
   "source": [
    "i = 1000000\n",
    "\n",
    "s = 3\n",
    "\n",
    "for size in [33, 36, 39]\n",
    "    data = clcopulagen(i, size);\n",
    "    @time cumulants(4, data, div(size, s));\n",
    "    @time naivecumulant(data, 4);\n",
    "end"
   ]
  },
  {
   "cell_type": "code",
   "execution_count": 3,
   "metadata": {
    "collapsed": false
   },
   "outputs": [
    {
     "ename": "LoadError",
     "evalue": "LoadError: error compiling phipy: error compiling phipy: unsupported or misplaced expression \"using\" in function phipy\nwhile loading In[3], in expression starting on line 8",
     "output_type": "error",
     "traceback": [
      "LoadError: error compiling phipy: error compiling phipy: unsupported or misplaced expression \"using\" in function phipy\nwhile loading In[3], in expression starting on line 8",
      ""
     ]
    }
   ],
   "source": [
    "#data = clcopulagen(361920, 120);\n",
    "data = clcopulagen(1000, 24);\n",
    "#using PyPlot\n",
    "#plot3D(data[:,1], data[:,10], data[:,15], \"o\")\n",
    "# [map(i -> 1/factorial(ndims(c[i])), 1:length(c))...], [0.1 for i in 1:length(c)]\n",
    "#@time c = cumulants(5, data, div(size(data, 2), 8));\n",
    "#cn = naivecumulant(data, 5);\n"
   ]
  },
  {
   "cell_type": "code",
   "execution_count": 8,
   "metadata": {
    "collapsed": false
   },
   "outputs": [
    {
     "name": "stdout",
     "output_type": "stream",
     "text": [
      "  1.607176 seconds (113.89 k allocations: 1.848 GB, 10.38% gc time)\n"
     ]
    },
    {
     "data": {
      "text/plain": [
       "120x12 Array{Float64,2}:\n",
       " 0.132579    0.268728   0.907046    …   0.0463907   -0.0325445  -0.0741847\n",
       " 0.130929    0.241229  -0.356066        0.0445489   -0.0382707  -0.10045  \n",
       " 0.129644    0.234715  -0.15497         0.0820515   -0.0536455  -0.0891975\n",
       " 0.12818     0.223431  -0.072853        0.0698759   -0.0621612  -0.118326 \n",
       " 0.126644    0.198971  -0.0639759       0.03622     -0.0799617  -0.129275 \n",
       " 0.125403    0.195252  -0.048784    …   0.0991369   -0.127746   -0.124709 \n",
       " 0.124157    0.174983  -0.0364251       0.18824     -0.0978255  -0.171399 \n",
       " 0.1227      0.155915  -0.0563678       0.610584    -0.247386   -0.225739 \n",
       " 0.121775    0.147436  -0.0309161      -0.714125    -0.51327    -0.290184 \n",
       " 0.120311    0.135783  -0.0326486      -0.183484     0.768212   -0.526468 \n",
       " 0.11898     0.125495  -0.0199342   …  -0.0500535    0.0853934   0.427424 \n",
       " 0.117815    0.114983  -0.0151746      -0.0484624    0.0616918   0.243467 \n",
       " 0.116761    0.106468  -0.0207263      -0.0392279    0.0734419   0.240003 \n",
       " ⋮                                  ⋱                ⋮                    \n",
       " 0.0691612  -0.102114   0.00690212      0.00984933  -0.0122761  -0.0241788\n",
       " 0.0691179  -0.103407   0.00888479      0.00915584  -0.0125937  -0.0258639\n",
       " 0.0689346  -0.101      0.00866027  …   0.0102509   -0.0128288  -0.0262917\n",
       " 0.0686304  -0.105065   0.00791179      0.00954226  -0.0132835  -0.0260771\n",
       " 0.0684617  -0.105521   0.00904428      0.00986943  -0.0120991  -0.0277372\n",
       " 0.0681955  -0.105922   0.00773905      0.0101657   -0.0124226  -0.027301 \n",
       " 0.0677591  -0.107949   0.0091563       0.00823119  -0.0125757  -0.0250756\n",
       " 0.0676554  -0.106464   0.00889744  …   0.00743555  -0.0112309  -0.0239258\n",
       " 0.0674107  -0.104498   0.00857775      0.00923498  -0.0114369  -0.0279377\n",
       " 0.067014   -0.106779   0.00771119      0.0111636   -0.0128501  -0.0255294\n",
       " 0.0666031  -0.108672   0.0082628       0.0109879   -0.0136177  -0.0279081\n",
       " 0.066806   -0.10972    0.00994813      0.00963401  -0.0132196  -0.0275245"
      ]
     },
     "execution_count": 8,
     "metadata": {},
     "output_type": "execute_result"
    }
   ],
   "source": [
    "@time U = phi_calc(data, convert(c)...; limit = 2, k = 12)[1]"
   ]
  },
  {
   "cell_type": "code",
   "execution_count": 12,
   "metadata": {
    "collapsed": false
   },
   "outputs": [
    {
     "ename": "LoadError",
     "evalue": "LoadError: InterruptException:\nwhile loading In[12], in expression starting on line 155",
     "output_type": "error",
     "traceback": [
      "LoadError: InterruptException:\nwhile loading In[12], in expression starting on line 155",
      "",
      " in setdiff at array.jl:983",
      " in fold at /home/krzysztof/.julia/v0.4/Tensors/src/hosvd.jl:26",
      " in modemult at /home/krzysztof/.julia/v0.4/Tensors/src/hosvd.jl:41",
      " in anonymous at /home/krzysztof/Dokumenty/badania_iitis/tensors_symetric/tensor calculations/calc&codes/sym_tensor/src/operationsbs.jl:47",
      " in mapreduce_seq_impl at reduce.jl:230",
      " in mapreduce_pairwise_impl at reduce.jl:108",
      " in _mapreduce at reduce.jl:153",
      " in mapreduce at reduce.jl:159",
      " in segmentmult at /home/krzysztof/Dokumenty/badania_iitis/tensors_symetric/tensor calculations/calc&codes/sym_tensor/src/operationsbs.jl:47",
      " in segmentmult at /home/krzysztof/Dokumenty/badania_iitis/tensors_symetric/tensor calculations/calc&codes/sym_tensor/src/operationsbs.jl:46",
      " in modemult at /home/krzysztof/Dokumenty/badania_iitis/tensors_symetric/tensor calculations/calc&codes/sym_tensor/src/operationsbs.jl:69",
      " in phi_calc at /home/krzysztof/Dokumenty/badania_iitis/tensors_symetric/tensor calculations/calc&codes/sym_tensor/src/alsn.jl:34"
     ]
    }
   ],
   "source": [
    "@time U1 = phi_calc(data, c...; limit = 2, k = 12)[1];\n",
    "U1"
   ]
  },
  {
   "cell_type": "code",
   "execution_count": 11,
   "metadata": {
    "collapsed": false
   },
   "outputs": [],
   "source": [
    "using NPZ\n",
    "str = \"/home/krzysztof/Dokumenty/badania_iitis/tensors_symetric/tensor calculations/pictures_class/data.npy\"\n",
    "npzwrite(str, data)"
   ]
  },
  {
   "cell_type": "code",
   "execution_count": 19,
   "metadata": {
    "collapsed": false
   },
   "outputs": [
    {
     "data": {
      "text/plain": [
       "9x2 Array{Float64,2}:\n",
       " -0.343232  -0.0410196\n",
       " -0.359507  -0.160995 \n",
       " -0.358934  -0.15209  \n",
       " -0.273329  -0.135672 \n",
       " -0.358471  -0.237118 \n",
       " -0.268747  -0.185502 \n",
       " -0.414409   0.89891  \n",
       " -0.271423  -0.140127 \n",
       " -0.321359  -0.112019 "
      ]
     },
     "execution_count": 19,
     "metadata": {},
     "output_type": "execute_result"
    }
   ],
   "source": [
    "d = npzread(str)\n",
    "c = cumulants(5, data, 3);\n",
    "U = phi_calc(data, convert(c)..., k = 2)[1]"
   ]
  },
  {
   "cell_type": "code",
   "execution_count": null,
   "metadata": {
    "collapsed": true
   },
   "outputs": [],
   "source": [
    "#1000000 15 3 \n",
    "#115.607918 seconds (1.14 M allocations: 343.700 GB, 32.13% gc time)\n",
    "#3237.854221 seconds (6.58 M allocations: 4.789 TB, 54.23% gc time)\n",
    "#1000000 30 3 \n",
    "#1128.944750 seconds (10.66 M allocations: 3.257 TB, 33.08% gc time)\n",
    "#51451.271712 seconds (105.31 M allocations: 76.620 TB, 54.45% gc time)\n",
    "#33\n",
    "#1582.785217 seconds (14.75 M allocations: 4.534 TB, 34.03% gc time)\n",
    "#78787.640539 seconds (154.18 M allocations: 112.179 TB, 56.60% gc time)\n",
    "#36\n",
    "#2146.416321 seconds (19.94 M allocations: 6.152 TB, 34.07% gc time)\n",
    "#111770.945808 seconds (218.35 M allocations: 158.878 TB, 56.68% gc time)"
   ]
  },
  {
   "cell_type": "code",
   "execution_count": 4,
   "metadata": {
    "collapsed": false
   },
   "outputs": [
    {
     "ename": "LoadError",
     "evalue": "LoadError: UndefVarError: snaivecumulant not defined\nwhile loading In[4], in expression starting on line 155",
     "output_type": "error",
     "traceback": [
      "LoadError: UndefVarError: snaivecumulant not defined\nwhile loading In[4], in expression starting on line 155",
      ""
     ]
    }
   ],
   "source": [
    "@time c = snaivecumulant(data, 8)"
   ]
  },
  {
   "cell_type": "code",
   "execution_count": 10,
   "metadata": {
    "collapsed": false
   },
   "outputs": [
    {
     "name": "stdout",
     "output_type": "stream",
     "text": [
      "  0.068689 seconds (79.27 k allocations: 45.919 MB, 10.93% gc time)\n"
     ]
    }
   ],
   "source": [
    "@time c2, c3 = cumulants(3, data, 5);"
   ]
  },
  {
   "cell_type": "code",
   "execution_count": 9,
   "metadata": {
    "collapsed": false
   },
   "outputs": [
    {
     "name": "stdout",
     "output_type": "stream",
     "text": [
      "  0.370966 seconds (342.51 k allocations: 18.139 MB, 1.89% gc time)\n"
     ]
    }
   ],
   "source": [
    "@time c2, c3, c4, c5 = cumulants(5, data, 2);\n"
   ]
  },
  {
   "cell_type": "code",
   "execution_count": 10,
   "metadata": {
    "collapsed": false
   },
   "outputs": [
    {
     "name": "stdout",
     "output_type": "stream",
     "text": [
      "  0.097818 seconds (330.81 k allocations: 44.802 MB, 8.87% gc time)\n"
     ]
    }
   ],
   "source": [
    "cn4 = naivecumulant(data, 4)\n",
    "@time cn5 = naivecumulant(data, 5);"
   ]
  },
  {
   "cell_type": "code",
   "execution_count": 74,
   "metadata": {
    "collapsed": true
   },
   "outputs": [
    {
     "name": "stdout",
     "output_type": "stream",
     "text": [
      "347.649006 seconds (3.71 M allocations: 1.734 GB, 0.08% gc time)\n"
     ]
    },
    {
     "name": "stderr",
     "output_type": "stream",
     "text": [
      "WARNING: could not attach metadata for @simd loop.\n"
     ]
    }
   ],
   "source": [
    "@time  cf = get_diff(data, 5);"
   ]
  },
  {
   "cell_type": "code",
   "execution_count": 17,
   "metadata": {
    "collapsed": false
   },
   "outputs": [
    {
     "data": {
      "text/plain": [
       "4.440892098500626e-15"
      ]
     },
     "execution_count": 17,
     "metadata": {},
     "output_type": "execute_result"
    }
   ],
   "source": [
    "#138.701652 seconds\n",
    "#1627.469713 seconds (6.28 G allocations: 595.513 GB, 4.33% gc time)\n",
    "# 543.527439 seconds (1.89 G allocations: 870.856 GB, 10.93% gc time)\n",
    "#test = convert(Array, c10) - cf[10]\n",
    "\n",
    "#test = c[\"c8\"] - convert(Array, c8)\n",
    "test = convert(Array, c[4]) - cn\n",
    "maximum(abs(test))\n"
   ]
  },
  {
   "cell_type": "code",
   "execution_count": 13,
   "metadata": {
    "collapsed": false
   },
   "outputs": [],
   "source": [
    "#data = clcopulagen(50000, 48);\n",
    "#272.183187 seconds (61.29 M allocations: 968.278 GB, 25.18% gc time)\n",
    "# 7585.766758 seconds (716.64 M allocations: 25.126 TB, 20.33% gc time)\n",
    "# div = 28"
   ]
  },
  {
   "cell_type": "code",
   "execution_count": null,
   "metadata": {
    "collapsed": true
   },
   "outputs": [],
   "source": [
    "using JLD\n",
    "cashpath = \"/tmp/myfile.jld\"\n",
    "function cash{T <: AbstractFloat}(data::Matrix{T}, order::Int, cashpath::AbstractString)\n",
    "    if isfile(cashpath) \n",
    "        if (load(cashpath)[\"x\"] == data) * (load(cashpath)[\"order\"] == order)\n",
    "            return true\n",
    "        end\n",
    "    end\n",
    "    return false\n",
    "end\n",
    "    \n",
    "order = 4\n",
    "save(\"/tmp/myfile.jld\", \"c\", c, \"x\", data, \"order\", order)\n",
    "\n",
    "cash(data, 4, cashpath)\n"
   ]
  },
  {
   "cell_type": "code",
   "execution_count": null,
   "metadata": {
    "collapsed": true
   },
   "outputs": [],
   "source": [
    "@time bs+bs1;\n",
    "@time bs+2;\n",
    "@time st + st1;\n",
    "@time st + 2;\n",
    "@time convert(Array, bs);\n",
    "@time vec(bs);\n",
    "@time vec(st);\n",
    "@time bs.*bs1;\n",
    "@time bs+bs1;\n",
    "@time bs./bs1;\n",
    "@time st.*st1;\n",
    "@time st+st1;\n",
    "@time st./st1;\n",
    "@time modemult(bs, c1', 4)\n",
    "@time Tensors.modemult(st,c1',4);\n",
    "@time bcssclass(bs, c1')"
   ]
  },
  {
   "cell_type": "code",
   "execution_count": null,
   "metadata": {
    "collapsed": true
   },
   "outputs": [],
   "source": [
    "using PyCall\n",
    "unshift!(PyVector(pyimport(\"sys\")[\"path\"]), \"/home/krzysztof/Dokumenty/badania_iitis/tensors_symetric/tensor calculations/pictures_class/\")\n",
    "@pyimport test\n",
    "test.als([])"
   ]
  },
  {
   "cell_type": "code",
   "execution_count": null,
   "metadata": {
    "collapsed": true
   },
   "outputs": [],
   "source": [
    "\n",
    "if nprocs() == 1\n",
    "    addprocs()\n",
    "end\n",
    "@everywhere begin\n",
    "    include(\"/home/krzysztof/Dokumenty/badania_iitis/tensors_symetric/tensor calculations/calc&codes/sym_tensor/src/Boxtensors.jl\")\n",
    "    using Boxtensors\n",
    "end\n",
    "importall Boxtensors"
   ]
  }
 ],
 "metadata": {
  "kernelspec": {
   "display_name": "Julia 0.4.5",
   "language": "julia",
   "name": "julia-0.4"
  },
  "language_info": {
   "file_extension": ".jl",
   "mimetype": "application/julia",
   "name": "julia",
   "version": "0.4.6"
  }
 },
 "nbformat": 4,
 "nbformat_minor": 0
}
