{
 "cells": [
  {
   "cell_type": "code",
   "execution_count": 1,
   "metadata": {
    "collapsed": false
   },
   "outputs": [
    {
     "name": "stderr",
     "output_type": "stream",
     "text": [
      "WARNING: could not attach metadata for @simd loop.\n",
      "WARNING: could not attach metadata for @simd loop.\n"
     ]
    }
   ],
   "source": [
    "include(\"/home/krzysztof/Dokumenty/badania_iitis/tensors_symetric/tensor calculations/calc&codes/sym_tensor/src/SymmetricTensors.jl\")  \n",
    "include(\"Test.jl\")\n",
    "using Test"
   ]
  },
  {
   "cell_type": "code",
   "execution_count": 19,
   "metadata": {
    "collapsed": false
   },
   "outputs": [],
   "source": [
    "include(\"/home/krzysztof/Dokumenty/badania_iitis/tensors_symetric/tensor calculations/calc&codes/sym_tensor/src/SymmetricTensors.jl\")\n",
    "using SymmetricTensors\n",
    "importall SymmetricTensors"
   ]
  },
  {
   "cell_type": "code",
   "execution_count": 2,
   "metadata": {
    "collapsed": false
   },
   "outputs": [
    {
     "data": {
      "text/plain": [
       "naivecumulant (generic function with 2 methods)"
      ]
     },
     "execution_count": 2,
     "metadata": {},
     "output_type": "execute_result"
    }
   ],
   "source": [
    "include(\"copulagen.jl\")\n",
    "include(\"naivecum.jl\")"
   ]
  },
  {
   "cell_type": "code",
   "execution_count": 3,
   "metadata": {
    "collapsed": false,
    "scrolled": true
   },
   "outputs": [
    {
     "name": "stdout",
     "output_type": "stream",
     "text": [
      "136.956198 seconds (643.61 k allocations: 410.534 GB, 27.74% gc time)\n",
      "2094.036819 seconds (19.91 M allocations: 6.152 TB, 30.64% gc time)\n",
      "105512.417406 seconds (218.36 M allocations: 158.878 TB, 54.02% gc time)\n",
      "163.044710 seconds (736.35 k allocations: 511.432 GB, 27.67% gc time)\n",
      "2717.331006 seconds (26.34 M allocations: 8.168 TB, 31.00% gc time)\n",
      "147308.412574 seconds (300.75 M allocations: 218.832 TB, 53.72% gc time)\n"
     ]
    }
   ],
   "source": [
    "i = 1000000\n",
    "\n",
    "s = 3\n",
    "\n",
    "for size in [36, 39]\n",
    "    data = clcopulagen(i, size);\n",
    "    @time cumulants(3, data, s);\n",
    "    @time cumulants(4, data, s);\n",
    "    @time naivecumulant(data, 4);\n",
    "end"
   ]
  },
  {
   "cell_type": "code",
   "execution_count": 9,
   "metadata": {
    "collapsed": false
   },
   "outputs": [],
   "source": [
    "data = clcopulagen(120000, 21);"
   ]
  },
  {
   "cell_type": "code",
   "execution_count": 10,
   "metadata": {
    "collapsed": false
   },
   "outputs": [
    {
     "name": "stdout",
     "output_type": "stream",
     "text": [
      " 31.625345 seconds (3.17 M allocations: 120.542 GB, 17.60% gc time)\n",
      "261.980526 seconds (53.52 M allocations: 1.008 TB, 12.22% gc time)\n",
      "39413.502460 seconds (1.67 G allocations: 139.120 TB, 10.17% gc time)\n"
     ]
    }
   ],
   "source": [
    "o = 5\n",
    "\n",
    "@time cumulants(o-1, data, 3);\n",
    "@time cumulants(o, data, 3);\n",
    "@time naivecumulant(data, o);"
   ]
  },
  {
   "cell_type": "code",
   "execution_count": null,
   "metadata": {
    "collapsed": false
   },
   "outputs": [],
   "source": [
    "for o in collect(6:7)\n",
    "    @time c = cumulants(o, data, 3);\n",
    "end\n",
    "#cn = naivecumulant(data, 5);\n"
   ]
  },
  {
   "cell_type": "code",
   "execution_count": null,
   "metadata": {
    "collapsed": true
   },
   "outputs": [],
   "source": [
    " 71.781549 seconds (45.45 M allocations: 211.876 GB, 14.92% gc time)\n",
    "475\n",
    "\n",
    "#1000000 15 3 \n",
    "#115.607918 seconds (1.14 M allocations: 343.700 GB, 32.13% gc time)\n",
    "#3237.854221 seconds (6.58 M allocations: 4.789 TB, 54.23% gc time)\n",
    "#1000000 30 3 \n",
    "#1128.944750 seconds (10.66 M allocations: 3.257 TB, 33.08% gc time)\n",
    "#51451.271712 seconds (105.31 M allocations: 76.620 TB, 54.45% gc time)\n",
    "#33\n",
    "#1582.785217 seconds (14.75 M allocations: 4.534 TB, 34.03% gc time)\n",
    "#78787.640539 seconds (154.18 M allocations: 112.179 TB, 56.60% gc time)\n",
    "#36\n",
    "#2146.416321 seconds (19.94 M allocations: 6.152 TB, 34.07% gc time)\n",
    "#111770.945808 seconds (218.35 M allocations: 158.878 TB, 56.68% gc time)\n",
    "\n",
    "test = convert(Array, c[4]) - cn\n",
    "maximum(abs(test))"
   ]
  },
  {
   "cell_type": "code",
   "execution_count": 95,
   "metadata": {
    "collapsed": false
   },
   "outputs": [
    {
     "data": {
      "text/plain": [
       "tweak! (generic function with 1 method)"
      ]
     },
     "execution_count": 95,
     "metadata": {},
     "output_type": "execute_result"
    }
   ],
   "source": []
  },
  {
   "cell_type": "code",
   "execution_count": 37,
   "metadata": {
    "collapsed": false
   },
   "outputs": [
    {
     "data": {
      "text/plain": [
       "testpart (generic function with 1 method)"
      ]
     },
     "execution_count": 37,
     "metadata": {},
     "output_type": "execute_result"
    }
   ],
   "source": [
    "function tweak!(a::Array{Int})\n",
    "    a[1] -= 1\n",
    "    a[2] += 1\n",
    "end\n",
    "\n",
    "function h4(a::Array{Int})\n",
    "    for j in 3:length(a)\n",
    "        if a[j] < (a[1])\n",
    "            s = sum(a[1:(j-1)])-1\n",
    "            return j, s\n",
    "        end\n",
    "    end\n",
    "    0,0\n",
    "end\n",
    "\n",
    "function h56!(a::Array{Int})\n",
    "    j, s = h4(a)\n",
    "    a[j] += 1\n",
    "    x = a[j]\n",
    "    j -= 1\n",
    "    for i in 2:j\n",
    "        a[i] = x\n",
    "    end\n",
    "    a[1] = s - (j-1)*x;\n",
    "#    a\n",
    "end\n",
    "\n",
    "function mypart(n::Int,sigma::Int, rmin::Int = 1)\n",
    "    ret = Vector{Int}[]\n",
    "    a = [n-(sigma-1)*rmin, fill(rmin, (sigma-1))..., -1]\n",
    "    for i in 1:factorial(n)\n",
    "        if a[2] > a[1]\n",
    "            h56!(a)\n",
    "            if a[end] >= 0\n",
    "                return ret\n",
    "            end\n",
    "        else\n",
    "            push!(ret, [a...][1:(end-1)]) \n",
    "            tweak!(a)\n",
    "        end\n",
    "    end\n",
    "    ret\n",
    "end\n",
    "\n",
    "function testpart(n::Int, sigma::Int)\n",
    "    ret = Vector{Int}[]\n",
    "    for p in partitions(n, sigma)\n",
    "    (1 in p)? (): (push!(ret, p))\n",
    "    end\n",
    "    ret\n",
    "end\n",
    "    "
   ]
  },
  {
   "cell_type": "code",
   "execution_count": 38,
   "metadata": {
    "collapsed": false
   },
   "outputs": [
    {
     "data": {
      "text/plain": [
       "1-element Array{Array{Int64,1},1}:\n",
       " [2,2,2]"
      ]
     },
     "execution_count": 38,
     "metadata": {},
     "output_type": "execute_result"
    }
   ],
   "source": [
    "testpart(6,3)"
   ]
  },
  {
   "cell_type": "code",
   "execution_count": 42,
   "metadata": {
    "collapsed": false
   },
   "outputs": [
    {
     "name": "stdout",
     "output_type": "stream",
     "text": [
      "[[0,0],[0,0],[0,0],[0,0],[0,0],[0,0]]\n",
      "[[0,0,0],[0,0,0],[0,0,0],[0,0,0],[0,0,0],[0,0,0],[0,0,0],[0,0,0],[0,0,0],[0,0,0],[0,0,0],[0,0,0]]\n",
      "[[0,0,0,0],[0,0,0,0],[0,0,0,0],[0,0,0,0],[0,0,0,0],[0,0,0,0],[0,0,0,0],[0,0,0,0],[0,0,0,0],[0,0,0,0],[0,0,0,0]]\n",
      "[[0,0,0,0,0],[0,0,0,0,0],[0,0,0,0,0],[0,0,0,0,0],[0,0,0,0,0],[0,0,0,0,0],[0,0,0,0,0]]\n",
      "[[0,0,0,0,0,0],[0,0,0,0,0,0],[0,0,0,0,0,0]]\n",
      "[[0,0,0,0,0,0,0]]\n"
     ]
    }
   ],
   "source": [
    "\n",
    "\n",
    "for i in 2:7\n",
    "    println(mypart(15,i,2)-testpart(15,i))\n",
    "end"
   ]
  },
  {
   "cell_type": "code",
   "execution_count": 43,
   "metadata": {
    "collapsed": false
   },
   "outputs": [
    {
     "data": {
      "text/plain": [
       "2-element Array{Array{Int64,N},1}:\n",
       " [1]    \n",
       " [2,3,4]"
      ]
     },
     "execution_count": 43,
     "metadata": {},
     "output_type": "execute_result"
    }
   ],
   "source": [
    "initialize(n::Int) = zeros(Int, n), [1 for i in 1:(n-1)], 1\n",
    "function increase(a::Array, n::Int)\n",
    "    a[n] += 1\n",
    "    a\n",
    "end\n",
    "\n",
    "function h4(a::Array{Int}, b::Array{Int}, n::Int)\n",
    "    for j in (n-1):(-1):1\n",
    "        if a[j] != b[j]\n",
    "            return j\n",
    "        end\n",
    "    end\n",
    "    0\n",
    "end\n",
    "\n",
    "function h25!(ret, a::Array{Int}, b::Array{Int}, m::Int, n::Int)\n",
    "    push!(ret, transfer(n, [a...])) \n",
    "    for i in 1:10*n\n",
    "        a = increase(a, n)\n",
    "        push!(ret, transfer(n, [a...])) \n",
    "        if (a[n] == m)\n",
    "            break\n",
    "        end\n",
    "    end\n",
    "    j = h4(a,b,n)\n",
    "    (j == 1)? (): (a[j] += 1)\n",
    "    a, j\n",
    "end\n",
    "\n",
    "function h6(a::Array{Int}, b::Array{Int}, m::Int, n::Int, j::Int)\n",
    "    m = b[j] + (a[j] == b[j])\n",
    "    j += 1\n",
    "    for i in j:(n-1)\n",
    "        a[i] = 0\n",
    "        b[i] = m\n",
    "    end\n",
    "    a[n] = 0\n",
    "    j = j+1\n",
    "    a,b,m\n",
    "end\n",
    "\n",
    "function transfer(n::Int, a::Array{Int})\n",
    "    ret = Array{Int}[]\n",
    "    seq = collect(1:n)\n",
    "    for k in 0:maximum(a)\n",
    "        temp = Int[]\n",
    "        for i in 1:n\n",
    "            if a[i] == k\n",
    "                push!(temp, seq[i])\n",
    "            end\n",
    "        end\n",
    "        push!(ret, temp)\n",
    "    end\n",
    "    ret\n",
    "end\n",
    "\n",
    "transfer(4, [0,1,1,1])"
   ]
  },
  {
   "cell_type": "code",
   "execution_count": 44,
   "metadata": {
    "collapsed": false
   },
   "outputs": [
    {
     "data": {
      "text/plain": [
       "mysetpart (generic function with 1 method)"
      ]
     },
     "execution_count": 44,
     "metadata": {},
     "output_type": "execute_result"
    }
   ],
   "source": [
    "function mysetpart(n::Int)\n",
    "    ret = Array{Array{Int}}[]\n",
    "    a, b,m = initialize(n)\n",
    "    for i in 1:20\n",
    "        a, j = h25!(ret, a,b,m,n)\n",
    "        if j == 1\n",
    "            break\n",
    "        else\n",
    "            a, b,m = h6(a,b,m,n,j)\n",
    "        end\n",
    "    end\n",
    "    ret\n",
    "end"
   ]
  },
  {
   "cell_type": "code",
   "execution_count": 61,
   "metadata": {
    "collapsed": false
   },
   "outputs": [
    {
     "data": {
      "text/plain": [
       "52-element Array{Array{Array{Int64,N},N},1}:\n",
       " Array{Int64,N}[[1,2,3,4,5]]        \n",
       " Array{Int64,N}[[1,2,3,4],[5]]      \n",
       " Array{Int64,N}[[1,2,3,5],[4]]      \n",
       " Array{Int64,N}[[1,2,3],[4,5]]      \n",
       " Array{Int64,N}[[1,2,3],[4],[5]]    \n",
       " Array{Int64,N}[[1,2,4,5],[3]]      \n",
       " Array{Int64,N}[[1,2,4],[3,5]]      \n",
       " Array{Int64,N}[[1,2,4],[3],[5]]    \n",
       " Array{Int64,N}[[1,2,5],[3,4]]      \n",
       " Array{Int64,N}[[1,2],[3,4,5]]      \n",
       " Array{Int64,N}[[1,2],[3,4],[5]]    \n",
       " Array{Int64,N}[[1,2,5],[3],[4]]    \n",
       " Array{Int64,N}[[1,2],[3,5],[4]]    \n",
       " ⋮                                  \n",
       " Array{Int64,N}[[1],[2,4,5],[3]]    \n",
       " Array{Int64,N}[[1],[2,4],[3,5]]    \n",
       " Array{Int64,N}[[1],[2,4],[3],[5]]  \n",
       " Array{Int64,N}[[1,5],[2],[3,4]]    \n",
       " Array{Int64,N}[[1],[2,5],[3,4]]    \n",
       " Array{Int64,N}[[1],[2],[3,4,5]]    \n",
       " Array{Int64,N}[[1],[2],[3,4],[5]]  \n",
       " Array{Int64,N}[[1,5],[2],[3],[4]]  \n",
       " Array{Int64,N}[[1],[2,5],[3],[4]]  \n",
       " Array{Int64,N}[[1],[2],[3,5],[4]]  \n",
       " Array{Int64,N}[[1],[2],[3],[4,5]]  \n",
       " Array{Int64,N}[[1],[2],[3],[4],[5]]"
      ]
     },
     "execution_count": 61,
     "metadata": {},
     "output_type": "execute_result"
    }
   ],
   "source": [
    "mysetpart(5)\n",
    "#collect(partitions(collect(1:5)))"
   ]
  },
  {
   "cell_type": "code",
   "execution_count": 130,
   "metadata": {
    "collapsed": false
   },
   "outputs": [
    {
     "data": {
      "text/plain": [
       "2"
      ]
     },
     "execution_count": 130,
     "metadata": {},
     "output_type": "execute_result"
    }
   ],
   "source": [
    "1+(2==2)"
   ]
  },
  {
   "cell_type": "code",
   "execution_count": 101,
   "metadata": {
    "collapsed": false
   },
   "outputs": [
    {
     "data": {
      "text/plain": [
       "4"
      ]
     },
     "execution_count": 101,
     "metadata": {},
     "output_type": "execute_result"
    }
   ],
   "source": [
    "n = 4\n",
    "a = zeros(Int, n)\n",
    "b = [1 for i in 1:n]\n",
    "ret = Array{Int}[]\n",
    "push!(ret, [a...]) \n",
    "m = 1\n",
    "b[n] = m\n",
    "for i in 1:n\n",
    "    a[n] += 1\n",
    "    (a[n]==m)? push!(ret, [a...]): (break) \n",
    "end\n",
    "a[n] = m\n",
    "j = 0\n",
    "for i in 1:n\n",
    "    if a[i] == b[i]\n",
    "        j = i-1\n",
    "    end\n",
    "end\n",
    "(j == 1)? (return ret): (a[j] += 1)\n",
    "push!(ret, [a...])\n",
    "for i in j:(n-1)\n",
    "    a[i] = 0\n",
    "    b[i] = m\n",
    "end\n",
    "j = j + 1\n"
   ]
  },
  {
   "cell_type": "code",
   "execution_count": 68,
   "metadata": {
    "collapsed": false
   },
   "outputs": [
    {
     "ename": "LoadError",
     "evalue": "LoadError: MethodError: `combinations` has no method matching combinations(::UnitRange{Int64}, ::Int64, ::Int64)\nClosest candidates are:\n  combinations(::Any, ::Integer)\nwhile loading In[68], in expression starting on line 1",
     "output_type": "error",
     "traceback": [
      "LoadError: MethodError: `combinations` has no method matching combinations(::UnitRange{Int64}, ::Int64, ::Int64)\nClosest candidates are:\n  combinations(::Any, ::Integer)\nwhile loading In[68], in expression starting on line 1",
      ""
     ]
    }
   ],
   "source": [
    "collect(combinations(1:4,2,2))"
   ]
  },
  {
   "cell_type": "code",
   "execution_count": 104,
   "metadata": {
    "collapsed": false
   },
   "outputs": [
    {
     "data": {
      "text/plain": [
       "24-element Array{Array{Int64,1},1}:\n",
       " [0,0,1,1]\n",
       " [0,0,1,1]\n",
       " [0,1,0,1]\n",
       " [0,1,1,0]\n",
       " [0,1,0,1]\n",
       " [0,1,1,0]\n",
       " [0,0,1,1]\n",
       " [0,0,1,1]\n",
       " [0,1,0,1]\n",
       " [0,1,1,0]\n",
       " [0,1,0,1]\n",
       " [0,1,1,0]\n",
       " [1,0,0,1]\n",
       " [1,0,1,0]\n",
       " [1,0,0,1]\n",
       " [1,0,1,0]\n",
       " [1,1,0,0]\n",
       " [1,1,0,0]\n",
       " [1,0,0,1]\n",
       " [1,0,1,0]\n",
       " [1,0,0,1]\n",
       " [1,0,1,0]\n",
       " [1,1,0,0]\n",
       " [1,1,0,0]"
      ]
     },
     "execution_count": 104,
     "metadata": {},
     "output_type": "execute_result"
    }
   ],
   "source": [
    "collect(permutations([0,0,1,1]))"
   ]
  },
  {
   "cell_type": "code",
   "execution_count": 2,
   "metadata": {
    "collapsed": false
   },
   "outputs": [
    {
     "data": {
      "text/plain": [
       "indpart (generic function with 1 method)"
      ]
     },
     "execution_count": 2,
     "metadata": {},
     "output_type": "execute_result"
    }
   ],
   "source": [
    "function indpart(n::Int, sigma::Int)\n",
    "    p = Vector{Vector{Int}}[]\n",
    "    r = Vector{Int}[]\n",
    "    for part in partitions(1:n, sigma)\n",
    "      s = map(length, part)\n",
    "      if !(1 in s)\n",
    "        push!(p, part)\n",
    "        push!(r, s)\n",
    "      end\n",
    "    end\n",
    "    p, r, length(r)\n",
    "end"
   ]
  },
  {
   "cell_type": "code",
   "execution_count": 5,
   "metadata": {
    "collapsed": false
   },
   "outputs": [
    {
     "data": {
      "text/plain": [
       "119"
      ]
     },
     "execution_count": 5,
     "metadata": {},
     "output_type": "execute_result"
    }
   ],
   "source": [
    "indpart(8,2)[3]"
   ]
  },
  {
   "cell_type": "code",
   "execution_count": 58,
   "metadata": {
    "collapsed": false
   },
   "outputs": [
    {
     "data": {
      "text/plain": [
       "su5 (generic function with 1 method)"
      ]
     },
     "execution_count": 58,
     "metadata": {},
     "output_type": "execute_result"
    }
   ],
   "source": [
    "function su2(n)\n",
    "    ret = 0\n",
    "    sigma = 2\n",
    "    for i in 2:(n- 2*sigma+2)\n",
    "        ret += div(factorial(n), (factorial(i)*factorial(n-i)))\n",
    "    end\n",
    "    div(ret, factorial(sigma))\n",
    "end\n",
    "function su3(n)\n",
    "    ret = 0\n",
    "    sigma = 3\n",
    "    for i in 2:(n- 2*sigma+2)\n",
    "        for j in 2:(n- 2*sigma+4-i)\n",
    "            ret += div(factorial(n), (factorial(i)*factorial(j)*factorial(n-i-j)))\n",
    "        end\n",
    "    end\n",
    "    div(ret, factorial(sigma))\n",
    "end\n",
    "function su4(n)\n",
    "    ret = 0\n",
    "    sigma = 4\n",
    "    for i in 2:(n- 2*sigma+2)\n",
    "        for j in 2:(n- 2*sigma+4-i)\n",
    "            for k in 2:(n- 2*sigma+6-i-j)\n",
    "                ret += div(factorial(n), (factorial(i)*factorial(j)*factorial(k)*factorial(n-i-j-k)))\n",
    "            end\n",
    "        end\n",
    "    end\n",
    "    div(ret, factorial(sigma))\n",
    "end\n",
    "\n",
    "function su5(n)\n",
    "    ret = 0\n",
    "    sigma = 5\n",
    "    for i in 2:(n- 2*sigma+2)\n",
    "        for j in 2:(n- 2*sigma+4-i)\n",
    "            for k in 2:(n- 2*sigma+6-i-j)\n",
    "                for l in 2:(n- 2*sigma+8-i-j-k)\n",
    "                    ret += div(factorial(n), (factorial(i)*factorial(j)*factorial(k)*factorial(l)*factorial(n-i-j-k-l)))\n",
    "                end\n",
    "            end\n",
    "        end\n",
    "    end\n",
    "    div(ret, factorial(sigma))\n",
    "end"
   ]
  },
  {
   "cell_type": "code",
   "execution_count": 64,
   "metadata": {
    "collapsed": false
   },
   "outputs": [
    {
     "data": {
      "text/plain": [
       "su5 (generic function with 1 method)"
      ]
     },
     "execution_count": 64,
     "metadata": {},
     "output_type": "execute_result"
    }
   ],
   "source": [
    "function su2(n)\n",
    "    ret = 0\n",
    "    sigma = 2\n",
    "    for i in 2:(n- 2*sigma+2)\n",
    "        ret += div(factorial(n), (factorial(i)*factorial(n-i)))\n",
    "    end\n",
    "    div(ret, factorial(sigma))*(sigma-1)\n",
    "end\n",
    "function su3(n)\n",
    "    ret = 0\n",
    "    sigma = 3\n",
    "    for i in 2:(n- 2*sigma+2)\n",
    "        for j in 2:(n- 2*sigma+4-i)\n",
    "            ret += div(factorial(n), (factorial(i)*factorial(j)*factorial(n-i-j)))\n",
    "        end\n",
    "    end\n",
    "    div(ret, factorial(sigma))*(sigma - 1)\n",
    "\n",
    "end\n",
    "function su4(n)\n",
    "    ret = 0\n",
    "    sigma = 4\n",
    "    for i in 2:(n- 2*sigma+2)\n",
    "        for j in 2:(n- 2*sigma+4-i)\n",
    "            for k in 2:(n- 2*sigma+6-i-j)\n",
    "                ret += div(factorial(n), (factorial(i)*factorial(j)*factorial(k)*factorial(n-i-j-k)))\n",
    "            end\n",
    "        end\n",
    "    end\n",
    "    div(ret, factorial(sigma))*(sigma-1)\n",
    "end\n",
    "\n",
    "function su5(n)\n",
    "    ret = 0\n",
    "    sigma = 5\n",
    "    for i in 2:(n- 2*sigma+2)\n",
    "        for j in 2:(n- 2*sigma+4-i)\n",
    "            for k in 2:(n- 2*sigma+6-i-j)\n",
    "                for l in 2:(n- 2*sigma+8-i-j-k)\n",
    "                    ret += div(factorial(n), (factorial(i)*factorial(j)*factorial(k)*factorial(l)*factorial(n-i-j-k-l)))\n",
    "                end\n",
    "            end\n",
    "        end\n",
    "    end\n",
    "    div(ret, factorial(sigma))*(sigma-1)\n",
    "end"
   ]
  },
  {
   "cell_type": "code",
   "execution_count": 65,
   "metadata": {
    "collapsed": false
   },
   "outputs": [
    {
     "name": "stdout",
     "output_type": "stream",
     "text": [
      "3\n",
      "10\n",
      "55\n",
      "266\n",
      "1414\n",
      "7862\n",
      "46281\n"
     ]
    }
   ],
   "source": [
    "println(su2(4))\n",
    "println(su2(5))\n",
    "println(su2(6)+su3(6))\n",
    "println(su2(7)+su3(7))\n",
    "println(su2(8)+su3(8)+su4(8))\n",
    "println(su2(9)+su3(9)+su4(9))\n",
    "println(su2(10)+su3(10)+su4(10)+su5(10))"
   ]
  },
  {
   "cell_type": "code",
   "execution_count": 52,
   "metadata": {
    "collapsed": false
   },
   "outputs": [
    {
     "data": {
      "text/plain": [
       "sum (generic function with 1 method)"
      ]
     },
     "execution_count": 52,
     "metadata": {},
     "output_type": "execute_result"
    }
   ],
   "source": [
    "function sum(n)\n",
    "    ret = 0\n",
    "    for sigma in 2: floor(Int, n/2)\n",
    "        ret += indpart(n,sigma)[3]\n",
    "    end\n",
    "    ret\n",
    "end"
   ]
  },
  {
   "cell_type": "code",
   "execution_count": 54,
   "metadata": {
    "collapsed": false
   },
   "outputs": [
    {
     "name": "stdout",
     "output_type": "stream",
     "text": [
      "3\n",
      "10\n",
      "40\n",
      "161\n",
      "714\n",
      "3424\n",
      "17721\n"
     ]
    }
   ],
   "source": [
    "for i in 4:10\n",
    "    println(sum(i))\n",
    "end"
   ]
  },
  {
   "cell_type": "code",
   "execution_count": 92,
   "metadata": {
    "collapsed": false
   },
   "outputs": [
    {
     "data": {
      "text/plain": [
       "indices (generic function with 1 method)"
      ]
     },
     "execution_count": 92,
     "metadata": {},
     "output_type": "execute_result"
    }
   ],
   "source": [
    "if nprocs() == 1\n",
    "    addprocs()\n",
    "end\n",
    "@everywhere begin\n",
    "    include(\"/home/krzysztof/Dokumenty/badania_iitis/tensors_symetric/tensor calculations/calc&codes/sym_tensor/src/Boxtensors.jl\")\n",
    "    using Boxtensors\n",
    "end\n",
    "importall Boxtensors"
   ]
  },
  {
   "cell_type": "code",
   "execution_count": 5,
   "metadata": {
    "collapsed": false
   },
   "outputs": [
    {
     "data": {
      "text/plain": [
       "1"
      ]
     },
     "execution_count": 5,
     "metadata": {},
     "output_type": "execute_result"
    }
   ],
   "source": [
    "ret = 1"
   ]
  },
  {
   "cell_type": "code",
   "execution_count": null,
   "metadata": {
    "collapsed": true
   },
   "outputs": [],
   "source": []
  }
 ],
 "metadata": {
  "kernelspec": {
   "display_name": "Julia 0.4.5",
   "language": "julia",
   "name": "julia-0.4"
  },
  "language_info": {
   "file_extension": ".jl",
   "mimetype": "application/julia",
   "name": "julia",
   "version": "0.4.6"
  }
 },
 "nbformat": 4,
 "nbformat_minor": 0
}
