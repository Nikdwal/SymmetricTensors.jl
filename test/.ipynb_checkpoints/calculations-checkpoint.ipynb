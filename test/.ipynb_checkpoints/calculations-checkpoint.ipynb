{
 "cells": [
  {
   "cell_type": "code",
   "execution_count": 1,
   "metadata": {
    "collapsed": false
   },
   "outputs": [],
   "source": [
    "include(\"/home/krzysztof/Dokumenty/badania_iitis/tensors_symetric/tensor calculations/calc&codes/sym_tensor/src/SymmetricMatrix.jl\")\n",
    "include(\"Test.jl\")\n",
    "using Test"
   ]
  },
  {
   "cell_type": "code",
   "execution_count": 2,
   "metadata": {
    "collapsed": false
   },
   "outputs": [
    {
     "name": "stderr",
     "output_type": "stream",
     "text": [
      "WARNING: replacing module SymmetricMatrix\n"
     ]
    }
   ],
   "source": [
    "include(\"/home/krzysztof/Dokumenty/badania_iitis/tensors_symetric/tensor calculations/calc&codes/sym_tensor/src/SymmetricMatrix.jl\")  \n",
    "using NullableArrays\n",
    "using SymmetricMatrix\n",
    "using Iterators\n",
    "using Tensors\n",
    "importall SymmetricMatrix"
   ]
  },
  {
   "cell_type": "code",
   "execution_count": null,
   "metadata": {
    "collapsed": true
   },
   "outputs": [],
   "source": []
  },
  {
   "cell_type": "code",
   "execution_count": 3,
   "metadata": {
    "collapsed": false
   },
   "outputs": [
    {
     "name": "stdout",
     "output_type": "stream",
     "text": [
      "  0.056488 seconds (42.55 k allocations: 3.957 MB)\n",
      "  0.030617 seconds (24.02 k allocations: 3.099 MB)\n",
      "  0.003814 seconds (7 allocations: 12.815 MB, 90.83% gc time)\n",
      "  0.003235 seconds (7 allocations: 12.815 MB)\n"
     ]
    }
   ],
   "source": [
    "@time bs+bs1;\n",
    "@time bs+2;\n",
    "@time st + st1;\n",
    "@time st + 2;"
   ]
  },
  {
   "cell_type": "code",
   "execution_count": 4,
   "metadata": {
    "collapsed": false
   },
   "outputs": [
    {
     "name": "stdout",
     "output_type": "stream",
     "text": [
      "  0.057132 seconds (154.49 k allocations: 31.980 MB, 3.23% gc time)\n",
      "  0.038781 seconds (148.69 k allocations: 31.672 MB, 6.26% gc time)\n",
      "  0.000001 seconds (6 allocations: 240 bytes)\n"
     ]
    }
   ],
   "source": [
    "@time convert(Array, bs);\n",
    "@time vec(bs);\n",
    "@time vec(st);"
   ]
  },
  {
   "cell_type": "code",
   "execution_count": 5,
   "metadata": {
    "collapsed": false
   },
   "outputs": [
    {
     "name": "stdout",
     "output_type": "stream",
     "text": [
      "  0.021648 seconds (23.09 k allocations: 3.068 MB, 10.62% gc time)\n",
      "  0.017479 seconds (21.57 k allocations: 2.982 MB)\n",
      "  0.019606 seconds (23.09 k allocations: 3.068 MB)\n",
      "  0.006792 seconds (13 allocations: 12.815 MB)\n",
      "  0.003015 seconds (7 allocations: 12.815 MB, 55.57% gc time)\n",
      "  0.012243 seconds (13 allocations: 12.815 MB)\n"
     ]
    }
   ],
   "source": [
    "@time bs.*bs1;\n",
    "@time bs+bs1;\n",
    "@time bs./bs1;\n",
    "@time st.*st1;\n",
    "@time st+st1;\n",
    "@time st./st1;"
   ]
  },
  {
   "cell_type": "code",
   "execution_count": null,
   "metadata": {
    "collapsed": false
   },
   "outputs": [],
   "source": [
    "@time modemult(bs, c1', 4)\n",
    "@time Tensors.modemult(st,c1',4);\n",
    "@time bcssclass(bs, c1')"
   ]
  },
  {
   "cell_type": "code",
   "execution_count": 3,
   "metadata": {
    "collapsed": false
   },
   "outputs": [
    {
     "data": {
      "text/plain": [
       "clcopulagen (generic function with 1 method)"
      ]
     },
     "execution_count": 3,
     "metadata": {},
     "output_type": "execute_result"
    }
   ],
   "source": [
    "using Distributions\n",
    "\n",
    "function permute(array)\n",
    "    a = Any[]\n",
    "    n = size(array, 1)\n",
    "    for p in partitions(array)\n",
    "        add = true\n",
    "        for k in p\n",
    "            if size(k,1) in[1, n]\n",
    "                add = false\n",
    "            end\n",
    "        end\n",
    "        if add\n",
    "            push!(a, p)\n",
    "        end        \n",
    "    end\n",
    "    return a\n",
    "end\n",
    "\n",
    "function center(data::Matrix)\n",
    "    centred = zeros(data)\n",
    "    n = size(data,2)\n",
    "    for i = 1:n\n",
    "        centred[:,i] = data[:,i]-mean(data[:,i])\n",
    "    end\n",
    "    return centred\n",
    "end\n",
    "\n",
    "macro per(a, b ,i)\n",
    "    eval = quote\n",
    "        if size($i,1) == 3\n",
    "            I = [$i[1], $i[2], $i[3]]\n",
    "        elseif size($i,1) == 4\n",
    "            I = [$i[1], $i[2], $i[3], $i[4]]\n",
    "        elseif size($i,1) == 5\n",
    "            I = [$i[1], $i[2], $i[3], $i[4], $i[5]]\n",
    "        elseif size($i,1) == 6\n",
    "            I = [$i[1], $i[2], $i[3], $i[4], $i[5], $i[6]]\n",
    "        elseif size($i,1) == 7\n",
    "            I = [$i[1], $i[2], $i[3], $i[4], $i[5], $i[6], $i[7]]\n",
    "        elseif size($i,1) == 8\n",
    "            I = [$i[1], $i[2], $i[3], $i[4], $i[5], $i[6], $i[7], $i[8]]\n",
    "        elseif size($i,1) == 9\n",
    "            I = [$i[1], $i[2], $i[3], $i[4], $i[5], $i[6], $i[7], $i[8], $i[9]]\n",
    "        elseif size($i,1) == 10\n",
    "            I = [$i[1], $i[2], $i[3], $i[4], $i[5], $i[6], $i[7], $i[8], $i[9], $i[10]]\n",
    "        end\n",
    "        for per in collect(permutations(I))\n",
    "            $a[per...] = $b\n",
    "        end\n",
    "    end\n",
    "    return (eval)\n",
    "    end  \n",
    "\n",
    "\n",
    "function permutations_output!{T<:AbstractFloat}(m4::AbstractArray{T}, a::T, list)\n",
    "    @per(m4, a, list)\n",
    "end\n",
    "\n",
    "\n",
    "function moment_element!(moment, indices, data)\n",
    "    multiple = 1\n",
    "    for i in indices\n",
    "        multiple  = multiple.*data[:,i]\n",
    "    end\n",
    "    permutations_output!(moment, mean(multiple), indices)\n",
    "end\n",
    "\n",
    "function moment3{T<:AbstractFloat}(data::Matrix{T})\n",
    "    m = size(data,2)\n",
    "    moment = zeros(fill(m,3)...)\n",
    "    for i1 = 1:m, i2 = i1:m, i3 = i2:m\n",
    "        moment_element!(moment, [i1,i2,i3], data)\n",
    "    end\n",
    "    return Array(moment)\n",
    "end\n",
    "\n",
    "\n",
    "function moment4{T<:AbstractFloat}(data::Matrix{T})\n",
    "    m = size(data,2)\n",
    "    moment = zeros(fill(m,4)...)\n",
    "    for i1 = 1:m, i2 = i1:m, i3 = i2:m, i4 = i3:m\n",
    "        moment_element!(moment, [i1,i2,i3,i4], data)\n",
    "    end\n",
    "    return Array(moment)\n",
    "end\n",
    "\n",
    "\n",
    "function moment5{T<:AbstractFloat}(data::Matrix{T})\n",
    "    m = size(data,2)\n",
    "    moment = zeros(fill(m,5)...)\n",
    "    for i1 = 1:m, i2 = i1:m, i3 = i2:m, i4 = i3:m, i5 = i4:m\n",
    "        moment_element!(moment, [i1,i2,i3,i4,i5], data)\n",
    "    end\n",
    "    return Array(moment)\n",
    "end\n",
    "\n",
    "\n",
    "function moment6{T<:AbstractFloat}(data::Matrix{T})\n",
    "    m = size(data,2)\n",
    "    moment = zeros(fill(m,6)...)\n",
    "    for i1 = 1:m, i2 = i1:m, i3 = i2:m, i4 = i3:m, i5 = i4:m, i6 = i5:m\n",
    "        moment_element!(moment, [i1,i2,i3,i4,i5,i6], data)\n",
    "    end\n",
    "    return Array(moment)\n",
    "end\n",
    "\n",
    "function moment7{T<:AbstractFloat}(data::Matrix{T})\n",
    "    m = size(data,2)\n",
    "    moment = zeros(fill(m,7)...)\n",
    "    for i1 = 1:m, i2 = i1:m, i3 = i2:m, i4 = i3:m, i5 = i4:m, i6 = i5:m, i7 = i6:m\n",
    "        moment_element!(moment, [i1,i2,i3,i4,i5,i6,i7], data)\n",
    "    end\n",
    "    return Array(moment)\n",
    "end\n",
    "\n",
    "function moment8{T<:AbstractFloat}(data::Matrix{T})\n",
    "    m = size(data,2)\n",
    "    moment = zeros(fill(m,8)...)\n",
    "    for i1 = 1:m, i2 = i1:m, i3 = i2:m, i4 = i3:m, i5 = i4:m, i6 = i5:m, i7 = i6:m, i8 = i7:m\n",
    "        moment_element!(moment, [i1,i2,i3,i4,i5,i6,i7,i8], data)\n",
    "    end\n",
    "    return Array(moment)\n",
    "end\n",
    "\n",
    "                \n",
    "function moment9{T<:AbstractFloat}(data::Matrix{T})\n",
    "    m = size(data,2)\n",
    "    moment = zeros(fill(m,9)...)\n",
    "    for i1 = 1:m, i2 = i1:m, i3 = i2:m, i4 = i3:m, i5 = i4:m, i6 = i5:m, i7 = i6:m, i8 = i7:m, i9 = i8:m\n",
    "        moment_element!(moment, [i1,i2,i3,i4,i5,i6,i7,i8,i9], data)\n",
    "    end\n",
    "    return Array(moment)\n",
    "end\n",
    "\n",
    "function moment10{T<:AbstractFloat}(data::Matrix{T})\n",
    "    m = size(data,2)\n",
    "    moment = zeros(fill(m,10)...)\n",
    "    for i1 = 1:m, i2 = i1:m, i3 = i2:m, i4 = i3:m, i5 = i4:m, i6 = i5:m, i7 = i6:m, i8 = i7:m, i9 = i8:m, i10 = i9:m\n",
    "        moment_element!(moment, [i1,i2,i3,i4,i5,i6,i7,i8,i9,i10], data)\n",
    "    end\n",
    "    return Array(moment)\n",
    "end\n",
    "\n",
    "function moment_n{T<:AbstractFloat}(data::Matrix{T}, n::Int)\n",
    "    m = size(data,2)\n",
    "    moment = zeros(fill(m,n)...)\n",
    "    for i1 = 1:m, i2 = i1:m, i3 = i2:m, i4 = i3:m, i5 = i4:m, i6 = i5:m, i7 = i6:m, i8 = i7:m, i9 = i8:m, i10 = i9:m\n",
    "        indices = [i1,i2,i3,i4,i5,i6,i7,i8,i9,i10][1:n]\n",
    "        moment_element!(moment, indices, data)\n",
    "    end\n",
    "    return Array(moment)\n",
    "end\n",
    "\n",
    "\n",
    "function calculate_el(c, list)\n",
    "    a = permute(list)\n",
    "    w = 0\n",
    "    for k = 1:size(a,1)\n",
    "        r = 1\n",
    "        for el in a[k]\n",
    "            r*= c[\"c\"*string(size(el,1))][el...]\n",
    "        end\n",
    "        w += r\n",
    "    end\n",
    "    return w\n",
    "end\n",
    "\n",
    "function product4(c)\n",
    "    m = size(c[\"c2\"], 2)\n",
    "    m4 = zeros(fill(m,4)...)    \n",
    "    for i1 = 1:m, i2 = i1:m, i3 = i2:m, i4 = i3:m\n",
    "        indices = [i1,i2,i3,i4]\n",
    "        a = calculate_el(c, indices)\n",
    "        permutations_output!(m4, a, indices)\n",
    "    end\n",
    "    return Array(m4)\n",
    "end\n",
    "\n",
    "function product5(c)\n",
    "    m = size(c[\"c2\"], 2)\n",
    "    m4 = zeros(fill(m,5)...)    \n",
    "    for i1 = 1:m, i2 = i1:m, i3 = i2:m, i4 = i3:m, i5 = i4:m\n",
    "        indices = [i1,i2,i3,i4, i5]\n",
    "        a = calculate_el(c, indices)\n",
    "        permutations_output!(m4, a, indices)\n",
    "    end\n",
    "    return Array(m4)\n",
    "end\n",
    "\n",
    "function product6(c)\n",
    "    m = size(c[\"c2\"], 2)\n",
    "    m4 = zeros(fill(m,6)...)    \n",
    "    for i1 = 1:m, i2 = i1:m, i3 = i2:m, i4 = i3:m, i5 = i4:m, i6 = i5:m\n",
    "        indices = [i1,i2,i3,i4, i5, i6]\n",
    "        a = calculate_el(c, indices)\n",
    "        permutations_output!(m4, a, indices)\n",
    "    end\n",
    "    return Array(m4)\n",
    "end\n",
    "\n",
    "function product7(c)\n",
    "    m = size(c[\"c2\"], 2)\n",
    "    m4 = zeros(fill(m,7)...)    \n",
    "    for i1 = 1:m, i2 = i1:m, i3 = i2:m, i4 = i3:m, i5 = i4:m, i6 = i5:m, i7 = i6:m\n",
    "        indices = [i1,i2,i3,i4, i5, i6, i7]\n",
    "        a = calculate_el(c, indices)\n",
    "        permutations_output!(m4, a, indices)\n",
    "    end\n",
    "    return Array(m4)\n",
    "end\n",
    "\n",
    "function product8(c)\n",
    "    m = size(c[\"c2\"], 2)\n",
    "    m4 = zeros(fill(m,8)...)    \n",
    "    for i1 = 1:m, i2 = i1:m, i3 = i2:m, i4 = i3:m, i5 = i4:m, i6 = i5:m, i7 = i6:m, i8 = i7:m\n",
    "        indices = [i1,i2,i3,i4, i5, i6, i7, i8]\n",
    "        a = calculate_el(c, indices)\n",
    "        permutations_output!(m4, a, indices)\n",
    "    end\n",
    "    return Array(m4)\n",
    "end\n",
    "\n",
    "function product9(c)\n",
    "    m = size(c[\"c2\"], 2)\n",
    "    m4 = zeros(fill(m,9)...)    \n",
    "    for i1 = 1:m, i2 = i1:m, i3 = i2:m, i4 = i3:m, i5 = i4:m, i6 = i5:m, i7 = i6:m, i8 = i7:m, i9 = i8:m\n",
    "        indices = [i1,i2,i3,i4, i5, i6, i7, i8, i9]\n",
    "        a = calculate_el(c, indices)\n",
    "        permutations_output!(m4, a, indices)\n",
    "    end\n",
    "    return Array(m4)\n",
    "end\n",
    "\n",
    "function product10(c)\n",
    "    m = size(c[\"c2\"], 2)\n",
    "    m4 = zeros(fill(m,10)...)    \n",
    "    for i1 = 1:m, i2 = i1:m, i3 = i2:m, i4 = i3:m, i5 = i4:m, i6 = i5:m, i7 = i6:m, i8 = i7:m, i9 = i8:m, i10 = i9:m\n",
    "        indices = [i1,i2,i3,i4, i5, i6, i7, i8, i9, i10]\n",
    "        a = calculate_el(c, indices)\n",
    "        permutations_output!(m4, a, indices)\n",
    "    end\n",
    "    return Array(m4)\n",
    "end\n",
    "\n",
    "function calculate_n_cumulants(data, n)\n",
    "    data = center(data);\n",
    "    c2 = cov(data, corrected = false)\n",
    "    c3 = moment3(data)\n",
    "    cumulants = Dict(\"c2\" => c2, \"c3\" => c3);\n",
    "    if n == 3\n",
    "        return cumulants \n",
    "    end\n",
    "    c4 = moment4(data) - product4(cumulants)\n",
    "    cumulants = merge(cumulants, Dict(\"c4\" => c4));\n",
    "    if n == 4\n",
    "        return cumulants \n",
    "    end\n",
    "    c5 = moment5(data)-product5(cumulants)\n",
    "    cumulants = merge(cumulants, Dict(\"c5\" => c5))\n",
    "    if n == 5\n",
    "        return cumulants \n",
    "    end\n",
    "    c6 = moment6(data)-product6(cumulants)\n",
    "    cumulants = merge(cumulants, Dict(\"c6\" => c6))\n",
    "    if n == 6\n",
    "        return cumulants \n",
    "    end\n",
    "    c7 = moment7(data)-product7(cumulants)\n",
    "    cumulants = merge(cumulants, Dict(\"c7\" => c7))\n",
    "    if n == 7\n",
    "        return cumulants \n",
    "    end\n",
    "    c8 = moment8(data)-product8(cumulants)\n",
    "    cumulants = merge(cumulants, Dict(\"c8\" => c8))\n",
    "    if n == 8\n",
    "        return cumulants \n",
    "    end\n",
    "    c9 = moment9(data)-product9(cumulants)\n",
    "    cumulants = merge(cumulants, Dict(\"c9\" => c9))\n",
    "    if n == 9\n",
    "        return cumulants \n",
    "    end\n",
    "    c10 = moment10(data)-product10(cumulants)\n",
    "    cumulants = merge(cumulants, Dict(\"c10\" => c10))\n",
    "    return cumulants \n",
    "end\n",
    "\n",
    "\n",
    "function clcopulagen(t::Int, m::Int)\n",
    "    theta = 1.02\n",
    "    coredist = Gamma(1,1/theta)\n",
    "    x = rand(t)\n",
    "    u = rand(t,m)\n",
    "    ret = zeros(t,m)\n",
    "    invphi(x::Array{Float64,1}, theta::Float64) = (1+ theta.*x).^(-1/theta)\n",
    "    for i = 1:m\n",
    "        uniform = invphi(-log(u[:,i])./quantile(coredist, x), theta)\n",
    "        ret[:,i] = quantile(Weibull(1+0.01*i,1), uniform)\n",
    "    end\n",
    "    ret\n",
    "end\n"
   ]
  },
  {
   "cell_type": "code",
   "execution_count": 15,
   "metadata": {
    "collapsed": false
   },
   "outputs": [],
   "source": [
    "data = clcopulagen(100, 5);\n",
    "#using PyPlot\n",
    "#plot3D(data[:,1], data[:,10], data[:,15], \"o\")\n",
    "data = center(data);"
   ]
  },
  {
   "cell_type": "code",
   "execution_count": 17,
   "metadata": {
    "collapsed": false
   },
   "outputs": [
    {
     "name": "stdout",
     "output_type": "stream",
     "text": [
      "334.639357 seconds (1.45 G allocations: 65.500 GB, 7.47% gc time)\n"
     ]
    },
    {
     "data": {
      "text/plain": [
       "Dict{ASCIIString,Any} with 7 entries:\n",
       "  \"c2\" => 5x5 Array{Float64,2}:…\n",
       "  \"c8\" => 5x5x5x5x5x5x5x5 Array{Float64,8}:…\n",
       "  \"c3\" => 5x5x5 Array{Float64,3}:…\n",
       "  \"c7\" => 5x5x5x5x5x5x5 Array{Float64,7}:…\n",
       "  \"c4\" => 5x5x5x5 Array{Float64,4}:…\n",
       "  \"c6\" => 5x5x5x5x5x5 Array{Float64,6}:…\n",
       "  \"c5\" => 5x5x5x5x5 Array{Float64,5}:…"
      ]
     },
     "execution_count": 17,
     "metadata": {},
     "output_type": "execute_result"
    }
   ],
   "source": [
    "@time c = calculate_n_cumulants(data, 6)"
   ]
  },
  {
   "cell_type": "code",
   "execution_count": 16,
   "metadata": {
    "collapsed": false
   },
   "outputs": [
    {
     "name": "stdout",
     "output_type": "stream",
     "text": [
      "137.812350 seconds (706.42 M allocations: 32.702 GB, 4.44% gc time)\n"
     ]
    }
   ],
   "source": [
    "@time c2, c3, c4, c5, c6 = cumulants(6, data, 2);"
   ]
  },
  {
   "cell_type": "code",
   "execution_count": 24,
   "metadata": {
    "collapsed": false
   },
   "outputs": [
    {
     "data": {
      "text/plain": [
       "4.440892098500626e-16"
      ]
     },
     "execution_count": 24,
     "metadata": {},
     "output_type": "execute_result"
    }
   ],
   "source": [
    "#138.701652 seconds\n",
    "#1627.469713 seconds (6.28 G allocations: 595.513 GB, 4.33% gc time)\n",
    "# 543.527439 seconds (1.89 G allocations: 870.856 GB, 10.93% gc time)\n",
    "test = convert(Array, c2) - c[\"c2\"]\n",
    "maximum(abs(test))"
   ]
  },
  {
   "cell_type": "code",
   "execution_count": null,
   "metadata": {
    "collapsed": true
   },
   "outputs": [],
   "source": [
    "# proba dla dowolnej ilosci danych\n",
    "\n",
    "function productseg1{T <: AbstractFloat}(si::Int, perm::Array{Array{Int, 1},1}, c::Array{T}...)\n",
    "    outputs = vcat(map(i -> [size(c[i])...], 1:size(c, 1))...)\n",
    "    N = size(outputs,1)\n",
    "    innu = si^N\n",
    "#    elnumb = mapreduce(i -> outputs[i], *, 1:size(outputs,1))\n",
    "    ret = zeros(T, fill(si, N)...)\n",
    "    for i = 1:innu\n",
    "        ind = ind2sub((outputs...), i)\n",
    "        pe = splitind([ind...], perm)\n",
    "        try\n",
    "          ret[ind...] = mapreduce(i -> c[i][pe[i]...], *, 1:size(perm, 1))\n",
    "        catch:\n",
    "          ()\n",
    "        end\n",
    "    end\n",
    "    ret\n",
    "end\n",
    "\n",
    "function pbc1{T <: AbstractFloat}(part::Array{Int, 1}, bscum::BoxStructure{T}...)\n",
    "    ls = map(i -> ndims(bscum[i].frame), 1:size(bscum, 1))\n",
    "    N = cumsum(part)[end]\n",
    "    s = size(bscum[1])\n",
    "    n = size(part, 1)\n",
    "    p, indpart = partitionsind(part, ls)\n",
    "    ret = NullableArray(Array{T, N}, fill(s[2], N)...)\n",
    "    ind = indices(N, s[2])\n",
    "    for i in ind\n",
    "      \tj = 1\n",
    "        pk = p[1]\n",
    "        pe = splitind([i...], pk)\n",
    "\t      temp = productseg1(s[1], pk, map(i -> bscum[indpart[j][i]].frame[pe[i]...].value, 1:n)...)\n",
    "        for pk in p[2:end]\n",
    "            j += 1\n",
    "            pe = splitind([i...], pk)\n",
    "            temp += productseg1(s[1], pk, map(i -> bscum[indpart[j][i]].frame[pe[i]...].value, 1:n)...)\n",
    "        end\n",
    "        ret[i...] = temp\n",
    "    end\n",
    "    BoxStructure(ret)\n",
    "  end"
   ]
  },
  {
   "cell_type": "code",
   "execution_count": 4,
   "metadata": {
    "collapsed": false
   },
   "outputs": [
    {
     "data": {
      "text/plain": [
       "Distributions.Weibull(α=1.0, θ=1.0)"
      ]
     },
     "execution_count": 4,
     "metadata": {},
     "output_type": "execute_result"
    }
   ],
   "source": [
    "Weibull(1,1)"
   ]
  },
  {
   "cell_type": "code",
   "execution_count": null,
   "metadata": {
    "collapsed": true
   },
   "outputs": [],
   "source": []
  }
 ],
 "metadata": {
  "kernelspec": {
   "display_name": "Julia 0.4.5",
   "language": "julia",
   "name": "julia-0.4"
  },
  "language_info": {
   "file_extension": ".jl",
   "mimetype": "application/julia",
   "name": "julia",
   "version": "0.4.6"
  }
 },
 "nbformat": 4,
 "nbformat_minor": 0
}
