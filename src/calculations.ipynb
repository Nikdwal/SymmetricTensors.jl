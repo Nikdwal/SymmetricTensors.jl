{
 "cells": [
  {
   "cell_type": "code",
   "execution_count": null,
   "metadata": {
    "collapsed": false
   },
   "outputs": [],
   "source": [
    "type Node{T}\n",
    "    left::Nullable{Node{T}}\n",
    "    right::Nullable{Node{T}}\n",
    "    value::T\n",
    "end\n",
    "\n",
    "Node{T}(v::T) = Node(Nullable{Node{T}}(), Nullable{Node{T}}(), v)"
   ]
  },
  {
   "cell_type": "code",
   "execution_count": 1,
   "metadata": {
    "collapsed": false
   },
   "outputs": [
    {
     "ename": "LoadError",
     "evalue": "LoadError: UndefVarError: Node not defined\nwhile loading In[1], in expression starting on line 1",
     "output_type": "error",
     "traceback": [
      "LoadError: UndefVarError: Node not defined\nwhile loading In[1], in expression starting on line 1",
      ""
     ]
    }
   ],
   "source": [
    "n1 = Node(Nullable(Node(2)), Nullable(Node(3)), 10)"
   ]
  },
  {
   "cell_type": "code",
   "execution_count": 12,
   "metadata": {
    "collapsed": false
   },
   "outputs": [
    {
     "data": {
      "text/plain": [
       "right (generic function with 1 method)"
      ]
     },
     "execution_count": 12,
     "metadata": {},
     "output_type": "execute_result"
    }
   ],
   "source": [
    "left(n::Node) = isnull(n.left) ? Void(): get(n.left)\n",
    "right(n::Node) = isnull(n.right) ? Void(): get(n.right)"
   ]
  },
  {
   "cell_type": "code",
   "execution_count": 1,
   "metadata": {
    "collapsed": false
   },
   "outputs": [
    {
     "ename": "LoadError",
     "evalue": "LoadError: UndefVarError: Node not defined\nwhile loading In[1], in expression starting on line 1",
     "output_type": "error",
     "traceback": [
      "LoadError: UndefVarError: Node not defined\nwhile loading In[1], in expression starting on line 1",
      ""
     ]
    }
   ],
   "source": [
    "function search{T}(graph::Node{T}, number)\n",
    "    for i = 1:10\n",
    "        if graph.value == number\n",
    "            return number\n",
    "        else\n",
    "            try\n",
    "                graph = graph.left.value\n",
    "            catch\n",
    "                return 0\n",
    "            end\n",
    "        end\n",
    "    end\n",
    "end\n",
    "    "
   ]
  },
  {
   "cell_type": "code",
   "execution_count": 1,
   "metadata": {
    "collapsed": false
   },
   "outputs": [],
   "source": [
    "include(\"SymmetricMatrix.jl\")\n",
    "include(\"Test.jl\")\n",
    "using Test"
   ]
  },
  {
   "cell_type": "code",
   "execution_count": 5,
   "metadata": {
    "collapsed": false
   },
   "outputs": [
    {
     "name": "stdout",
     "output_type": "stream",
     "text": [
      "  0.368854 seconds (320.15 k allocations: 589.424 MB, 32.72% gc time)\n"
     ]
    }
   ],
   "source": [
    "bs = (convert(BoxStructure{Float64}, st, 10)) ;\n",
    "@time bs1 = (convert(BoxStructure{Float64}, st1, 10)) ;"
   ]
  },
  {
   "cell_type": "code",
   "execution_count": 6,
   "metadata": {
    "collapsed": false
   },
   "outputs": [
    {
     "name": "stdout",
     "output_type": "stream",
     "text": [
      "  0.107971 seconds (259.60 k allocations: 13.942 MB)\n",
      "  0.080173 seconds (322.12 k allocations: 17.625 MB, 4.54% gc time)\n",
      "  0.013778 seconds (7 allocations: 47.684 MB, 19.70% gc time)\n",
      "  0.012109 seconds (7 allocations: 47.684 MB, 10.60% gc time)\n"
     ]
    }
   ],
   "source": [
    "@time bs+bs1;\n",
    "@time bs+2;\n",
    "@time st + st1;\n",
    "@time st + 2;"
   ]
  },
  {
   "cell_type": "code",
   "execution_count": 7,
   "metadata": {
    "collapsed": false
   },
   "outputs": [
    {
     "name": "stdout",
     "output_type": "stream",
     "text": [
      "  0.338190 seconds (1.23 M allocations: 148.155 MB, 15.07% gc time)\n",
      "  0.297563 seconds (1.21 M allocations: 147.300 MB, 15.78% gc time)\n",
      "  0.000001 seconds (6 allocations: 240 bytes)\n"
     ]
    }
   ],
   "source": [
    "@time convert(Array{Float64}, bs);\n",
    "@time vec(bs);\n",
    "@time vec(st);"
   ]
  },
  {
   "cell_type": "code",
   "execution_count": 8,
   "metadata": {
    "collapsed": false
   },
   "outputs": [
    {
     "name": "stdout",
     "output_type": "stream",
     "text": [
      "  0.046923 seconds (217.14 k allocations: 12.077 MB, 5.30% gc time)\n",
      "  0.041683 seconds (211.89 k allocations: 11.764 MB)\n",
      "  0.046537 seconds (217.14 k allocations: 12.077 MB, 5.47% gc time)\n",
      "  0.018239 seconds (13 allocations: 47.684 MB, 7.72% gc time)\n",
      "  0.015898 seconds (7 allocations: 47.684 MB, 4.35% gc time)\n",
      "  0.049982 seconds (13 allocations: 47.684 MB, 1.66% gc time)\n"
     ]
    }
   ],
   "source": [
    "@time bs.*bs1;\n",
    "@time bs+bs1;\n",
    "@time bs./bs1;\n",
    "@time st.*st1;\n",
    "@time st+st1;\n",
    "@time st./st1;"
   ]
  },
  {
   "cell_type": "code",
   "execution_count": 8,
   "metadata": {
    "collapsed": false
   },
   "outputs": [
    {
     "name": "stdout",
     "output_type": "stream",
     "text": [
      "  3.900043 seconds (5.54 M allocations: 6.035 GB, 6.03% gc time)\n",
      "  1.293228 seconds (176 allocations: 946.063 MB, 2.76% gc time)\n"
     ]
    }
   ],
   "source": [
    "@time modemult(bs, c', 4)\n",
    "@time Tensors.modemult(st,c',4);"
   ]
  },
  {
   "cell_type": "code",
   "execution_count": null,
   "metadata": {
    "collapsed": true
   },
   "outputs": [],
   "source": [
    "l = 75\n",
    "st = genstensor(Float64, 4,l);\n",
    "st1 = genstensor(Float64, 4,l, 1233);\n",
    "c = randn(l,12);"
   ]
  },
  {
   "cell_type": "code",
   "execution_count": 2,
   "metadata": {
    "collapsed": false
   },
   "outputs": [],
   "source": [
    "T1 = randn(5,5);\n",
    "r = randn(25, 25)\n",
    "r1 = randn(25,10)\n",
    "c = covbs(r, 5);\n",
    "c1 = cov(r, corrected = false);\n",
    "\n"
   ]
  },
  {
   "cell_type": "code",
   "execution_count": 5,
   "metadata": {
    "collapsed": false
   },
   "outputs": [],
   "source": [
    "t = genstensor(Float64, 3,25)\n",
    "bs = convert(BoxStructure{Float64}, t, 5);"
   ]
  },
  {
   "cell_type": "code",
   "execution_count": 9,
   "metadata": {
    "collapsed": false
   },
   "outputs": [
    {
     "data": {
      "text/plain": [
       "5x5x5 Array{Float64,3}:\n",
       "[:, :, 1] =\n",
       "  0.867347  -0.901744    0.864401  -0.560501    1.56417 \n",
       " -0.901744  -0.494479    2.21188   -0.0192918  -1.39674 \n",
       "  0.864401   2.21188    -0.271735   1.85278    -1.10673 \n",
       " -0.560501  -0.0192918   1.85278   -0.251176    0.150976\n",
       "  1.56417   -1.39674    -1.10673    0.150976   -1.27967 \n",
       "\n",
       "[:, :, 2] =\n",
       " -0.901744   -0.494479   2.21188   -0.0192918  -1.39674 \n",
       " -0.494479   -0.902914   0.532813   0.128064    1.1055  \n",
       "  2.21188     0.532813   0.502334  -0.827763   -3.21136 \n",
       " -0.0192918   0.128064  -0.827763   0.369714    0.769278\n",
       " -1.39674     1.1055    -3.21136    0.769278    0.997317\n",
       "\n",
       "[:, :, 3] =\n",
       "  0.864401   2.21188   -0.271735    1.85278    -1.10673  \n",
       "  2.21188    0.532813   0.502334   -0.827763   -3.21136  \n",
       " -0.271735   0.502334  -0.516984    0.110096   -0.0740145\n",
       "  1.85278   -0.827763   0.110096    0.0721164  -0.310153 \n",
       " -1.10673   -3.21136   -0.0740145  -0.310153    0.302423 \n",
       "\n",
       "[:, :, 4] =\n",
       " -0.560501   -0.0192918   1.85278    -0.251176    0.150976\n",
       " -0.0192918   0.128064   -0.827763    0.369714    0.769278\n",
       "  1.85278    -0.827763    0.110096    0.0721164  -0.310153\n",
       " -0.251176    0.369714    0.0721164  -1.50343    -0.602707\n",
       "  0.150976    0.769278   -0.310153   -0.602707   -0.036446\n",
       "\n",
       "[:, :, 5] =\n",
       "  1.56417   -1.39674   -1.10673     0.150976  -1.27967 \n",
       " -1.39674    1.1055    -3.21136     0.769278   0.997317\n",
       " -1.10673   -3.21136   -0.0740145  -0.310153   0.302423\n",
       "  0.150976   0.769278  -0.310153   -0.602707  -0.036446\n",
       " -1.27967    0.997317   0.302423   -0.036446   0.141974"
      ]
     },
     "execution_count": 9,
     "metadata": {},
     "output_type": "execute_result"
    }
   ],
   "source": [
    "a = convert(BoxStructure{Float64}, t, 5)\n",
    "a.frame[1,1,1].value"
   ]
  },
  {
   "cell_type": "code",
   "execution_count": 6,
   "metadata": {
    "collapsed": false
   },
   "outputs": [
    {
     "data": {
      "text/plain": [
       "slise1 (generic function with 1 method)"
      ]
     },
     "execution_count": 6,
     "metadata": {},
     "output_type": "execute_result"
    }
   ],
   "source": [
    "seg(i::Int, of::Int, limit::Int) = (i*of <= limit)? (((i-1)*of+1):(i*of)): (((i-1)*of+1):limit)\n",
    "@generated function slise1{T <: AbstractFloat, N}(mat::Array{T, N}, slisesize::Int)\n",
    "    quote\n",
    "        segments = ceil(Int, [size(mat)...]/slisesize)\n",
    "        ret = NullableArray(Array{T, N}, segments...)\n",
    "        @nloops $N i x -> 1:segments[x] begin\n",
    "            ind = @ntuple $N x -> i_{$N-x+1}\n",
    "            ret[ind...] = mat[(map(i -> seg(ind[i], slisesize, size(mat,i)), 1:N))...]\n",
    "        end\n",
    "        ret\n",
    "    end\n",
    "end\n"
   ]
  },
  {
   "cell_type": "code",
   "execution_count": 4,
   "metadata": {
    "collapsed": false
   },
   "outputs": [
    {
     "name": "stderr",
     "output_type": "stream",
     "text": [
      "WARNING: replacing module SymmetricMatrix\n"
     ]
    },
    {
     "data": {
      "text/plain": [
       "multimodemult (generic function with 1 method)"
      ]
     },
     "execution_count": 4,
     "metadata": {},
     "output_type": "execute_result"
    }
   ],
   "source": [
    "include(\"SymmetricMatrix.jl\")\n",
    "using SymmetricMatrix\n",
    "using NullableArrays\n",
    "importall SymmetricMatrix\n",
    "\n",
    "using Iterators\n",
    "\n",
    "function genstensor(T::Type, dims::Int, l::Int, seed::Int = 1234)\n",
    "    srand(seed)\n",
    "    ret = zeros(T, fill(l, dims)...)\n",
    "    indices = collect(product(fill(collect(1:l), dims)...))\n",
    "    elements = Array{T,1}(randn(l^dims÷dims))\n",
    "    r = 1\n",
    "    for i in indices \n",
    "        if issorted(i)          \n",
    "            for k in collect(permutations(i))\n",
    "                ret[k...] = elements[r]\n",
    "            end\n",
    "            r += 1\n",
    "        end\n",
    "    end\n",
    "    ret\n",
    "end\n",
    "\n",
    "mat = randn(6,10);\n",
    "t = genstensor(Float64, 4,10)\n",
    "bs = convert(BoxStructure{Float64}, t, 4);\n",
    "\n",
    "function multimodemult{T <: AbstractFloat, N}(t::Array{T,N}, mat::Matrix{T})\n",
    "    ret = t\n",
    "    for i = 1:N\n",
    "        ret = Tensors.modemult(ret, mat, i)\n",
    "    end\n",
    "    ret\n",
    "end"
   ]
  },
  {
   "cell_type": "code",
   "execution_count": 5,
   "metadata": {
    "collapsed": false
   },
   "outputs": [
    {
     "ename": "LoadError",
     "evalue": "LoadError: UndefVarError: mm not defined\nwhile loading In[5], in expression starting on line 5",
     "output_type": "error",
     "traceback": [
      "LoadError: UndefVarError: mm not defined\nwhile loading In[5], in expression starting on line 5",
      "",
      " [inlined code] from In[5]:6",
      " in anonymous at no file:0"
     ]
    }
   ],
   "source": [
    "s = size(bs)\n",
    "\n",
    "N = 4\n",
    "ret = NullableArray(Array{Float64, N}, fill(s[2], N)...)\n",
    "for i = 1:s[2], j = 1:i, k = 1:j, l = 1:k\n",
    "    ret[l,k,j,i] = (mm(i,j,k)[l].value)\n",
    "end\n",
    "ret[2,1,1,1];"
   ]
  },
  {
   "cell_type": "code",
   "execution_count": 6,
   "metadata": {
    "collapsed": false
   },
   "outputs": [
    {
     "ename": "LoadError",
     "evalue": "LoadError: UndefVarError: mult not defined\nwhile loading In[6], in expression starting on line 11",
     "output_type": "error",
     "traceback": [
      "LoadError: UndefVarError: mult not defined\nwhile loading In[6], in expression starting on line 11",
      "",
      " in mm at In[6]:4",
      " [inlined code] from In[6]:12",
      " in anonymous at no file:0"
     ]
    }
   ],
   "source": [
    "function mm(i::Int,j::Int,k::Int)\n",
    "    s = size(bs)\n",
    "    ret = bs\n",
    "    ret = mult(bs, m, [i], 4, s[2]);\n",
    "    ret = mult(ret, m, [j, 1], 3, s[2])\n",
    "    mult(ret, m, [k, 1, 1], 2, s[2])\n",
    "end\n",
    "\n",
    "N = 4\n",
    "ret = NullableArray(Array{Float64, N}, fill(s[2], N)...)\n",
    "for i = 1:s[2], j = 1:s[2], k = 1:s[2], l = 1:s[2]\n",
    "    ret[i,l,k,j] = (mm(i,j,k)[l].value)\n",
    "end\n",
    "ret[1,1,1,2];"
   ]
  },
  {
   "cell_type": "code",
   "execution_count": 15,
   "metadata": {
    "collapsed": false
   },
   "outputs": [],
   "source": [
    "r = t\n",
    "for i = 2:4\n",
    "    r = Tensors.modemult(r, mat, i)\n",
    "end\n",
    "\n",
    "slise1(r, 3)[1,1,1,2];"
   ]
  },
  {
   "cell_type": "code",
   "execution_count": 7,
   "metadata": {
    "collapsed": false
   },
   "outputs": [
    {
     "data": {
      "text/plain": [
       "mult2 (generic function with 1 method)"
      ]
     },
     "execution_count": 7,
     "metadata": {},
     "output_type": "execute_result"
    }
   ],
   "source": [
    "function generateperm(i::Int, ar::Array{Int})\n",
    "    ret = ar[:]\n",
    "    ret[i], ret[1] = ar[1], ar[i]\n",
    "    ret\n",
    "end\n",
    "\n",
    "function mult1{T <: AbstractFloat}(bs, m::NullableArray{Matrix{T}}, n::Int, s::Int, l::Int)\n",
    "        N = 4\n",
    "        temp = NullableArray(Array{T, N}, fill(s, (n-1))...)\n",
    "        if n > 1\n",
    "            for i in product(fill(1:s, (n-1))...)\n",
    "            ll = [1,i...]\n",
    "            temp[i...] = segmentmult1([generateperm(mode, ll)...], bs, m[l,:], n)\n",
    "            end\n",
    "        elseif n == 1\n",
    "            temp = segmentmult1([1], bs, m[l,:], n)\n",
    "        end\n",
    "        temp\n",
    "end\n",
    "\n",
    "segmentmult3{T <: AbstractFloat, N}(k::Array{Int, 1}, m::NullableArray{Array{T, N}}, m1::NullableArray{Matrix{T}}, mode::Int = 1) =\n",
    "mapreduce(j -> Tensors.modemult(m[generateperm(mode, [j, k[2:end]...])...].value, m1[k[1], j].value, mode), +, 1:size(m1, 1))\n",
    "\n",
    "function mult2{T <: AbstractFloat}(bs, m::NullableArray{Matrix{T}}, n::Int, s::Int, l::Int)\n",
    "        N = 4\n",
    "        temp = NullableArray(Array{T, N}, fill(s, (n-1))...)\n",
    "        if n > 1\n",
    "            for i in product(fill(1:s, (n-1))...)\n",
    "            ll = [i...,l]\n",
    "            temp[i...] = segmentmult1([ll], bs, m, n)\n",
    "            end\n",
    "        elseif n == 1\n",
    "            temp = segmentmult1([1], bs, m, n)\n",
    "        end\n",
    "        temp\n",
    "end\n",
    "\n"
   ]
  },
  {
   "cell_type": "code",
   "execution_count": 552,
   "metadata": {
    "collapsed": false
   },
   "outputs": [
    {
     "name": "stdout",
     "output_type": "stream",
     "text": [
      "[1,1,2,1]\n"
     ]
    },
    {
     "data": {
      "text/plain": [
       "2x2x2x2 Array{Float64,4}:\n",
       "[:, :, 1, 1] =\n",
       "  0.233089    0.00740024\n",
       " -0.0131956  -0.311787  \n",
       "\n",
       "[:, :, 2, 1] =\n",
       "  0.0589478  -0.137998\n",
       " -0.505058   -0.484187\n",
       "\n",
       "[:, :, 1, 2] =\n",
       " -0.977339   0.640824\n",
       "  1.06953   -2.37384 \n",
       "\n",
       "[:, :, 2, 2] =\n",
       " 0.59631   -1.41713 \n",
       " 0.939613  -0.293411"
      ]
     },
     "execution_count": 552,
     "metadata": {},
     "output_type": "execute_result"
    }
   ],
   "source": [
    "mode = 4\n",
    "l = [1,1,2,1]\n",
    "println(l)\n",
    "s = segmentmult3([generateperm(mode, l)...], ts, m, mode)"
   ]
  },
  {
   "cell_type": "code",
   "execution_count": 2,
   "metadata": {
    "collapsed": false
   },
   "outputs": [
    {
     "data": {
      "text/plain": [
       "4-element Array{Int64,1}:\n",
       " 1\n",
       " 1\n",
       " 1\n",
       " 1"
      ]
     },
     "execution_count": 2,
     "metadata": {},
     "output_type": "execute_result"
    }
   ],
   "source": [
    "i = [1,1,1,1]\n",
    "\n"
   ]
  },
  {
   "cell_type": "code",
   "execution_count": null,
   "metadata": {
    "collapsed": false
   },
   "outputs": [],
   "source": []
  },
  {
   "cell_type": "code",
   "execution_count": 695,
   "metadata": {
    "collapsed": false
   },
   "outputs": [
    {
     "data": {
      "text/plain": [
       "2-element NullableArrays.NullableArray{Array{Float64,4},1}:\n",
       " 2x2x2x2 Array{Float64,4}:\n",
       "[:, :, 1, 1] =\n",
       " 0.118267  -0.649653\n",
       " 0.857492   1.52028 \n",
       "\n",
       "[:, :, 2, 1] =\n",
       " -0.649653  -1.54632\n",
       "  1.52028    1.17321\n",
       "\n",
       "[:, :, 1, 2] =\n",
       " -0.649653  -1.54632\n",
       "  1.52028    1.17321\n",
       "\n",
       "[:, :, 2, 2] =\n",
       " -1.54632  -3.57912\n",
       "  1.17321  -1.71903\n",
       " 2x2x2x2 Array{Float64,4}:\n",
       "[:, :, 1, 1] =\n",
       "  1.27678    0.296852\n",
       " -0.103145  -0.654222\n",
       "\n",
       "[:, :, 2, 1] =\n",
       " 0.979311   1.17319\n",
       " 2.59747   -1.20095\n",
       "\n",
       "[:, :, 1, 2] =\n",
       " 0.979311   1.17319\n",
       " 2.59747   -1.20095\n",
       "\n",
       "[:, :, 2, 2] =\n",
       " 4.38694   0.871882\n",
       " 6.39352  -0.466234  "
      ]
     },
     "execution_count": 695,
     "metadata": {},
     "output_type": "execute_result"
    }
   ],
   "source": [
    "ret = mult2(bs, m, 4, size(bs)[2], 1)\n",
    "ret = mult2(ret, m, 3, size(bs)[2], 1)\n",
    "ret = mult2(ret, m, 2, size(bs)[2], 1)\n"
   ]
  }
 ],
 "metadata": {
  "kernelspec": {
   "display_name": "Julia 0.4.5",
   "language": "julia",
   "name": "julia-0.4"
  },
  "language_info": {
   "file_extension": ".jl",
   "mimetype": "application/julia",
   "name": "julia",
   "version": "0.4.5"
  }
 },
 "nbformat": 4,
 "nbformat_minor": 0
}
