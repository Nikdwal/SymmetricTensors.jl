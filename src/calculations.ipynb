{
 "cells": [
  {
   "cell_type": "code",
   "execution_count": null,
   "metadata": {
    "collapsed": false
   },
   "outputs": [],
   "source": [
    "type Node{T}\n",
    "    left::Nullable{Node{T}}\n",
    "    right::Nullable{Node{T}}\n",
    "    value::T\n",
    "end\n",
    "\n",
    "Node{T}(v::T) = Node(Nullable{Node{T}}(), Nullable{Node{T}}(), v)"
   ]
  },
  {
   "cell_type": "code",
   "execution_count": 1,
   "metadata": {
    "collapsed": false
   },
   "outputs": [
    {
     "ename": "LoadError",
     "evalue": "LoadError: UndefVarError: Node not defined\nwhile loading In[1], in expression starting on line 1",
     "output_type": "error",
     "traceback": [
      "LoadError: UndefVarError: Node not defined\nwhile loading In[1], in expression starting on line 1",
      ""
     ]
    }
   ],
   "source": [
    "n1 = Node(Nullable(Node(2)), Nullable(Node(3)), 10)"
   ]
  },
  {
   "cell_type": "code",
   "execution_count": 12,
   "metadata": {
    "collapsed": false
   },
   "outputs": [
    {
     "data": {
      "text/plain": [
       "right (generic function with 1 method)"
      ]
     },
     "execution_count": 12,
     "metadata": {},
     "output_type": "execute_result"
    }
   ],
   "source": [
    "left(n::Node) = isnull(n.left) ? Void(): get(n.left)\n",
    "right(n::Node) = isnull(n.right) ? Void(): get(n.right)"
   ]
  },
  {
   "cell_type": "code",
   "execution_count": null,
   "metadata": {
    "collapsed": false
   },
   "outputs": [],
   "source": [
    "function search{T}(graph::Node{T}, number)\n",
    "    for i = 1:10\n",
    "        if graph.value == number\n",
    "            return number\n",
    "        else\n",
    "            try\n",
    "                graph = graph.left.value\n",
    "            catch\n",
    "                return 0\n",
    "            end\n",
    "        end\n",
    "    end\n",
    "end\n",
    "    "
   ]
  },
  {
   "cell_type": "code",
   "execution_count": 1,
   "metadata": {
    "collapsed": false
   },
   "outputs": [],
   "source": [
    "include(\"SymmetricMatrix.jl\")\n",
    "include(\"Test.jl\")\n",
    "using Test"
   ]
  },
  {
   "cell_type": "code",
   "execution_count": 2,
   "metadata": {
    "collapsed": false
   },
   "outputs": [
    {
     "name": "stderr",
     "output_type": "stream",
     "text": [
      "WARNING: replacing module SymmetricMatrix\n"
     ]
    }
   ],
   "source": [
    "include(\"SymmetricMatrix.jl\")\n",
    "using SymmetricMatrix\n",
    "using NullableArrays\n",
    "importall SymmetricMatrix"
   ]
  },
  {
   "cell_type": "code",
   "execution_count": 4,
   "metadata": {
    "collapsed": false
   },
   "outputs": [
    {
     "data": {
      "text/plain": [
       "genstensor (generic function with 2 methods)"
      ]
     },
     "execution_count": 4,
     "metadata": {},
     "output_type": "execute_result"
    }
   ],
   "source": []
  },
  {
   "cell_type": "code",
   "execution_count": 4,
   "metadata": {
    "collapsed": false
   },
   "outputs": [],
   "source": [
    "l = 75\n",
    "st = genstensor(Float64, 4,l);\n",
    "st1 = genstensor(Float64, 4,l, 1233);\n",
    "c = randn(l,12);"
   ]
  },
  {
   "cell_type": "code",
   "execution_count": 5,
   "metadata": {
    "collapsed": false
   },
   "outputs": [
    {
     "name": "stdout",
     "output_type": "stream",
     "text": [
      "  0.368854 seconds (320.15 k allocations: 589.424 MB, 32.72% gc time)\n"
     ]
    }
   ],
   "source": [
    "bs = (convert(BoxStructure{Float64}, st, 10)) ;\n",
    "@time bs1 = (convert(BoxStructure{Float64}, st1, 10)) ;"
   ]
  },
  {
   "cell_type": "code",
   "execution_count": 6,
   "metadata": {
    "collapsed": false
   },
   "outputs": [
    {
     "name": "stdout",
     "output_type": "stream",
     "text": [
      "  0.107971 seconds (259.60 k allocations: 13.942 MB)\n",
      "  0.080173 seconds (322.12 k allocations: 17.625 MB, 4.54% gc time)\n",
      "  0.013778 seconds (7 allocations: 47.684 MB, 19.70% gc time)\n",
      "  0.012109 seconds (7 allocations: 47.684 MB, 10.60% gc time)\n"
     ]
    }
   ],
   "source": [
    "@time bs+bs1;\n",
    "@time bs+2;\n",
    "@time st + st1;\n",
    "@time st + 2;"
   ]
  },
  {
   "cell_type": "code",
   "execution_count": 7,
   "metadata": {
    "collapsed": false
   },
   "outputs": [
    {
     "name": "stdout",
     "output_type": "stream",
     "text": [
      "  0.338190 seconds (1.23 M allocations: 148.155 MB, 15.07% gc time)\n",
      "  0.297563 seconds (1.21 M allocations: 147.300 MB, 15.78% gc time)\n",
      "  0.000001 seconds (6 allocations: 240 bytes)\n"
     ]
    }
   ],
   "source": [
    "@time convert(Array{Float64}, bs);\n",
    "@time vec(bs);\n",
    "@time vec(st);"
   ]
  },
  {
   "cell_type": "code",
   "execution_count": 8,
   "metadata": {
    "collapsed": false
   },
   "outputs": [
    {
     "name": "stdout",
     "output_type": "stream",
     "text": [
      "  0.046923 seconds (217.14 k allocations: 12.077 MB, 5.30% gc time)\n",
      "  0.041683 seconds (211.89 k allocations: 11.764 MB)\n",
      "  0.046537 seconds (217.14 k allocations: 12.077 MB, 5.47% gc time)\n",
      "  0.018239 seconds (13 allocations: 47.684 MB, 7.72% gc time)\n",
      "  0.015898 seconds (7 allocations: 47.684 MB, 4.35% gc time)\n",
      "  0.049982 seconds (13 allocations: 47.684 MB, 1.66% gc time)\n"
     ]
    }
   ],
   "source": [
    "@time bs.*bs1;\n",
    "@time bs+bs1;\n",
    "@time bs./bs1;\n",
    "@time st.*st1;\n",
    "@time st+st1;\n",
    "@time st./st1;"
   ]
  },
  {
   "cell_type": "code",
   "execution_count": 8,
   "metadata": {
    "collapsed": false
   },
   "outputs": [
    {
     "name": "stdout",
     "output_type": "stream",
     "text": [
      "  3.900043 seconds (5.54 M allocations: 6.035 GB, 6.03% gc time)\n",
      "  1.293228 seconds (176 allocations: 946.063 MB, 2.76% gc time)\n"
     ]
    }
   ],
   "source": [
    "@time modemult(bs, c', 4)\n",
    "@time Tensors.modemult(st,c',4);"
   ]
  },
  {
   "cell_type": "code",
   "execution_count": 9,
   "metadata": {
    "collapsed": false
   },
   "outputs": [],
   "source": []
  },
  {
   "cell_type": "code",
   "execution_count": 3,
   "metadata": {
    "collapsed": false
   },
   "outputs": [],
   "source": [
    "using Tensors\n",
    "using NullableArrays\n",
    "using Iterators\n",
    "using Base.size\n",
    "\n",
    "using Iterators\n",
    "function genstensor(T::Type, dims::Int, l::Int, seed::Int = 1234)\n",
    "    srand(seed)\n",
    "    ret = zeros(T, fill(l, dims)...)\n",
    "    indices = collect(product(fill(collect(1:l), dims)...))\n",
    "    elements = Array{T,1}(randn(l^dims÷dims))\n",
    "    r = 1\n",
    "    for i in indices \n",
    "        if issorted(i)          \n",
    "            for k in collect(permutations(i))\n",
    "                ret[k...] = elements[r]\n",
    "            end\n",
    "            r += 1\n",
    "        end\n",
    "    end\n",
    "    ret\n",
    "end\n",
    "\n",
    "T1 = randn(5,5);\n",
    "r = randn(13,13)\n",
    "r1 = randn(13,10)\n",
    "c = covbs(r, 2);\n",
    "c1 = cov(r, corrected = false);\n",
    "\n"
   ]
  },
  {
   "cell_type": "code",
   "execution_count": 5,
   "metadata": {
    "collapsed": false
   },
   "outputs": [],
   "source": [
    "t = genstensor(Float64, 4,13)\n",
    "bs = convert(BoxStructure{Float64}, t, 3);"
   ]
  },
  {
   "cell_type": "code",
   "execution_count": 31,
   "metadata": {
    "collapsed": false
   },
   "outputs": [
    {
     "data": {
      "text/plain": [
       "bcss1 (generic function with 1 method)"
      ]
     },
     "execution_count": 31,
     "metadata": {},
     "output_type": "execute_result"
    }
   ],
   "source": [
    "function bcss1{T <: AbstractFloat, N}(bsdata::BoxStructure{T, N}, m::Matrix{T})\n",
    "    s = size(bsdata)\n",
    "    s[3]  == size(m,1)||throw(DimensionMismatch(\"size of B1 $(s[3]) must equal to size of A $(size(m,1))\"))\n",
    "    m = slise(m, s[1])\n",
    "    ret = NullableArray(Array{T, 2}, size(m,2), size(m,2))\n",
    "    for j = 1:size(m,2), i = 1:j\n",
    "        temp = NullableArray(Array{T, 2}, s[2], 1)\n",
    "        for k = 1:s[2]\n",
    "            temp[k, 1] = segmentmult([k,j], bsdata, m)\n",
    "        end\n",
    "        ret[i,j] = segmentmult([i,1], m, temp)\n",
    "    end\n",
    "    BoxStructure(ret)\n",
    "end\n"
   ]
  },
  {
   "cell_type": "code",
   "execution_count": 4,
   "metadata": {
    "collapsed": false
   },
   "outputs": [],
   "source": [
    "bcss1(c, r1);"
   ]
  },
  {
   "cell_type": "code",
   "execution_count": 5,
   "metadata": {
    "collapsed": false
   },
   "outputs": [
    {
     "data": {
      "text/plain": [
       "SymmetricMatrix.BoxStructure{Float64,2}(NullableArrays.NullableArray{Array{Float64,2},2}[\n",
       "5x5 Array{Float64,2}:\n",
       " 0.0  0.0  0.0  0.0  0.0\n",
       " 0.0  0.0  0.0  0.0  0.0\n",
       " 0.0  0.0  0.0  0.0  0.0\n",
       " 0.0  0.0  0.0  0.0  0.0\n",
       " 0.0  0.0  0.0  0.0  0.0,\n",
       "\n",
       "#NULL,\n",
       "5x5 Array{Float64,2}:\n",
       " 0.0  0.0  0.0  0.0  0.0\n",
       " 0.0  0.0  0.0  0.0  0.0\n",
       " 0.0  0.0  0.0  0.0  0.0\n",
       " 0.0  0.0  0.0  0.0  0.0\n",
       " 0.0  0.0  0.0  0.0  0.0,\n",
       "\n",
       "5x5 Array{Float64,2}:\n",
       " 0.0  0.0  0.0  0.0  0.0\n",
       " 0.0  0.0  0.0  0.0  0.0\n",
       " 0.0  0.0  0.0  0.0  0.0\n",
       " 0.0  0.0  0.0  0.0  0.0\n",
       " 0.0  0.0  0.0  0.0  0.0],5)"
      ]
     },
     "execution_count": 5,
     "metadata": {},
     "output_type": "execute_result"
    }
   ],
   "source": [
    "bcss(c, r1) - bcss1(c, r1)"
   ]
  },
  {
   "cell_type": "code",
   "execution_count": 9,
   "metadata": {
    "collapsed": false
   },
   "outputs": [],
   "source": [
    "for f in (\n",
    "    :+,\n",
    "    :-,\n",
    ")\n",
    "    @eval begin\n",
    "        @inline function $(f){S1, S2}(x::Nullable{Matrix{S1}}, y::Nullable{Matrix{S2}}, i::Int)\n",
    "            Nullable($(f)(x.value, y.value), x.isnull | y.isnull)\n",
    "        end\n",
    "    end\n",
    "end\n"
   ]
  },
  {
   "cell_type": "code",
   "execution_count": 3,
   "metadata": {
    "collapsed": false
   },
   "outputs": [],
   "source": [
    "r = randn(7,7)\n",
    "a = covbs(r);\n"
   ]
  },
  {
   "cell_type": "code",
   "execution_count": 6,
   "metadata": {
    "collapsed": false
   },
   "outputs": [
    {
     "data": {
      "text/plain": [
       "SymmetricMatrix.BoxStructure{Float64,2}(NullableArrays.NullableArray{Array{Float64,2},2}[\n",
       "3x3 Array{Float64,2}:\n",
       "  0.0  -0.0   0.0\n",
       " -0.0   0.0  -0.0\n",
       "  0.0  -0.0   0.0,\n",
       "\n",
       "#NULL,#NULL,\n",
       "3x3 Array{Float64,2}:\n",
       "  0.0  -0.0   0.0\n",
       " -0.0   0.0  -0.0\n",
       "  0.0  -0.0   0.0,\n",
       "\n",
       "3x3 Array{Float64,2}:\n",
       "  0.0  -0.0  -0.0\n",
       " -0.0   0.0  -0.0\n",
       " -0.0  -0.0   0.0,\n",
       "\n",
       "#NULL,\n",
       "3x1 Array{Float64,2}:\n",
       " 0.0\n",
       " 0.0\n",
       " 0.0,\n",
       "\n",
       "3x1 Array{Float64,2}:\n",
       " -0.0\n",
       " -0.0\n",
       "  0.0,\n",
       "\n",
       "1x1 Array{Float64,2}:\n",
       " 0.0],3)"
      ]
     },
     "execution_count": 6,
     "metadata": {},
     "output_type": "execute_result"
    }
   ],
   "source": [
    "a*0"
   ]
  },
  {
   "cell_type": "code",
   "execution_count": 8,
   "metadata": {
    "collapsed": false
   },
   "outputs": [
    {
     "data": {
      "text/plain": [
       "SymmetricMatrix.BoxStructure{Float64,2}(NullableArrays.NullableArray{Array{Float64,2},2}[\n",
       "3x3 Array{Float64,2}:\n",
       "  0.0  -0.0   0.0\n",
       " -0.0   0.0  -0.0\n",
       "  0.0  -0.0   0.0,\n",
       "\n",
       "#NULL,#NULL,\n",
       "3x3 Array{Float64,2}:\n",
       "  0.0  -0.0   0.0\n",
       " -0.0   0.0  -0.0\n",
       "  0.0  -0.0   0.0,\n",
       "\n",
       "3x3 Array{Float64,2}:\n",
       "  0.0  -0.0  -0.0\n",
       " -0.0   0.0  -0.0\n",
       " -0.0  -0.0   0.0,\n",
       "\n",
       "#NULL,\n",
       "3x1 Array{Float64,2}:\n",
       " 0.0\n",
       " 0.0\n",
       " 0.0,\n",
       "\n",
       "3x1 Array{Float64,2}:\n",
       " -0.0\n",
       " -0.0\n",
       "  0.0,\n",
       "\n",
       "1x1 Array{Float64,2}:\n",
       " 0.0],3)"
      ]
     },
     "execution_count": 8,
     "metadata": {},
     "output_type": "execute_result"
    }
   ],
   "source": [
    "*(a, 0, true)\n"
   ]
  },
  {
   "cell_type": "code",
   "execution_count": 9,
   "metadata": {
    "collapsed": false
   },
   "outputs": [
    {
     "data": {
      "text/plain": [
       "SymmetricMatrix.BoxStructure{Float64,2}(NullableArrays.NullableArray{Array{Float64,2},2}[\n",
       "3x3 Array{Float64,2}:\n",
       "  0.0  -0.0   0.0\n",
       " -0.0   0.0  -0.0\n",
       "  0.0  -0.0   0.0,\n",
       "\n",
       "#NULL,#NULL,\n",
       "3x3 Array{Float64,2}:\n",
       "  0.0  -0.0   0.0\n",
       " -0.0   0.0  -0.0\n",
       "  0.0  -0.0   0.0,\n",
       "\n",
       "3x3 Array{Float64,2}:\n",
       "  0.0  -0.0  -0.0\n",
       " -0.0   0.0  -0.0\n",
       " -0.0  -0.0   0.0,\n",
       "\n",
       "#NULL,\n",
       "3x1 Array{Float64,2}:\n",
       " 0.0\n",
       " 0.0\n",
       " 0.0,\n",
       "\n",
       "3x1 Array{Float64,2}:\n",
       " -0.0\n",
       " -0.0\n",
       "  0.0,\n",
       "\n",
       "1x1 Array{Float64,2}:\n",
       " 0.0],3)"
      ]
     },
     "execution_count": 9,
     "metadata": {},
     "output_type": "execute_result"
    }
   ],
   "source": [
    "a"
   ]
  },
  {
   "cell_type": "code",
   "execution_count": 3,
   "metadata": {
    "collapsed": false
   },
   "outputs": [
    {
     "ename": "LoadError",
     "evalue": "LoadError: MethodError: `!` has no method matching !(::Int64, ::Int64)\nwhile loading In[3], in expression starting on line 1",
     "output_type": "error",
     "traceback": [
      "LoadError: MethodError: `!` has no method matching !(::Int64, ::Int64)\nwhile loading In[3], in expression starting on line 1",
      ""
     ]
    }
   ],
   "source": [
    "+!(2,2)"
   ]
  },
  {
   "cell_type": "code",
   "execution_count": null,
   "metadata": {
    "collapsed": true
   },
   "outputs": [],
   "source": []
  }
 ],
 "metadata": {
  "kernelspec": {
   "display_name": "Julia 0.4.5",
   "language": "julia",
   "name": "julia-0.4"
  },
  "language_info": {
   "file_extension": ".jl",
   "mimetype": "application/julia",
   "name": "julia",
   "version": "0.4.5"
  }
 },
 "nbformat": 4,
 "nbformat_minor": 0
}
