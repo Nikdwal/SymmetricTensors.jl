{
 "cells": [
  {
   "cell_type": "code",
   "execution_count": null,
   "metadata": {
    "collapsed": false
   },
   "outputs": [],
   "source": [
    "type Node{T}\n",
    "    left::Nullable{Node{T}}\n",
    "    right::Nullable{Node{T}}\n",
    "    value::T\n",
    "end\n",
    "\n",
    "Node{T}(v::T) = Node(Nullable{Node{T}}(), Nullable{Node{T}}(), v)"
   ]
  },
  {
   "cell_type": "code",
   "execution_count": 1,
   "metadata": {
    "collapsed": false
   },
   "outputs": [
    {
     "ename": "LoadError",
     "evalue": "LoadError: UndefVarError: Node not defined\nwhile loading In[1], in expression starting on line 1",
     "output_type": "error",
     "traceback": [
      "LoadError: UndefVarError: Node not defined\nwhile loading In[1], in expression starting on line 1",
      ""
     ]
    }
   ],
   "source": [
    "n1 = Node(Nullable(Node(2)), Nullable(Node(3)), 10)"
   ]
  },
  {
   "cell_type": "code",
   "execution_count": 12,
   "metadata": {
    "collapsed": false
   },
   "outputs": [
    {
     "data": {
      "text/plain": [
       "right (generic function with 1 method)"
      ]
     },
     "execution_count": 12,
     "metadata": {},
     "output_type": "execute_result"
    }
   ],
   "source": [
    "left(n::Node) = isnull(n.left) ? Void(): get(n.left)\n",
    "right(n::Node) = isnull(n.right) ? Void(): get(n.right)"
   ]
  },
  {
   "cell_type": "code",
   "execution_count": null,
   "metadata": {
    "collapsed": false
   },
   "outputs": [],
   "source": [
    "function search{T}(graph::Node{T}, number)\n",
    "    for i = 1:10\n",
    "        if graph.value == number\n",
    "            return number\n",
    "        else\n",
    "            try\n",
    "                graph = graph.left.value\n",
    "            catch\n",
    "                return 0\n",
    "            end\n",
    "        end\n",
    "    end\n",
    "end\n",
    "    "
   ]
  },
  {
   "cell_type": "code",
   "execution_count": 1,
   "metadata": {
    "collapsed": false
   },
   "outputs": [],
   "source": [
    "include(\"SymmetricMatrix.jl\")\n",
    "include(\"Test.jl\")\n",
    "using Test"
   ]
  },
  {
   "cell_type": "code",
   "execution_count": 3,
   "metadata": {
    "collapsed": false
   },
   "outputs": [
    {
     "name": "stderr",
     "output_type": "stream",
     "text": [
      "WARNING: replacing module SymmetricMatrix\n"
     ]
    }
   ],
   "source": [
    "include(\"SymmetricMatrix.jl\")\n",
    "using SymmetricMatrix\n",
    "using NullableArrays\n",
    "importall SymmetricMatrix"
   ]
  },
  {
   "cell_type": "code",
   "execution_count": 1,
   "metadata": {
    "collapsed": false
   },
   "outputs": [
    {
     "data": {
      "text/plain": [
       "genstensor (generic function with 2 methods)"
      ]
     },
     "execution_count": 1,
     "metadata": {},
     "output_type": "execute_result"
    }
   ],
   "source": [
    "using Iterators\n",
    "function genstensor(T::Type, dims::Int, l::Int, seed::Int = 1234)\n",
    "    srand(seed)\n",
    "    ret = zeros(T, fill(l, dims)...)\n",
    "    indices = collect(product(fill(collect(1:l), dims)...))\n",
    "    elements = Array{T,1}(randn(l^dims÷dims))\n",
    "    r = 1\n",
    "    for i in indices \n",
    "        if issorted(i)          \n",
    "            for k in collect(permutations(i))\n",
    "                ret[k...] = elements[r]\n",
    "            end\n",
    "            r += 1\n",
    "        end\n",
    "    end\n",
    "    ret\n",
    "end"
   ]
  },
  {
   "cell_type": "code",
   "execution_count": 4,
   "metadata": {
    "collapsed": false
   },
   "outputs": [],
   "source": [
    "l = 75\n",
    "st = genstensor(Float64, 4,l);\n",
    "st1 = genstensor(Float64, 4,l, 1233);\n",
    "c = randn(l,12);"
   ]
  },
  {
   "cell_type": "code",
   "execution_count": 5,
   "metadata": {
    "collapsed": false
   },
   "outputs": [
    {
     "name": "stdout",
     "output_type": "stream",
     "text": [
      "  0.368854 seconds (320.15 k allocations: 589.424 MB, 32.72% gc time)\n"
     ]
    }
   ],
   "source": [
    "bs = (convert(BoxStructure{Float64}, st, 10)) ;\n",
    "@time bs1 = (convert(BoxStructure{Float64}, st1, 10)) ;"
   ]
  },
  {
   "cell_type": "code",
   "execution_count": 6,
   "metadata": {
    "collapsed": false
   },
   "outputs": [
    {
     "name": "stdout",
     "output_type": "stream",
     "text": [
      "  0.107971 seconds (259.60 k allocations: 13.942 MB)\n",
      "  0.080173 seconds (322.12 k allocations: 17.625 MB, 4.54% gc time)\n",
      "  0.013778 seconds (7 allocations: 47.684 MB, 19.70% gc time)\n",
      "  0.012109 seconds (7 allocations: 47.684 MB, 10.60% gc time)\n"
     ]
    }
   ],
   "source": [
    "@time bs+bs1;\n",
    "@time bs+2;\n",
    "@time st + st1;\n",
    "@time st + 2;"
   ]
  },
  {
   "cell_type": "code",
   "execution_count": 7,
   "metadata": {
    "collapsed": false
   },
   "outputs": [
    {
     "name": "stdout",
     "output_type": "stream",
     "text": [
      "  0.338190 seconds (1.23 M allocations: 148.155 MB, 15.07% gc time)\n",
      "  0.297563 seconds (1.21 M allocations: 147.300 MB, 15.78% gc time)\n",
      "  0.000001 seconds (6 allocations: 240 bytes)\n"
     ]
    }
   ],
   "source": [
    "@time convert(Array{Float64}, bs);\n",
    "@time vec(bs);\n",
    "@time vec(st);"
   ]
  },
  {
   "cell_type": "code",
   "execution_count": 8,
   "metadata": {
    "collapsed": false
   },
   "outputs": [
    {
     "name": "stdout",
     "output_type": "stream",
     "text": [
      "  0.046923 seconds (217.14 k allocations: 12.077 MB, 5.30% gc time)\n",
      "  0.041683 seconds (211.89 k allocations: 11.764 MB)\n",
      "  0.046537 seconds (217.14 k allocations: 12.077 MB, 5.47% gc time)\n",
      "  0.018239 seconds (13 allocations: 47.684 MB, 7.72% gc time)\n",
      "  0.015898 seconds (7 allocations: 47.684 MB, 4.35% gc time)\n",
      "  0.049982 seconds (13 allocations: 47.684 MB, 1.66% gc time)\n"
     ]
    }
   ],
   "source": [
    "@time bs.*bs1;\n",
    "@time bs+bs1;\n",
    "@time bs./bs1;\n",
    "@time st.*st1;\n",
    "@time st+st1;\n",
    "@time st./st1;"
   ]
  },
  {
   "cell_type": "code",
   "execution_count": 8,
   "metadata": {
    "collapsed": false
   },
   "outputs": [
    {
     "name": "stdout",
     "output_type": "stream",
     "text": [
      "  3.900043 seconds (5.54 M allocations: 6.035 GB, 6.03% gc time)\n",
      "  1.293228 seconds (176 allocations: 946.063 MB, 2.76% gc time)\n"
     ]
    }
   ],
   "source": [
    "@time modemult(bs, c', 4)\n",
    "@time Tensors.modemult(st,c',4);"
   ]
  },
  {
   "cell_type": "code",
   "execution_count": 9,
   "metadata": {
    "collapsed": false
   },
   "outputs": [],
   "source": []
  },
  {
   "cell_type": "code",
   "execution_count": 13,
   "metadata": {
    "collapsed": false
   },
   "outputs": [
    {
     "data": {
      "text/plain": [
       "bcss (generic function with 1 method)"
      ]
     },
     "execution_count": 13,
     "metadata": {},
     "output_type": "execute_result"
    }
   ],
   "source": [
    "using Tensors\n",
    "using NullableArrays\n",
    "using Iterators\n",
    "using Base.size\n",
    "\n",
    "T1 = randn(5,5);\n",
    "r = randn(13,13)\n",
    "r1 = randn(13,5)\n",
    "c = covbs(r, 3);\n",
    "c1 = cov(r, corrected = false);\n",
    "\n",
    "\n",
    "seg(i::Int, of::Int, limit::Int) = (i*of <= limit)? (((i-1)*of+1):(i*of)): (((i-1)*of+1):limit)\n",
    "\n",
    "\n",
    "readsegments{T <: AbstractFloat}(i::Array{Int}, bs::BoxStructure{T}) = permutedims(bs.frame[sort(i)...].value, invperm(sortperm(i)))\n",
    "\n",
    "\n",
    "segmentmult{T <: AbstractFloat, N}(k::Array{Int, 1}, bsdata::BoxStructure{T}, m::NullableArray{Array{T, N}}) =\n",
    "mapreduce(i -> readsegments([k[1],i], bsdata)*(m[i,k[2]].value), +, 1:size(bsdata)[2])\n",
    "\n",
    "segmentmult{T <: AbstractFloat, N}(k::Array{Int, 1}, m::NullableArray{Array{T, N}}, m1::NullableArray{Array{T, N}}) =\n",
    "mapreduce(i -> (m[i, k[1]].value)'*(m1[i,k[2]].value), +, 1:Base.size(m1, 1))\n",
    "\n",
    "function slisemat{T <: AbstractFloat}(mat::Matrix{T}, slisesize::Int)\n",
    "    segments = ceil(Int, [Base.size(mat)...]/slisesize)\n",
    "    ret = NullableArray(Array{T, 2}, segments...)\n",
    "    for k in product(1:segments[1], 1:segments[2])\n",
    "        ret[k...] = mat[seg(k[1], slisesize, Base.size(mat, 1)),seg(k[2], slisesize, Base.size(mat, 2))]\n",
    "    end\n",
    "    ret\n",
    "end\n",
    "\n",
    "function bcss{T <: AbstractFloat, N}(bsdata::BoxStructure{T, N}, m::Matrix{T})\n",
    "    s = size(bsdata)\n",
    "    Base.size(m,1) == s[3] || throw(DimensionMismatch(\"...\"))\n",
    "    m = slisemat(m, s[1])\n",
    "    ret = similar(m)\n",
    "    for i = 1:s[2], j = 1:Base.size(m,2)\n",
    "        ret[i,j] = segmentmult([i,j], bsdata, m)\n",
    "    end\n",
    "    ret1 = NullableArray(Array{T, 2}, Base.size(m,2), Base.size(m,2))\n",
    "    for j = 1:Base.size(m,2), i = 1:j\n",
    "        ret1[i,j] = segmentmult([i,j], m, ret)\n",
    "    end\n",
    "    BoxStructure(ret1)\n",
    "end"
   ]
  },
  {
   "cell_type": "code",
   "execution_count": 14,
   "metadata": {
    "collapsed": false
   },
   "outputs": [
    {
     "data": {
      "text/plain": [
       "5x5 Array{Float64,2}:\n",
       "  0.0           4.44089e-16  -8.88178e-16   0.0           0.0        \n",
       "  1.11022e-16   0.0           0.0           0.0           0.0        \n",
       " -4.44089e-16  -1.77636e-15  -8.88178e-16   0.0           4.44089e-16\n",
       "  0.0           0.0           4.44089e-16   3.55271e-15  -8.88178e-16\n",
       "  8.88178e-16   4.44089e-16  -1.11022e-15  -8.88178e-16   8.88178e-16"
      ]
     },
     "execution_count": 14,
     "metadata": {},
     "output_type": "execute_result"
    }
   ],
   "source": [
    "convert(Array{Float64}, bcss(c, r1)) - r1'*(c*r1)"
   ]
  },
  {
   "cell_type": "code",
   "execution_count": 118,
   "metadata": {
    "collapsed": false
   },
   "outputs": [
    {
     "data": {
      "text/plain": [
       "4x3 NullableArrays.NullableArray{Array{Float64,2},2}:\n",
       " 3x3 Array{Float64,2}:\n",
       " -0.353055  -0.506382   -2.50666 \n",
       " -0.924935   1.97074    -0.258612\n",
       "  0.394801  -0.0753163   0.994687  …  3x2 Array{Float64,2}:\n",
       "  0.0174044  -0.217459 \n",
       " -0.589807   -0.253531 \n",
       " -0.509182    0.0879423\n",
       " 3x3 Array{Float64,2}:\n",
       "  1.75426   1.60086  -0.56398 \n",
       " -0.264379  1.27616  -0.323865\n",
       " -1.27033   1.04024   0.645991              3x2 Array{Float64,2}:\n",
       " -0.752288  -0.0916412\n",
       "  0.680844  -0.131055 \n",
       "  1.10156   -0.596527    \n",
       " 3x3 Array{Float64,2}:\n",
       "  0.718838   2.45473  -0.9615  \n",
       " -0.172207  -1.68454  -0.678976\n",
       " -1.88238    0.19797  -1.05534            3x2 Array{Float64,2}:\n",
       " 0.986525  -0.447888\n",
       " 0.516853   0.730334\n",
       " 0.562838   0.246931         \n",
       " 3x3 Array{Float64,2}:\n",
       "  0.728548  -1.13779   -0.641451 \n",
       " -0.453574   0.664553  -0.0321457\n",
       " -0.380402  -1.75362    1.29153       3x2 Array{Float64,2}:\n",
       " -0.138364  -0.0835277\n",
       "  1.59715   -0.039286 \n",
       "  1.66072   -0.361203    "
      ]
     },
     "execution_count": 118,
     "metadata": {},
     "output_type": "execute_result"
    }
   ],
   "source": [
    "slisemat(r1, 3)"
   ]
  },
  {
   "cell_type": "code",
   "execution_count": 8,
   "metadata": {
    "collapsed": false
   },
   "outputs": [
    {
     "ename": "LoadError",
     "evalue": "LoadError: \nwhile loading In[8], in expression starting on line 1",
     "output_type": "error",
     "traceback": [
      "LoadError: \nwhile loading In[8], in expression starting on line 1",
      "",
      " in throw_error at /home/krzysztof/.julia/v0.4/NullableArrays/src/operators.jl:2",
      " in + at arraymath.jl:98"
     ]
    }
   ],
   "source": [
    "a + a"
   ]
  },
  {
   "cell_type": "code",
   "execution_count": 9,
   "metadata": {
    "collapsed": false
   },
   "outputs": [],
   "source": [
    "for f in (\n",
    "    :+,\n",
    "    :-,\n",
    ")\n",
    "    @eval begin\n",
    "        @inline function $(f){S1, S2}(x::Nullable{Matrix{S1}}, y::Nullable{Matrix{S2}}, i::Int)\n",
    "            Nullable($(f)(x.value, y.value), x.isnull | y.isnull)\n",
    "        end\n",
    "    end\n",
    "end\n"
   ]
  },
  {
   "cell_type": "code",
   "execution_count": 4,
   "metadata": {
    "collapsed": false
   },
   "outputs": [],
   "source": [
    "r = randn(7,7)\n",
    "a = covbs(r);\n"
   ]
  },
  {
   "cell_type": "code",
   "execution_count": 6,
   "metadata": {
    "collapsed": false
   },
   "outputs": [
    {
     "data": {
      "text/plain": [
       "SymmetricMatrix.BoxStructure{Float64,2}(NullableArrays.NullableArray{Array{Float64,2},2}[\n",
       "3x3 Array{Float64,2}:\n",
       "  0.0  -0.0   0.0\n",
       " -0.0   0.0  -0.0\n",
       "  0.0  -0.0   0.0,\n",
       "\n",
       "#NULL,#NULL,\n",
       "3x3 Array{Float64,2}:\n",
       "  0.0  -0.0   0.0\n",
       " -0.0   0.0  -0.0\n",
       "  0.0  -0.0   0.0,\n",
       "\n",
       "3x3 Array{Float64,2}:\n",
       "  0.0  -0.0  -0.0\n",
       " -0.0   0.0  -0.0\n",
       " -0.0  -0.0   0.0,\n",
       "\n",
       "#NULL,\n",
       "3x1 Array{Float64,2}:\n",
       " 0.0\n",
       " 0.0\n",
       " 0.0,\n",
       "\n",
       "3x1 Array{Float64,2}:\n",
       " -0.0\n",
       " -0.0\n",
       "  0.0,\n",
       "\n",
       "1x1 Array{Float64,2}:\n",
       " 0.0],3)"
      ]
     },
     "execution_count": 6,
     "metadata": {},
     "output_type": "execute_result"
    }
   ],
   "source": [
    "a*0"
   ]
  },
  {
   "cell_type": "code",
   "execution_count": 8,
   "metadata": {
    "collapsed": false
   },
   "outputs": [
    {
     "data": {
      "text/plain": [
       "SymmetricMatrix.BoxStructure{Float64,2}(NullableArrays.NullableArray{Array{Float64,2},2}[\n",
       "3x3 Array{Float64,2}:\n",
       "  0.0  -0.0   0.0\n",
       " -0.0   0.0  -0.0\n",
       "  0.0  -0.0   0.0,\n",
       "\n",
       "#NULL,#NULL,\n",
       "3x3 Array{Float64,2}:\n",
       "  0.0  -0.0   0.0\n",
       " -0.0   0.0  -0.0\n",
       "  0.0  -0.0   0.0,\n",
       "\n",
       "3x3 Array{Float64,2}:\n",
       "  0.0  -0.0  -0.0\n",
       " -0.0   0.0  -0.0\n",
       " -0.0  -0.0   0.0,\n",
       "\n",
       "#NULL,\n",
       "3x1 Array{Float64,2}:\n",
       " 0.0\n",
       " 0.0\n",
       " 0.0,\n",
       "\n",
       "3x1 Array{Float64,2}:\n",
       " -0.0\n",
       " -0.0\n",
       "  0.0,\n",
       "\n",
       "1x1 Array{Float64,2}:\n",
       " 0.0],3)"
      ]
     },
     "execution_count": 8,
     "metadata": {},
     "output_type": "execute_result"
    }
   ],
   "source": [
    "*(a, 0, true)\n"
   ]
  },
  {
   "cell_type": "code",
   "execution_count": 9,
   "metadata": {
    "collapsed": false
   },
   "outputs": [
    {
     "data": {
      "text/plain": [
       "SymmetricMatrix.BoxStructure{Float64,2}(NullableArrays.NullableArray{Array{Float64,2},2}[\n",
       "3x3 Array{Float64,2}:\n",
       "  0.0  -0.0   0.0\n",
       " -0.0   0.0  -0.0\n",
       "  0.0  -0.0   0.0,\n",
       "\n",
       "#NULL,#NULL,\n",
       "3x3 Array{Float64,2}:\n",
       "  0.0  -0.0   0.0\n",
       " -0.0   0.0  -0.0\n",
       "  0.0  -0.0   0.0,\n",
       "\n",
       "3x3 Array{Float64,2}:\n",
       "  0.0  -0.0  -0.0\n",
       " -0.0   0.0  -0.0\n",
       " -0.0  -0.0   0.0,\n",
       "\n",
       "#NULL,\n",
       "3x1 Array{Float64,2}:\n",
       " 0.0\n",
       " 0.0\n",
       " 0.0,\n",
       "\n",
       "3x1 Array{Float64,2}:\n",
       " -0.0\n",
       " -0.0\n",
       "  0.0,\n",
       "\n",
       "1x1 Array{Float64,2}:\n",
       " 0.0],3)"
      ]
     },
     "execution_count": 9,
     "metadata": {},
     "output_type": "execute_result"
    }
   ],
   "source": [
    "a"
   ]
  },
  {
   "cell_type": "code",
   "execution_count": 3,
   "metadata": {
    "collapsed": false
   },
   "outputs": [
    {
     "ename": "LoadError",
     "evalue": "LoadError: MethodError: `!` has no method matching !(::Int64, ::Int64)\nwhile loading In[3], in expression starting on line 1",
     "output_type": "error",
     "traceback": [
      "LoadError: MethodError: `!` has no method matching !(::Int64, ::Int64)\nwhile loading In[3], in expression starting on line 1",
      ""
     ]
    }
   ],
   "source": [
    "+!(2,2)"
   ]
  },
  {
   "cell_type": "code",
   "execution_count": null,
   "metadata": {
    "collapsed": true
   },
   "outputs": [],
   "source": []
  }
 ],
 "metadata": {
  "kernelspec": {
   "display_name": "Julia 0.4.5",
   "language": "julia",
   "name": "julia-0.4"
  },
  "language_info": {
   "file_extension": ".jl",
   "mimetype": "application/julia",
   "name": "julia",
   "version": "0.4.5"
  }
 },
 "nbformat": 4,
 "nbformat_minor": 0
}
