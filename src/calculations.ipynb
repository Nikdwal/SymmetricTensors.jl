{
 "cells": [
  {
   "cell_type": "code",
   "execution_count": null,
   "metadata": {
    "collapsed": false
   },
   "outputs": [],
   "source": [
    "type Node{T}\n",
    "    left::Nullable{Node{T}}\n",
    "    right::Nullable{Node{T}}\n",
    "    value::T\n",
    "end\n",
    "\n",
    "Node{T}(v::T) = Node(Nullable{Node{T}}(), Nullable{Node{T}}(), v)"
   ]
  },
  {
   "cell_type": "code",
   "execution_count": 1,
   "metadata": {
    "collapsed": false
   },
   "outputs": [
    {
     "ename": "LoadError",
     "evalue": "LoadError: UndefVarError: Node not defined\nwhile loading In[1], in expression starting on line 1",
     "output_type": "error",
     "traceback": [
      "LoadError: UndefVarError: Node not defined\nwhile loading In[1], in expression starting on line 1",
      ""
     ]
    }
   ],
   "source": [
    "n1 = Node(Nullable(Node(2)), Nullable(Node(3)), 10)"
   ]
  },
  {
   "cell_type": "code",
   "execution_count": 12,
   "metadata": {
    "collapsed": false
   },
   "outputs": [
    {
     "data": {
      "text/plain": [
       "right (generic function with 1 method)"
      ]
     },
     "execution_count": 12,
     "metadata": {},
     "output_type": "execute_result"
    }
   ],
   "source": [
    "left(n::Node) = isnull(n.left) ? Void(): get(n.left)\n",
    "right(n::Node) = isnull(n.right) ? Void(): get(n.right)"
   ]
  },
  {
   "cell_type": "code",
   "execution_count": 1,
   "metadata": {
    "collapsed": false
   },
   "outputs": [
    {
     "ename": "LoadError",
     "evalue": "LoadError: UndefVarError: Node not defined\nwhile loading In[1], in expression starting on line 1",
     "output_type": "error",
     "traceback": [
      "LoadError: UndefVarError: Node not defined\nwhile loading In[1], in expression starting on line 1",
      ""
     ]
    }
   ],
   "source": [
    "function search{T}(graph::Node{T}, number)\n",
    "    for i = 1:10\n",
    "        if graph.value == number\n",
    "            return number\n",
    "        else\n",
    "            try\n",
    "                graph = graph.left.value\n",
    "            catch\n",
    "                return 0\n",
    "            end\n",
    "        end\n",
    "    end\n",
    "end\n",
    "    "
   ]
  },
  {
   "cell_type": "code",
   "execution_count": 1,
   "metadata": {
    "collapsed": false
   },
   "outputs": [],
   "source": [
    "include(\"SymmetricMatrix.jl\")\n",
    "include(\"Test.jl\")\n",
    "using Test"
   ]
  },
  {
   "cell_type": "code",
   "execution_count": 5,
   "metadata": {
    "collapsed": false
   },
   "outputs": [
    {
     "name": "stdout",
     "output_type": "stream",
     "text": [
      "  0.368854 seconds (320.15 k allocations: 589.424 MB, 32.72% gc time)\n"
     ]
    }
   ],
   "source": [
    "bs = (convert(BoxStructure{Float64}, st, 10)) ;\n",
    "@time bs1 = (convert(BoxStructure{Float64}, st1, 10)) ;"
   ]
  },
  {
   "cell_type": "code",
   "execution_count": 6,
   "metadata": {
    "collapsed": false
   },
   "outputs": [
    {
     "name": "stdout",
     "output_type": "stream",
     "text": [
      "  0.107971 seconds (259.60 k allocations: 13.942 MB)\n",
      "  0.080173 seconds (322.12 k allocations: 17.625 MB, 4.54% gc time)\n",
      "  0.013778 seconds (7 allocations: 47.684 MB, 19.70% gc time)\n",
      "  0.012109 seconds (7 allocations: 47.684 MB, 10.60% gc time)\n"
     ]
    }
   ],
   "source": [
    "@time bs+bs1;\n",
    "@time bs+2;\n",
    "@time st + st1;\n",
    "@time st + 2;"
   ]
  },
  {
   "cell_type": "code",
   "execution_count": 7,
   "metadata": {
    "collapsed": false
   },
   "outputs": [
    {
     "name": "stdout",
     "output_type": "stream",
     "text": [
      "  0.338190 seconds (1.23 M allocations: 148.155 MB, 15.07% gc time)\n",
      "  0.297563 seconds (1.21 M allocations: 147.300 MB, 15.78% gc time)\n",
      "  0.000001 seconds (6 allocations: 240 bytes)\n"
     ]
    }
   ],
   "source": [
    "@time convert(Array{Float64}, bs);\n",
    "@time vec(bs);\n",
    "@time vec(st);"
   ]
  },
  {
   "cell_type": "code",
   "execution_count": 8,
   "metadata": {
    "collapsed": false
   },
   "outputs": [
    {
     "name": "stdout",
     "output_type": "stream",
     "text": [
      "  0.046923 seconds (217.14 k allocations: 12.077 MB, 5.30% gc time)\n",
      "  0.041683 seconds (211.89 k allocations: 11.764 MB)\n",
      "  0.046537 seconds (217.14 k allocations: 12.077 MB, 5.47% gc time)\n",
      "  0.018239 seconds (13 allocations: 47.684 MB, 7.72% gc time)\n",
      "  0.015898 seconds (7 allocations: 47.684 MB, 4.35% gc time)\n",
      "  0.049982 seconds (13 allocations: 47.684 MB, 1.66% gc time)\n"
     ]
    }
   ],
   "source": [
    "@time bs.*bs1;\n",
    "@time bs+bs1;\n",
    "@time bs./bs1;\n",
    "@time st.*st1;\n",
    "@time st+st1;\n",
    "@time st./st1;"
   ]
  },
  {
   "cell_type": "code",
   "execution_count": 8,
   "metadata": {
    "collapsed": false
   },
   "outputs": [
    {
     "name": "stdout",
     "output_type": "stream",
     "text": [
      "  3.900043 seconds (5.54 M allocations: 6.035 GB, 6.03% gc time)\n",
      "  1.293228 seconds (176 allocations: 946.063 MB, 2.76% gc time)\n"
     ]
    }
   ],
   "source": [
    "@time modemult(bs, c', 4)\n",
    "@time Tensors.modemult(st,c',4);"
   ]
  },
  {
   "cell_type": "code",
   "execution_count": 1,
   "metadata": {
    "collapsed": false
   },
   "outputs": [
    {
     "data": {
      "text/plain": [
       "genstensor (generic function with 2 methods)"
      ]
     },
     "execution_count": 1,
     "metadata": {},
     "output_type": "execute_result"
    }
   ],
   "source": [
    "using Tensors\n",
    "using NullableArrays\n",
    "using Iterators\n",
    "using Base.size\n",
    "\n",
    "include(\"SymmetricMatrix.jl\")\n",
    "using SymmetricMatrix\n",
    "using NullableArrays\n",
    "importall SymmetricMatrix\n",
    "\n",
    "using Iterators\n",
    "function genstensor(T::Type, dims::Int, l::Int, seed::Int = 1234)\n",
    "    srand(seed)\n",
    "    ret = zeros(T, fill(l, dims)...)\n",
    "    indices = collect(product(fill(collect(1:l), dims)...))\n",
    "    elements = Array{T,1}(randn(l^dims÷dims))\n",
    "    r = 1\n",
    "    for i in indices \n",
    "        if issorted(i)          \n",
    "            for k in collect(permutations(i))\n",
    "                ret[k...] = elements[r]\n",
    "            end\n",
    "            r += 1\n",
    "        end\n",
    "    end\n",
    "    ret\n",
    "end\n"
   ]
  },
  {
   "cell_type": "code",
   "execution_count": null,
   "metadata": {
    "collapsed": true
   },
   "outputs": [],
   "source": [
    "l = 75\n",
    "st = genstensor(Float64, 4,l);\n",
    "st1 = genstensor(Float64, 4,l, 1233);\n",
    "c = randn(l,12);"
   ]
  },
  {
   "cell_type": "code",
   "execution_count": 2,
   "metadata": {
    "collapsed": false
   },
   "outputs": [],
   "source": [
    "T1 = randn(5,5);\n",
    "r = randn(25, 25)\n",
    "r1 = randn(25,10)\n",
    "c = covbs(r, 5);\n",
    "c1 = cov(r, corrected = false);\n",
    "\n"
   ]
  },
  {
   "cell_type": "code",
   "execution_count": 2,
   "metadata": {
    "collapsed": false
   },
   "outputs": [],
   "source": [
    "t = genstensor(Float64, 3,25)\n",
    "bs = convert(BoxStructure{Float64}, t, 5);"
   ]
  },
  {
   "cell_type": "code",
   "execution_count": 29,
   "metadata": {
    "collapsed": false
   },
   "outputs": [
    {
     "data": {
      "text/plain": [
       "slise1 (generic function with 1 method)"
      ]
     },
     "execution_count": 29,
     "metadata": {},
     "output_type": "execute_result"
    }
   ],
   "source": [
    "seg(i::Int, of::Int, limit::Int) = (i*of <= limit)? (((i-1)*of+1):(i*of)): (((i-1)*of+1):limit)\n",
    "\n",
    "@generated function slise1{T <: AbstractFloat, N}(mat::Array{T, N}, slisesize::Int)\n",
    "    quote\n",
    "        segments = ceil(Int, [size(mat)...]/slisesize)\n",
    "        ret = NullableArray(Array{T, N}, segments...)\n",
    "        @nloops $N i x -> 1:segments[x] begin\n",
    "            ind = @ntuple $N x -> i_{$N-x+1}\n",
    "            ret[ind...] = mat[(map(i -> seg(ind[i], slisesize, size(mat,i)), 1:N))...]\n",
    "        end\n",
    "        ret\n",
    "    end\n",
    "end\n"
   ]
  },
  {
   "cell_type": "code",
   "execution_count": 112,
   "metadata": {
    "collapsed": false
   },
   "outputs": [],
   "source": [
    "\n",
    "\n",
    "mat = randn(6,6);\n",
    "m = slise(mat, 3);\n",
    "m1 = slise(mat', 3);\n",
    "t = genstensor(Float64, 4,6)\n",
    "bs = convert(BoxStructure{Float64}, t, 2);"
   ]
  },
  {
   "cell_type": "code",
   "execution_count": null,
   "metadata": {
    "collapsed": false
   },
   "outputs": [],
   "source": []
  },
  {
   "cell_type": "code",
   "execution_count": 113,
   "metadata": {
    "collapsed": false
   },
   "outputs": [
    {
     "data": {
      "text/plain": [
       "mult (generic function with 1 method)"
      ]
     },
     "execution_count": 113,
     "metadata": {},
     "output_type": "execute_result"
    }
   ],
   "source": [
    "function mult{T <: AbstractFloat, N}(bs::Union{BoxStructure{T, N}, \n",
    "        NullableArray{Array{T, N}, N}}, m::NullableArray{Matrix{T}}, j, n::Int, s::Int)\n",
    "    temp = NullableArray(Array{T, N}, fill(s, N)...)\n",
    "    if n > 1\n",
    "        for i in product(fill(1:s, (n-1))...)\n",
    "            temp[i...] = segmentmult1([i...,j...], bs, m, n)\n",
    "        end\n",
    "    elseif n == 1\n",
    "        temp[1] = segmentmult1([j...], bs, m, n)\n",
    "    end\n",
    "    temp\n",
    "end"
   ]
  },
  {
   "cell_type": "code",
   "execution_count": 150,
   "metadata": {
    "collapsed": false
   },
   "outputs": [],
   "source": [
    "N = 4\n",
    "ret = NullableArray(Array{Float64, N}, fill(s[2], N)...)\n",
    "for i = 1:s[2], j = 1:i, k = 1:j, l = 1:k\n",
    "    ret[l,k,j,i] = (mm(i,j,k)[l].value)\n",
    "end\n",
    "ret[2,1,1,1];"
   ]
  },
  {
   "cell_type": "code",
   "execution_count": 191,
   "metadata": {
    "collapsed": false
   },
   "outputs": [],
   "source": [
    "function mm(i::Int,j::Int,k::Int)\n",
    "    s = size(bs)\n",
    "    ret = bs\n",
    "    ret = mult(bs, m, [i], 4, s[2]);\n",
    "    ret = mult(ret, m, [j, 1], 3, s[2])\n",
    "    mult(ret, m, [k, 1, 1], 2, s[2])\n",
    "end\n",
    "\n",
    "N = 4\n",
    "ret = NullableArray(Array{Float64, N}, fill(s[2], N)...)\n",
    "for i = 1:s[2], j = 1:s[2], k = 1:s[2], l = 1:s[2]\n",
    "    ret[i,l,k,j] = (mm(i,j,k)[l].value)\n",
    "end\n",
    "ret[1,1,1,2];"
   ]
  },
  {
   "cell_type": "code",
   "execution_count": 188,
   "metadata": {
    "collapsed": false
   },
   "outputs": [
    {
     "data": {
      "text/plain": [
       "2x2x2x2 NullableArrays.NullableArray{Array{Float64,4},4}:\n",
       "[:, :, 1, 1] =\n",
       "      3x3x3x3 Array{Float64,4}:\n",
       "[:, :, 1, 1] =\n",
       " -22.7886   87.3779  -28.7993\n",
       "  47.4691  -17.1373   97.6628\n",
       "   3.2108  -25.607   -26.7401\n",
       "\n",
       "[:, :, 2, 1] =\n",
       " 107.095   -56.5826   -52.0874 \n",
       " -27.1129   97.8658    -6.22401\n",
       " -42.5507   -5.53224   33.2189 \n",
       "\n",
       "[:, :, 3, 1] =\n",
       "  -5.2751   -31.7583   25.6305\n",
       " -23.1081   -28.1404  -41.4878\n",
       "   2.87276   20.8429    4.5511\n",
       "\n",
       "[:, :, 1, 2] =\n",
       " 107.095   -56.5826   -52.0874 \n",
       " -27.1129   97.8658    -6.22401\n",
       " -42.5507   -5.53224   33.2189 \n",
       "\n",
       "[:, :, 2, 2] =\n",
       " -55.6779   72.2134    0.00141865\n",
       "  35.3165  -32.7907  -31.6806    \n",
       "  19.9935  -33.1008   -5.91456   \n",
       "\n",
       "[:, :, 3, 2] =\n",
       " -44.9248     0.779416   39.219  \n",
       "  -5.12518  -34.2247      2.25109\n",
       "  24.3152     1.4902    -10.0498 \n",
       "\n",
       "[:, :, 1, 3] =\n",
       "  -5.2751   -31.7583   25.6305\n",
       " -23.1081   -28.1404  -41.4878\n",
       "   2.87276   20.8429    4.5511\n",
       "\n",
       "[:, :, 2, 3] =\n",
       " -44.9248     0.779416   39.219  \n",
       "  -5.12518  -34.2247      2.25109\n",
       "  24.3152     1.4902    -10.0498 \n",
       "\n",
       "[:, :, 3, 3] =\n",
       "  8.22308   21.0771  -29.1512 \n",
       " 19.021     23.2906   10.2633 \n",
       " -4.18241  -10.1548    4.53446  …  #NULL\n",
       " #NULL                                                                                                                                                                                                                                                                                                                                                                                                                                                                                                                                                                                                                                                                                                                                                                                                                                                                                                                                                                                                                                                                                #NULL\n",
       "\n",
       "[:, :, 2, 1] =\n",
       " #NULL  #NULL\n",
       " #NULL  #NULL\n",
       "\n",
       "[:, :, 1, 2] =\n",
       " #NULL  #NULL\n",
       " #NULL  #NULL\n",
       "\n",
       "[:, :, 2, 2] =\n",
       " #NULL  #NULL\n",
       " #NULL  #NULL"
      ]
     },
     "execution_count": 188,
     "metadata": {},
     "output_type": "execute_result"
    }
   ],
   "source": []
  },
  {
   "cell_type": "code",
   "execution_count": 189,
   "metadata": {
    "collapsed": false
   },
   "outputs": [
    {
     "data": {
      "text/plain": [
       "Nullable(3x3x3x3 Array{Float64,4}:\n",
       "[:, :, 1, 1] =\n",
       " -43.1523  -18.0105    27.1124\n",
       " -18.0105   -1.89069   12.0542\n",
       "  27.1124   12.0542   -18.0902\n",
       "\n",
       "[:, :, 2, 1] =\n",
       " -18.0105    -1.89069  12.0542 \n",
       "  -1.89069  -16.5722   11.0968 \n",
       "  12.0542    11.0968   -7.57523\n",
       "\n",
       "[:, :, 3, 1] =\n",
       "  27.1124  12.0542   -18.0902 \n",
       "  12.0542  11.0968    -7.57523\n",
       " -18.0902  -7.57523   10.9983 \n",
       "\n",
       "[:, :, 1, 2] =\n",
       "   1.41346  -95.6701  14.6193 \n",
       " -95.6701    62.2032  37.1311 \n",
       "  14.6193    37.1311  -3.07002\n",
       "\n",
       "[:, :, 2, 2] =\n",
       " -95.6701   62.2032   37.1311\n",
       "  62.2032  -52.7219  -57.7438\n",
       "  37.1311  -57.7438   15.1439\n",
       "\n",
       "[:, :, 3, 2] =\n",
       " 14.6193    37.1311   -3.07002\n",
       " 37.1311   -57.7438   15.1439 \n",
       " -3.07002   15.1439  -34.0501 \n",
       "\n",
       "[:, :, 1, 3] =\n",
       " -124.727    22.1264   52.0471 \n",
       "   22.1264   51.0128  -43.7799 \n",
       "   52.0471  -43.7799    2.46936\n",
       "\n",
       "[:, :, 2, 3] =\n",
       "  22.1264    51.0128  -43.7799\n",
       "  51.0128  -102.992    26.7913\n",
       " -43.7799    26.7913   27.5347\n",
       "\n",
       "[:, :, 3, 3] =\n",
       "  52.0471   -43.7799    2.46936\n",
       " -43.7799    26.7913   27.5347 \n",
       "   2.46936   27.5347  -29.3927 )"
      ]
     },
     "execution_count": 189,
     "metadata": {},
     "output_type": "execute_result"
    }
   ],
   "source": [
    "r = t\n",
    "for i = 2:4\n",
    "    r = Tensors.modemult(r, mat, i)\n",
    "end\n",
    "\n",
    "slise1(r, 3)[2,1,1,1]"
   ]
  },
  {
   "cell_type": "code",
   "execution_count": 6,
   "metadata": {
    "collapsed": false
   },
   "outputs": [
    {
     "data": {
      "text/plain": [
       "SymmetricMatrix.BoxStructure{Float64,2}(NullableArrays.NullableArray{Array{Float64,2},2}[\n",
       "3x3 Array{Float64,2}:\n",
       "  0.0  -0.0   0.0\n",
       " -0.0   0.0  -0.0\n",
       "  0.0  -0.0   0.0,\n",
       "\n",
       "#NULL,#NULL,\n",
       "3x3 Array{Float64,2}:\n",
       "  0.0  -0.0   0.0\n",
       " -0.0   0.0  -0.0\n",
       "  0.0  -0.0   0.0,\n",
       "\n",
       "3x3 Array{Float64,2}:\n",
       "  0.0  -0.0  -0.0\n",
       " -0.0   0.0  -0.0\n",
       " -0.0  -0.0   0.0,\n",
       "\n",
       "#NULL,\n",
       "3x1 Array{Float64,2}:\n",
       " 0.0\n",
       " 0.0\n",
       " 0.0,\n",
       "\n",
       "3x1 Array{Float64,2}:\n",
       " -0.0\n",
       " -0.0\n",
       "  0.0,\n",
       "\n",
       "1x1 Array{Float64,2}:\n",
       " 0.0],3)"
      ]
     },
     "execution_count": 6,
     "metadata": {},
     "output_type": "execute_result"
    }
   ],
   "source": [
    "a*0"
   ]
  },
  {
   "cell_type": "code",
   "execution_count": 8,
   "metadata": {
    "collapsed": false
   },
   "outputs": [
    {
     "data": {
      "text/plain": [
       "SymmetricMatrix.BoxStructure{Float64,2}(NullableArrays.NullableArray{Array{Float64,2},2}[\n",
       "3x3 Array{Float64,2}:\n",
       "  0.0  -0.0   0.0\n",
       " -0.0   0.0  -0.0\n",
       "  0.0  -0.0   0.0,\n",
       "\n",
       "#NULL,#NULL,\n",
       "3x3 Array{Float64,2}:\n",
       "  0.0  -0.0   0.0\n",
       " -0.0   0.0  -0.0\n",
       "  0.0  -0.0   0.0,\n",
       "\n",
       "3x3 Array{Float64,2}:\n",
       "  0.0  -0.0  -0.0\n",
       " -0.0   0.0  -0.0\n",
       " -0.0  -0.0   0.0,\n",
       "\n",
       "#NULL,\n",
       "3x1 Array{Float64,2}:\n",
       " 0.0\n",
       " 0.0\n",
       " 0.0,\n",
       "\n",
       "3x1 Array{Float64,2}:\n",
       " -0.0\n",
       " -0.0\n",
       "  0.0,\n",
       "\n",
       "1x1 Array{Float64,2}:\n",
       " 0.0],3)"
      ]
     },
     "execution_count": 8,
     "metadata": {},
     "output_type": "execute_result"
    }
   ],
   "source": [
    "*(a, 0, true)\n"
   ]
  },
  {
   "cell_type": "code",
   "execution_count": 9,
   "metadata": {
    "collapsed": false
   },
   "outputs": [
    {
     "data": {
      "text/plain": [
       "SymmetricMatrix.BoxStructure{Float64,2}(NullableArrays.NullableArray{Array{Float64,2},2}[\n",
       "3x3 Array{Float64,2}:\n",
       "  0.0  -0.0   0.0\n",
       " -0.0   0.0  -0.0\n",
       "  0.0  -0.0   0.0,\n",
       "\n",
       "#NULL,#NULL,\n",
       "3x3 Array{Float64,2}:\n",
       "  0.0  -0.0   0.0\n",
       " -0.0   0.0  -0.0\n",
       "  0.0  -0.0   0.0,\n",
       "\n",
       "3x3 Array{Float64,2}:\n",
       "  0.0  -0.0  -0.0\n",
       " -0.0   0.0  -0.0\n",
       " -0.0  -0.0   0.0,\n",
       "\n",
       "#NULL,\n",
       "3x1 Array{Float64,2}:\n",
       " 0.0\n",
       " 0.0\n",
       " 0.0,\n",
       "\n",
       "3x1 Array{Float64,2}:\n",
       " -0.0\n",
       " -0.0\n",
       "  0.0,\n",
       "\n",
       "1x1 Array{Float64,2}:\n",
       " 0.0],3)"
      ]
     },
     "execution_count": 9,
     "metadata": {},
     "output_type": "execute_result"
    }
   ],
   "source": [
    "a"
   ]
  },
  {
   "cell_type": "code",
   "execution_count": 7,
   "metadata": {
    "collapsed": false
   },
   "outputs": [
    {
     "data": {
      "text/plain": [
       "3-element Array{Int64,1}:\n",
       " 2\n",
       " 2\n",
       " 3"
      ]
     },
     "execution_count": 7,
     "metadata": {},
     "output_type": "execute_result"
    }
   ],
   "source": [
    "j = 2\n",
    "k = [1,2,3]\n",
    "[j, k[2:end]...]"
   ]
  },
  {
   "cell_type": "code",
   "execution_count": 77,
   "metadata": {
    "collapsed": false
   },
   "outputs": [
    {
     "data": {
      "text/plain": [
       "3-element Array{Int64,1}:\n",
       " 3\n",
       " 2\n",
       " 1"
      ]
     },
     "execution_count": 77,
     "metadata": {},
     "output_type": "execute_result"
    }
   ],
   "source": [
    "[1,2,3][end:-1:1]"
   ]
  },
  {
   "cell_type": "code",
   "execution_count": null,
   "metadata": {
    "collapsed": true
   },
   "outputs": [],
   "source": []
  }
 ],
 "metadata": {
  "kernelspec": {
   "display_name": "Julia 0.4.5",
   "language": "julia",
   "name": "julia-0.4"
  },
  "language_info": {
   "file_extension": ".jl",
   "mimetype": "application/julia",
   "name": "julia",
   "version": "0.4.5"
  }
 },
 "nbformat": 4,
 "nbformat_minor": 0
}
