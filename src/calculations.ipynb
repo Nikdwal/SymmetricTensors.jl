{
 "cells": [
  {
   "cell_type": "code",
   "execution_count": 1,
   "metadata": {
    "collapsed": false
   },
   "outputs": [
    {
     "data": {
      "text/plain": [
       "Node{T}"
      ]
     },
     "execution_count": 1,
     "metadata": {},
     "output_type": "execute_result"
    }
   ],
   "source": [
    "type Node{T}\n",
    "    left::Nullable{Node{T}}\n",
    "    right::Nullable{Node{T}}\n",
    "    value::T\n",
    "end\n",
    "\n",
    "Node{T}(v::T) = Node(Nullable{Node{T}}(), Nullable{Node{T}}(), v)"
   ]
  },
  {
   "cell_type": "code",
   "execution_count": 1,
   "metadata": {
    "collapsed": false
   },
   "outputs": [
    {
     "ename": "LoadError",
     "evalue": "LoadError: UndefVarError: Node not defined\nwhile loading In[1], in expression starting on line 1",
     "output_type": "error",
     "traceback": [
      "LoadError: UndefVarError: Node not defined\nwhile loading In[1], in expression starting on line 1",
      ""
     ]
    }
   ],
   "source": [
    "n1 = Node(Nullable(Node(2)), Nullable(Node(3)), 10)"
   ]
  },
  {
   "cell_type": "code",
   "execution_count": 12,
   "metadata": {
    "collapsed": false
   },
   "outputs": [
    {
     "data": {
      "text/plain": [
       "right (generic function with 1 method)"
      ]
     },
     "execution_count": 12,
     "metadata": {},
     "output_type": "execute_result"
    }
   ],
   "source": [
    "left(n::Node) = isnull(n.left) ? Void(): get(n.left)\n",
    "right(n::Node) = isnull(n.right) ? Void(): get(n.right)"
   ]
  },
  {
   "cell_type": "code",
   "execution_count": 91,
   "metadata": {
    "collapsed": false
   },
   "outputs": [
    {
     "data": {
      "text/plain": [
       "search (generic function with 1 method)"
      ]
     },
     "execution_count": 91,
     "metadata": {},
     "output_type": "execute_result"
    }
   ],
   "source": [
    "function search{T}(graph::Node{T}, number)\n",
    "    for i = 1:10\n",
    "        if graph.value == number\n",
    "            return number\n",
    "        else\n",
    "            try\n",
    "                graph = graph.left.value\n",
    "            catch\n",
    "                return 0\n",
    "            end\n",
    "        end\n",
    "    end\n",
    "end\n",
    "    "
   ]
  },
  {
   "cell_type": "code",
   "execution_count": 1,
   "metadata": {
    "collapsed": false
   },
   "outputs": [],
   "source": [
    "include(\"SymmetricMatrix.jl\")\n",
    "include(\"Test.jl\")\n",
    "using Test"
   ]
  },
  {
   "cell_type": "code",
   "execution_count": 2,
   "metadata": {
    "collapsed": false
   },
   "outputs": [
    {
     "name": "stderr",
     "output_type": "stream",
     "text": [
      "WARNING: replacing module SymmetricMatrix\n"
     ]
    }
   ],
   "source": [
    "include(\"SymmetricMatrix.jl\")\n",
    "using SymmetricMatrix\n",
    "using NullableArrays\n",
    "importall SymmetricMatrix"
   ]
  },
  {
   "cell_type": "code",
   "execution_count": 3,
   "metadata": {
    "collapsed": false
   },
   "outputs": [
    {
     "data": {
      "text/plain": [
       "genstensor (generic function with 2 methods)"
      ]
     },
     "execution_count": 3,
     "metadata": {},
     "output_type": "execute_result"
    }
   ],
   "source": [
    "using Iterators\n",
    "function genstensor(T::Type, dims::Int, l::Int, seed::Int = 1234)\n",
    "    srand(seed)\n",
    "    ret = zeros(T, fill(l, dims)...)\n",
    "    indices = collect(product(fill(collect(1:l), dims)...))\n",
    "    elements = Array{T,1}(randn(l^dims÷dims))\n",
    "    r = 1\n",
    "    for i in indices \n",
    "        if issorted(i)          \n",
    "            for k in collect(permutations(i))\n",
    "                ret[k...] = elements[r]\n",
    "            end\n",
    "            r += 1\n",
    "        end\n",
    "    end\n",
    "    ret\n",
    "end"
   ]
  },
  {
   "cell_type": "code",
   "execution_count": 4,
   "metadata": {
    "collapsed": false
   },
   "outputs": [],
   "source": [
    "l = 75\n",
    "st = genstensor(Float64, 4,l);\n",
    "st1 = genstensor(Float64, 4,l, 1233);\n",
    "c = randn(l,12);"
   ]
  },
  {
   "cell_type": "code",
   "execution_count": 5,
   "metadata": {
    "collapsed": false
   },
   "outputs": [
    {
     "name": "stdout",
     "output_type": "stream",
     "text": [
      "  0.368854 seconds (320.15 k allocations: 589.424 MB, 32.72% gc time)\n"
     ]
    }
   ],
   "source": [
    "bs = (convert(BoxStructure{Float64}, st, 10)) ;\n",
    "@time bs1 = (convert(BoxStructure{Float64}, st1, 10)) ;"
   ]
  },
  {
   "cell_type": "code",
   "execution_count": 6,
   "metadata": {
    "collapsed": false
   },
   "outputs": [
    {
     "name": "stdout",
     "output_type": "stream",
     "text": [
      "  0.107971 seconds (259.60 k allocations: 13.942 MB)\n",
      "  0.080173 seconds (322.12 k allocations: 17.625 MB, 4.54% gc time)\n",
      "  0.013778 seconds (7 allocations: 47.684 MB, 19.70% gc time)\n",
      "  0.012109 seconds (7 allocations: 47.684 MB, 10.60% gc time)\n"
     ]
    }
   ],
   "source": [
    "@time bs+bs1;\n",
    "@time bs+2;\n",
    "@time st + st1;\n",
    "@time st + 2;"
   ]
  },
  {
   "cell_type": "code",
   "execution_count": 7,
   "metadata": {
    "collapsed": false
   },
   "outputs": [
    {
     "name": "stdout",
     "output_type": "stream",
     "text": [
      "  0.338190 seconds (1.23 M allocations: 148.155 MB, 15.07% gc time)\n",
      "  0.297563 seconds (1.21 M allocations: 147.300 MB, 15.78% gc time)\n",
      "  0.000001 seconds (6 allocations: 240 bytes)\n"
     ]
    }
   ],
   "source": [
    "@time convert(Array{Float64}, bs);\n",
    "@time vec(bs);\n",
    "@time vec(st);"
   ]
  },
  {
   "cell_type": "code",
   "execution_count": 8,
   "metadata": {
    "collapsed": false
   },
   "outputs": [
    {
     "name": "stdout",
     "output_type": "stream",
     "text": [
      "  0.046923 seconds (217.14 k allocations: 12.077 MB, 5.30% gc time)\n",
      "  0.041683 seconds (211.89 k allocations: 11.764 MB)\n",
      "  0.046537 seconds (217.14 k allocations: 12.077 MB, 5.47% gc time)\n",
      "  0.018239 seconds (13 allocations: 47.684 MB, 7.72% gc time)\n",
      "  0.015898 seconds (7 allocations: 47.684 MB, 4.35% gc time)\n",
      "  0.049982 seconds (13 allocations: 47.684 MB, 1.66% gc time)\n"
     ]
    }
   ],
   "source": [
    "@time bs.*bs1;\n",
    "@time bs+bs1;\n",
    "@time bs./bs1;\n",
    "@time st.*st1;\n",
    "@time st+st1;\n",
    "@time st./st1;"
   ]
  },
  {
   "cell_type": "code",
   "execution_count": 8,
   "metadata": {
    "collapsed": false
   },
   "outputs": [
    {
     "name": "stdout",
     "output_type": "stream",
     "text": [
      "  3.900043 seconds (5.54 M allocations: 6.035 GB, 6.03% gc time)\n",
      "  1.293228 seconds (176 allocations: 946.063 MB, 2.76% gc time)\n"
     ]
    }
   ],
   "source": [
    "@time modemult(bs, c', 4)\n",
    "@time Tensors.modemult(st,c',4);"
   ]
  },
  {
   "cell_type": "code",
   "execution_count": 197,
   "metadata": {
    "collapsed": false
   },
   "outputs": [
    {
     "data": {
      "text/plain": [
       "quote  # cartesian.jl, line 31:\n",
       "    for i_3 = 1:size(T,3) # cartesian.jl, line 32:\n",
       "        nothing # cartesian.jl, line 33:\n",
       "        begin  # cartesian.jl, line 31:\n",
       "            for i_2 = 1:i_3 # cartesian.jl, line 32:\n",
       "                nothing # cartesian.jl, line 33:\n",
       "                begin  # cartesian.jl, line 31:\n",
       "                    for i_1 = 1:i_2 # cartesian.jl, line 32:\n",
       "                        nothing # cartesian.jl, line 33:\n",
       "                        begin  # In[197], line 2:\n",
       "                            s += A[3 - i,3 - i,3 - i]\n",
       "                        end # cartesian.jl, line 34:\n",
       "                        nothing\n",
       "                    end\n",
       "                end # cartesian.jl, line 34:\n",
       "                nothing\n",
       "            end\n",
       "        end # cartesian.jl, line 34:\n",
       "        nothing\n",
       "    end\n",
       "end"
      ]
     },
     "execution_count": 197,
     "metadata": {},
     "output_type": "execute_result"
    }
   ],
   "source": [
    "macroexpand(:(@nloops 3 i x -> (x==3)? (1:size(T, x)): (1:i_{x+1}) begin\n",
    "    s+= @nref 3 A x -> 3 - i\n",
    "#    s += A[(@ntuple 3 x -> i_{4-x})...]\n",
    "        end\n",
    "))"
   ]
  },
  {
   "cell_type": "code",
   "execution_count": 8,
   "metadata": {
    "collapsed": false
   },
   "outputs": [],
   "source": [
    "T1 = randn(5,5);\n",
    "r = randn(10,10)\n",
    "c = covbs(r);\n",
    "c1 = cov(r, corrected = false);"
   ]
  },
  {
   "cell_type": "code",
   "execution_count": 3,
   "metadata": {
    "collapsed": false
   },
   "outputs": [
    {
     "data": {
      "text/plain": [
       "bstoarray (generic function with 1 method)"
      ]
     },
     "execution_count": 3,
     "metadata": {},
     "output_type": "execute_result"
    }
   ],
   "source": [
    "function bstoarray{T <: AbstractFloat}(bsfunction::Function, dims::Int, bsdata::BoxStructure{T}...)\n",
    "    (size(bsdata, 1) > 1)? testsize(bsdata...): ()\n",
    "    s = size(bsdata[1])\n",
    "    ret = zeros(T, fill(s[3], dims)...)\n",
    "    for k in product(fill(1:s[2], dims)...)\n",
    "        ret[(map(i -> seg(k[i], s[1], s[3]), 1:dims))...] = bsfunction(collect(k), bsdata...)\n",
    "    end\n",
    "    ret\n",
    "end"
   ]
  },
  {
   "cell_type": "code",
   "execution_count": 26,
   "metadata": {
    "collapsed": false
   },
   "outputs": [
    {
     "data": {
      "text/plain": [
       "covbb (generic function with 3 methods)"
      ]
     },
     "execution_count": 26,
     "metadata": {},
     "output_type": "execute_result"
    }
   ],
   "source": [
    "using Tensors\n",
    "seg(i::Int, of::Int, limit::Int) = (i*of <= limit)? (((i-1)*of+1):(i*of)): (((i-1)*of+1):limit)\n",
    "\n",
    "issymetric{T <: AbstractFloat}(data::Array{T}, tool::Float64 = 1e-7) = map(i -> (maximum(abs(unfold(data, 1)-unfold(data, i))) < tool) || throw(DimensionMismatch(\"array is not symmetric\")), 2:ndims(data))\n",
    "segsizetest(len::Int, segments::Int) = ((len%segments) <= (len÷segments)) || throw(DimensionMismatch(\"last segment len $len-segments*(len÷segments)) > segment len $(len÷segments)\"))\n",
    "issquare{T <: AbstractFloat, S}(ar::(Union{NullableArrays.NullableArray{Array{T,S},S}, Array{T,S}})) = (maximum(size(ar)) == minimum(size(ar)) )\n",
    "\n",
    "function creatnarray{T <: AbstractFloat}(data::Array{T}, rule::Function, segments::Int)\n",
    "    (size(data,1)%segments == 0)? () : segments += 1\n",
    "    dim = ndims(data)\n",
    "    ret = NullableArray(Array{T, dim}, fill(segments, dim)...)\n",
    "    for i in product(fill(1:segments, dim)...)\n",
    "      if issorted(i)\n",
    "        ret[i...] = rule(data, i...)::Array{T}\n",
    "      end\n",
    "    end\n",
    "    ret\n",
    "end\n",
    "\n",
    "\n",
    "function covbb{T <: AbstractFloat}(data::Matrix{T}, segments::Int = 2, corrected::Bool = false)\n",
    "    len = size(data,2)\n",
    "    segsizetest(len, segments)\n",
    "    (len%segments == 0)? () : segments += 1\n",
    "    ret = NullableArray(Matrix{T}, segments, segments)\n",
    "    for i = 1:segments, j = i:segments\n",
    "        ret[i,j] = cov(data[:,seg(i, ceil(Int, len/segments), len)], data[:,seg(j, ceil(Int, len/segments), len)], corrected = corrected)\n",
    "    end\n",
    "    BoxStructure(ret)\n",
    "end"
   ]
  },
  {
   "cell_type": "code",
   "execution_count": 13,
   "metadata": {
    "collapsed": false
   },
   "outputs": [
    {
     "ename": "LoadError",
     "evalue": "LoadError: ArgumentError: underdiagonal block not null\nwhile loading In[13], in expression starting on line 2",
     "output_type": "error",
     "traceback": [
      "LoadError: ArgumentError: underdiagonal block not null\nwhile loading In[13], in expression starting on line 2",
      ""
     ]
    }
   ],
   "source": [
    "x = [2,3,3]\n",
    "minimum(x .== x[1]) || throw(ArgumentError(\"underdiagonal block not null\"))"
   ]
  },
  {
   "cell_type": "code",
   "execution_count": 5,
   "metadata": {
    "collapsed": false
   },
   "outputs": [
    {
     "data": {
      "text/plain": [
       "5x6 Array{Float64,2}:\n",
       " -0.185857    0.515684  -1.77571   -0.0140652  -0.457079   -0.64563 \n",
       "  0.0870488  -0.818033  -1.6023    -0.130673   -0.0775373   2.29581 \n",
       " -0.0823961  -1.20214   -3.34439    1.38618    -0.155304   -0.332532\n",
       " -0.401845    0.993415  -1.36642   -0.178862   -0.966669   -1.16284 \n",
       "  0.726349    0.45505   -0.850471   0.214769   -0.80302     0.691576"
      ]
     },
     "execution_count": 5,
     "metadata": {},
     "output_type": "execute_result"
    }
   ],
   "source": [
    "a = randn(5,6)"
   ]
  },
  {
   "cell_type": "code",
   "execution_count": 22,
   "metadata": {
    "collapsed": false
   },
   "outputs": [
    {
     "name": "stdout",
     "output_type": "stream",
     "text": [
      "[1,1]\n",
      "[1,1]\n"
     ]
    }
   ],
   "source": [
    "for p in permutations([1,1])\n",
    "    println(p)\n",
    "end"
   ]
  },
  {
   "cell_type": "code",
   "execution_count": 27,
   "metadata": {
    "collapsed": false
   },
   "outputs": [
    {
     "data": {
      "text/plain": [
       "2"
      ]
     },
     "execution_count": 27,
     "metadata": {},
     "output_type": "execute_result"
    }
   ],
   "source": [
    "ceil(Int, 10/5)"
   ]
  },
  {
   "cell_type": "code",
   "execution_count": 3,
   "metadata": {
    "collapsed": false
   },
   "outputs": [
    {
     "data": {
      "text/plain": [
       "false"
      ]
     },
     "execution_count": 3,
     "metadata": {},
     "output_type": "execute_result"
    }
   ],
   "source": [
    "true * false"
   ]
  },
  {
   "cell_type": "code",
   "execution_count": 140,
   "metadata": {
    "collapsed": false
   },
   "outputs": [
    {
     "data": {
      "text/plain": [
       "(1,2,3)"
      ]
     },
     "execution_count": 140,
     "metadata": {},
     "output_type": "execute_result"
    }
   ],
   "source": [
    "(1,2)"
   ]
  },
  {
   "cell_type": "code",
   "execution_count": null,
   "metadata": {
    "collapsed": true
   },
   "outputs": [],
   "source": []
  }
 ],
 "metadata": {
  "kernelspec": {
   "display_name": "Julia 0.4.5",
   "language": "julia",
   "name": "julia-0.4"
  },
  "language_info": {
   "file_extension": ".jl",
   "mimetype": "application/julia",
   "name": "julia",
   "version": "0.4.5"
  }
 },
 "nbformat": 4,
 "nbformat_minor": 0
}
