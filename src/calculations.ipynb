{
 "cells": [
  {
   "cell_type": "code",
   "execution_count": 1,
   "metadata": {
    "collapsed": false
   },
   "outputs": [
    {
     "data": {
      "text/plain": [
       "Node{T}"
      ]
     },
     "execution_count": 1,
     "metadata": {},
     "output_type": "execute_result"
    }
   ],
   "source": [
    "type Node{T}\n",
    "    left::Nullable{Node{T}}\n",
    "    right::Nullable{Node{T}}\n",
    "    value::T\n",
    "end\n",
    "\n",
    "Node{T}(v::T) = Node(Nullable{Node{T}}(), Nullable{Node{T}}(), v)"
   ]
  },
  {
   "cell_type": "code",
   "execution_count": 1,
   "metadata": {
    "collapsed": false
   },
   "outputs": [
    {
     "ename": "LoadError",
     "evalue": "LoadError: UndefVarError: Node not defined\nwhile loading In[1], in expression starting on line 1",
     "output_type": "error",
     "traceback": [
      "LoadError: UndefVarError: Node not defined\nwhile loading In[1], in expression starting on line 1",
      ""
     ]
    }
   ],
   "source": [
    "n1 = Node(Nullable(Node(2)), Nullable(Node(3)), 10)"
   ]
  },
  {
   "cell_type": "code",
   "execution_count": 12,
   "metadata": {
    "collapsed": false
   },
   "outputs": [
    {
     "data": {
      "text/plain": [
       "right (generic function with 1 method)"
      ]
     },
     "execution_count": 12,
     "metadata": {},
     "output_type": "execute_result"
    }
   ],
   "source": [
    "left(n::Node) = isnull(n.left) ? Void(): get(n.left)\n",
    "right(n::Node) = isnull(n.right) ? Void(): get(n.right)"
   ]
  },
  {
   "cell_type": "code",
   "execution_count": 91,
   "metadata": {
    "collapsed": false
   },
   "outputs": [
    {
     "data": {
      "text/plain": [
       "search (generic function with 1 method)"
      ]
     },
     "execution_count": 91,
     "metadata": {},
     "output_type": "execute_result"
    }
   ],
   "source": [
    "function search{T}(graph::Node{T}, number)\n",
    "    for i = 1:10\n",
    "        if graph.value == number\n",
    "            return number\n",
    "        else\n",
    "            try\n",
    "                graph = graph.left.value\n",
    "            catch\n",
    "                return 0\n",
    "            end\n",
    "        end\n",
    "    end\n",
    "end\n",
    "    "
   ]
  },
  {
   "cell_type": "code",
   "execution_count": 1,
   "metadata": {
    "collapsed": false
   },
   "outputs": [],
   "source": [
    "include(\"SymmetricMatrix.jl\")\n",
    "include(\"Test.jl\")\n",
    "using Test"
   ]
  },
  {
   "cell_type": "code",
   "execution_count": 1,
   "metadata": {
    "collapsed": false
   },
   "outputs": [],
   "source": [
    "include(\"SymmetricMatrix.jl\")\n",
    "using SymmetricMatrix\n",
    "using NullableArrays\n",
    "importall SymmetricMatrix"
   ]
  },
  {
   "cell_type": "code",
   "execution_count": 3,
   "metadata": {
    "collapsed": false
   },
   "outputs": [
    {
     "data": {
      "text/plain": [
       "genstensor (generic function with 2 methods)"
      ]
     },
     "execution_count": 3,
     "metadata": {},
     "output_type": "execute_result"
    }
   ],
   "source": [
    "using Iterators\n",
    "function genstensor(T::Type, dims::Int, l::Int, seed::Int = 1234)\n",
    "    srand(seed)\n",
    "    ret = zeros(T, fill(l, dims)...)\n",
    "    indices = collect(product(fill(collect(1:l), dims)...))\n",
    "    elements = Array{T,1}(randn(l^dims÷dims))\n",
    "    r = 1\n",
    "    for i in indices \n",
    "        if issorted(i)          \n",
    "            for k in collect(permutations(i))\n",
    "                ret[k...] = elements[r]\n",
    "            end\n",
    "            r += 1\n",
    "        end\n",
    "    end\n",
    "    ret\n",
    "end"
   ]
  },
  {
   "cell_type": "code",
   "execution_count": 4,
   "metadata": {
    "collapsed": false
   },
   "outputs": [],
   "source": [
    "st = genstensor(Float64, 4,100);\n",
    "st1 = genstensor(Float64, 4,100, 1233);"
   ]
  },
  {
   "cell_type": "code",
   "execution_count": 5,
   "metadata": {
    "collapsed": false
   },
   "outputs": [
    {
     "name": "stdout",
     "output_type": "stream",
     "text": [
      "  4.022548 seconds (335.30 k allocations: 9.016 GB, 4.74% gc time)\n"
     ]
    }
   ],
   "source": [
    "bs = (convert(BoxStructure{Float64}, st, 10)) ;\n",
    "@time bs1 = (convert(BoxStructure{Float64}, st1, 10)) ;"
   ]
  },
  {
   "cell_type": "code",
   "execution_count": 10,
   "metadata": {
    "collapsed": false
   },
   "outputs": [
    {
     "name": "stdout",
     "output_type": "stream",
     "text": [
      "  0.176726 seconds (326.84 k allocations: 77.425 MB, 31.42% gc time)\n",
      "  0.145968 seconds (306.82 k allocations: 76.618 MB, 33.04% gc time)\n",
      "  0.226577 seconds (7 allocations: 762.940 MB, 16.91% gc time)\n",
      "  0.175412 seconds (7 allocations: 762.940 MB, 24.00% gc time)\n"
     ]
    }
   ],
   "source": [
    "@time bs+bs1;\n",
    "@time bs+2;\n",
    "@time st + st1;\n",
    "@time st + 2;"
   ]
  },
  {
   "cell_type": "code",
   "execution_count": 11,
   "metadata": {
    "collapsed": false
   },
   "outputs": [
    {
     "name": "stdout",
     "output_type": "stream",
     "text": [
      "  0.878337 seconds (1.22 M allocations: 1.541 GB, 13.66% gc time)\n",
      "  0.849561 seconds (1.22 M allocations: 1.541 GB, 9.76% gc time)\n",
      "  0.000001 seconds (6 allocations: 240 bytes)\n"
     ]
    }
   ],
   "source": [
    "@time convert(Array{Float64}, bs);\n",
    "@time vec(bs);\n",
    "@time vec(st);"
   ]
  },
  {
   "cell_type": "code",
   "execution_count": 13,
   "metadata": {
    "collapsed": false
   },
   "outputs": [
    {
     "name": "stdout",
     "output_type": "stream",
     "text": [
      "  0.091177 seconds (331.13 k allocations: 77.687 MB)\n",
      "  0.139853 seconds (326.84 k allocations: 77.425 MB, 39.03% gc time)\n",
      "  0.170148 seconds (331.13 k allocations: 77.687 MB, 23.96% gc time)\n",
      "  0.298498 seconds (13 allocations: 762.940 MB, 13.26% gc time)\n",
      "  0.217914 seconds (7 allocations: 762.940 MB, 20.48% gc time)\n",
      "  0.814043 seconds (13 allocations: 762.940 MB, 4.22% gc time)\n"
     ]
    }
   ],
   "source": [
    "@time bs.*bs1;\n",
    "@time bs+bs1;\n",
    "@time bs./bs1;\n",
    "@time st.*st1;\n",
    "@time st+st1;\n",
    "@time st./st1;"
   ]
  },
  {
   "cell_type": "code",
   "execution_count": 2,
   "metadata": {
    "collapsed": false
   },
   "outputs": [
    {
     "ename": "LoadError",
     "evalue": "LoadError: UndefVarError: genstensor not defined\nwhile loading In[2], in expression starting on line 1",
     "output_type": "error",
     "traceback": [
      "LoadError: UndefVarError: genstensor not defined\nwhile loading In[2], in expression starting on line 1",
      ""
     ]
    }
   ],
   "source": [
    "t = genstensor(Float64, 4,10)"
   ]
  },
  {
   "cell_type": "code",
   "execution_count": 2,
   "metadata": {
    "collapsed": false
   },
   "outputs": [],
   "source": [
    "a = randn(10,10)\n",
    "b = convert(BoxStructure{Float64}, a*a');\n",
    "c = randn(10,8);"
   ]
  },
  {
   "cell_type": "code",
   "execution_count": 3,
   "metadata": {
    "collapsed": false
   },
   "outputs": [
    {
     "data": {
      "text/plain": [
       "10x8 Array{Float64,2}:\n",
       " -1.77636e-15   0.0           0.0          …  -4.44089e-16  -8.88178e-16\n",
       " -1.11022e-15   0.0           0.0             -8.88178e-16  -1.77636e-15\n",
       " -1.77636e-15   0.0           0.0             -1.55431e-15   0.0        \n",
       "  0.0           7.10543e-15   0.0              3.55271e-15   8.88178e-16\n",
       " -1.77636e-15  -5.32907e-15   0.0             -8.88178e-16   0.0        \n",
       "  0.0           0.0           0.0          …   0.0           1.77636e-15\n",
       " -3.55271e-15   0.0           0.0             -1.77636e-15   0.0        \n",
       " -1.77636e-15   0.0           0.0              2.66454e-15  -1.77636e-15\n",
       "  1.77636e-15  -4.44089e-15  -1.77636e-15      8.88178e-16   0.0        \n",
       " -8.88178e-16   4.44089e-16   0.0              1.11022e-16   0.0        "
      ]
     },
     "execution_count": 3,
     "metadata": {},
     "output_type": "execute_result"
    }
   ],
   "source": [
    "tt(b,c) - a*a'*c"
   ]
  },
  {
   "cell_type": "code",
   "execution_count": null,
   "metadata": {
    "collapsed": true
   },
   "outputs": [],
   "source": []
  }
 ],
 "metadata": {
  "kernelspec": {
   "display_name": "Julia 0.4.0",
   "language": "julia",
   "name": "julia-0.4"
  },
  "language_info": {
   "file_extension": ".jl",
   "mimetype": "application/julia",
   "name": "julia",
   "version": "0.4.5"
  }
 },
 "nbformat": 4,
 "nbformat_minor": 0
}
