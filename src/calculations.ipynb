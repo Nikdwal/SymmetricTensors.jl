{
 "cells": [
  {
   "cell_type": "code",
   "execution_count": null,
   "metadata": {
    "collapsed": false
   },
   "outputs": [],
   "source": [
    "type Node{T}\n",
    "    left::Nullable{Node{T}}\n",
    "    right::Nullable{Node{T}}\n",
    "    value::T\n",
    "end\n",
    "\n",
    "Node{T}(v::T) = Node(Nullable{Node{T}}(), Nullable{Node{T}}(), v)"
   ]
  },
  {
   "cell_type": "code",
   "execution_count": 1,
   "metadata": {
    "collapsed": false
   },
   "outputs": [
    {
     "ename": "LoadError",
     "evalue": "LoadError: UndefVarError: Node not defined\nwhile loading In[1], in expression starting on line 1",
     "output_type": "error",
     "traceback": [
      "LoadError: UndefVarError: Node not defined\nwhile loading In[1], in expression starting on line 1",
      ""
     ]
    }
   ],
   "source": [
    "n1 = Node(Nullable(Node(2)), Nullable(Node(3)), 10)"
   ]
  },
  {
   "cell_type": "code",
   "execution_count": 12,
   "metadata": {
    "collapsed": false
   },
   "outputs": [
    {
     "data": {
      "text/plain": [
       "right (generic function with 1 method)"
      ]
     },
     "execution_count": 12,
     "metadata": {},
     "output_type": "execute_result"
    }
   ],
   "source": [
    "left(n::Node) = isnull(n.left) ? Void(): get(n.left)\n",
    "right(n::Node) = isnull(n.right) ? Void(): get(n.right)"
   ]
  },
  {
   "cell_type": "code",
   "execution_count": 1,
   "metadata": {
    "collapsed": false
   },
   "outputs": [
    {
     "ename": "LoadError",
     "evalue": "LoadError: UndefVarError: Node not defined\nwhile loading In[1], in expression starting on line 1",
     "output_type": "error",
     "traceback": [
      "LoadError: UndefVarError: Node not defined\nwhile loading In[1], in expression starting on line 1",
      ""
     ]
    }
   ],
   "source": [
    "function search{T}(graph::Node{T}, number)\n",
    "    for i = 1:10\n",
    "        if graph.value == number\n",
    "            return number\n",
    "        else\n",
    "            try\n",
    "                graph = graph.left.value\n",
    "            catch\n",
    "                return 0\n",
    "            end\n",
    "        end\n",
    "    end\n",
    "end\n",
    "    "
   ]
  },
  {
   "cell_type": "code",
   "execution_count": 1,
   "metadata": {
    "collapsed": false
   },
   "outputs": [],
   "source": [
    "include(\"SymmetricMatrix.jl\")\n",
    "include(\"Test.jl\")\n",
    "using Test"
   ]
  },
  {
   "cell_type": "code",
   "execution_count": 4,
   "metadata": {
    "collapsed": false
   },
   "outputs": [],
   "source": [
    "l = 75\n",
    "st = genstensor(Float64, 4,l);\n",
    "st1 = genstensor(Float64, 4,l, 1233);\n",
    "c = randn(l,12);"
   ]
  },
  {
   "cell_type": "code",
   "execution_count": 5,
   "metadata": {
    "collapsed": false
   },
   "outputs": [
    {
     "name": "stdout",
     "output_type": "stream",
     "text": [
      "  0.368854 seconds (320.15 k allocations: 589.424 MB, 32.72% gc time)\n"
     ]
    }
   ],
   "source": [
    "bs = (convert(BoxStructure{Float64}, st, 10)) ;\n",
    "@time bs1 = (convert(BoxStructure{Float64}, st1, 10)) ;"
   ]
  },
  {
   "cell_type": "code",
   "execution_count": 6,
   "metadata": {
    "collapsed": false
   },
   "outputs": [
    {
     "name": "stdout",
     "output_type": "stream",
     "text": [
      "  0.107971 seconds (259.60 k allocations: 13.942 MB)\n",
      "  0.080173 seconds (322.12 k allocations: 17.625 MB, 4.54% gc time)\n",
      "  0.013778 seconds (7 allocations: 47.684 MB, 19.70% gc time)\n",
      "  0.012109 seconds (7 allocations: 47.684 MB, 10.60% gc time)\n"
     ]
    }
   ],
   "source": [
    "@time bs+bs1;\n",
    "@time bs+2;\n",
    "@time st + st1;\n",
    "@time st + 2;"
   ]
  },
  {
   "cell_type": "code",
   "execution_count": 7,
   "metadata": {
    "collapsed": false
   },
   "outputs": [
    {
     "name": "stdout",
     "output_type": "stream",
     "text": [
      "  0.338190 seconds (1.23 M allocations: 148.155 MB, 15.07% gc time)\n",
      "  0.297563 seconds (1.21 M allocations: 147.300 MB, 15.78% gc time)\n",
      "  0.000001 seconds (6 allocations: 240 bytes)\n"
     ]
    }
   ],
   "source": [
    "@time convert(Array{Float64}, bs);\n",
    "@time vec(bs);\n",
    "@time vec(st);"
   ]
  },
  {
   "cell_type": "code",
   "execution_count": 8,
   "metadata": {
    "collapsed": false
   },
   "outputs": [
    {
     "name": "stdout",
     "output_type": "stream",
     "text": [
      "  0.046923 seconds (217.14 k allocations: 12.077 MB, 5.30% gc time)\n",
      "  0.041683 seconds (211.89 k allocations: 11.764 MB)\n",
      "  0.046537 seconds (217.14 k allocations: 12.077 MB, 5.47% gc time)\n",
      "  0.018239 seconds (13 allocations: 47.684 MB, 7.72% gc time)\n",
      "  0.015898 seconds (7 allocations: 47.684 MB, 4.35% gc time)\n",
      "  0.049982 seconds (13 allocations: 47.684 MB, 1.66% gc time)\n"
     ]
    }
   ],
   "source": [
    "@time bs.*bs1;\n",
    "@time bs+bs1;\n",
    "@time bs./bs1;\n",
    "@time st.*st1;\n",
    "@time st+st1;\n",
    "@time st./st1;"
   ]
  },
  {
   "cell_type": "code",
   "execution_count": 8,
   "metadata": {
    "collapsed": false
   },
   "outputs": [
    {
     "name": "stdout",
     "output_type": "stream",
     "text": [
      "  3.900043 seconds (5.54 M allocations: 6.035 GB, 6.03% gc time)\n",
      "  1.293228 seconds (176 allocations: 946.063 MB, 2.76% gc time)\n"
     ]
    }
   ],
   "source": [
    "@time modemult(bs, c', 4)\n",
    "@time Tensors.modemult(st,c',4);"
   ]
  },
  {
   "cell_type": "code",
   "execution_count": 1,
   "metadata": {
    "collapsed": false
   },
   "outputs": [
    {
     "data": {
      "text/plain": [
       "genstensor (generic function with 2 methods)"
      ]
     },
     "execution_count": 1,
     "metadata": {},
     "output_type": "execute_result"
    }
   ],
   "source": [
    "using Tensors\n",
    "using NullableArrays\n",
    "using Iterators\n",
    "using Base.size\n",
    "\n",
    "include(\"SymmetricMatrix.jl\")\n",
    "using SymmetricMatrix\n",
    "using NullableArrays\n",
    "importall SymmetricMatrix\n",
    "\n",
    "using Iterators\n",
    "function genstensor(T::Type, dims::Int, l::Int, seed::Int = 1234)\n",
    "    srand(seed)\n",
    "    ret = zeros(T, fill(l, dims)...)\n",
    "    indices = collect(product(fill(collect(1:l), dims)...))\n",
    "    elements = Array{T,1}(randn(l^dims÷dims))\n",
    "    r = 1\n",
    "    for i in indices \n",
    "        if issorted(i)          \n",
    "            for k in collect(permutations(i))\n",
    "                ret[k...] = elements[r]\n",
    "            end\n",
    "            r += 1\n",
    "        end\n",
    "    end\n",
    "    ret\n",
    "end\n"
   ]
  },
  {
   "cell_type": "code",
   "execution_count": 2,
   "metadata": {
    "collapsed": false
   },
   "outputs": [],
   "source": [
    "T1 = randn(5,5);\n",
    "r = randn(25, 25)\n",
    "r1 = randn(25,10)\n",
    "c = covbs(r, 5);\n",
    "c1 = cov(r, corrected = false);\n",
    "\n"
   ]
  },
  {
   "cell_type": "code",
   "execution_count": 3,
   "metadata": {
    "collapsed": false
   },
   "outputs": [],
   "source": [
    "t = genstensor(Float64, 3,25)\n",
    "bs = convert(BoxStructure{Float64}, t, 5);"
   ]
  },
  {
   "cell_type": "code",
   "execution_count": 4,
   "metadata": {
    "collapsed": false
   },
   "outputs": [
    {
     "data": {
      "text/plain": [
       "bcss3 (generic function with 1 method)"
      ]
     },
     "execution_count": 4,
     "metadata": {},
     "output_type": "execute_result"
    }
   ],
   "source": [
    "function bcss3{T <: AbstractFloat}(bsdata::BoxStructure{T, 3}, m::Matrix{T})\n",
    "    s = size(bsdata)\n",
    "    s[3]  == size(m,2)||throw(DimensionMismatch(\"size of B1 $(s[3]) must equal to size of A $(size(m,2))\"))\n",
    "    m = slise(m, s[1])\n",
    "    ret = NullableArray(Array{T, 3}, fill(size(m,1), 2)...)\n",
    "    for i = 1:size(m,1)\n",
    "      temp = NullableArray(Array{T, 3}, s[2], 1, 1)\n",
    "      for k = 1:s[2]\n",
    "          temp[k, 1, 1] = segmentmult1([i,k,1], bsdata, m)\n",
    "      end\n",
    "        for l = 1:j\n",
    "            ret[i,j,l] = segmentmult1([j,1,1], temp[i,j], m, 1)\n",
    "      end\n",
    "   end\n",
    "   ret\n",
    "end\n"
   ]
  },
  {
   "cell_type": "code",
   "execution_count": 5,
   "metadata": {
    "collapsed": false
   },
   "outputs": [
    {
     "data": {
      "text/plain": [
       "2x2 NullableArrays.NullableArray{Array{Float64,3},2}:\n",
       "      5x5x5 Array{Float64,3}:\n",
       "[:, :, 1] =\n",
       "   5.74777  -10.6799    -10.9166     5.0843   13.0333  \n",
       "   5.12134   -0.281218   -2.03015    5.12026   3.3496  \n",
       " -11.0883    23.7359     -3.60763    2.10315  17.8703  \n",
       " -21.9854     1.17153    -4.3479    -0.13072  -0.594912\n",
       "   9.72706    3.98861     0.327007  -6.81443   0.67241 \n",
       "\n",
       "[:, :, 2] =\n",
       "  -4.55285     2.94061  2.33412  -14.2594    -2.4403 \n",
       "   0.235536   -3.5433   2.46339   -6.39998   -1.94953\n",
       " -12.6079    -30.1052   6.96845    2.84582   18.8294 \n",
       "   9.33275     8.25229  2.81774   -1.89907    3.89528\n",
       "  13.1132     19.153    1.79056    6.18137  -16.0467 \n",
       "\n",
       "[:, :, 3] =\n",
       "  -0.0916293   -0.577611  -3.3156    12.2387        6.86757\n",
       "  -8.647      -11.8704    -0.841567   0.000308356  -0.94929\n",
       " -26.3966     -29.3328     5.18613   10.0979       -9.48842\n",
       "   2.60315     -0.478173  -2.54488   -8.35473      12.3497 \n",
       "  -4.50449      3.03901   -3.40491    1.32979      -1.38473\n",
       "\n",
       "[:, :, 4] =\n",
       "  -3.03412   -1.70188  19.9509     11.6369    7.29831\n",
       "  -2.08654    6.39702  -0.452449    1.30275   8.14892\n",
       " -14.6645    -9.06933  18.5122    -20.2691   19.254  \n",
       "   0.710847   2.67919  -8.30687    26.0782   11.1041 \n",
       "  -2.91711   17.6592   -3.29704     5.14041  -5.51941\n",
       "\n",
       "[:, :, 5] =\n",
       "  10.9645    -8.97063   6.39943   3.09388   2.18514\n",
       "  -6.63518  -11.4923    2.33606  13.4285   -5.6338 \n",
       "   4.82083   22.6236   -9.46296  18.4786    2.19509\n",
       "   5.29779   -2.93902  14.704     4.98806   7.88318\n",
       " -12.4965   -21.9918    5.94052  16.3498    3.17196  …  5x5x5 Array{Float64,3}:\n",
       "[:, :, 1] =\n",
       "   2.3435   24.1386    10.9698     17.8313   -10.623  \n",
       "   4.67114   2.74033    4.24232     4.54735  -15.2835 \n",
       " -16.2131    6.16494    0.130918    4.51339    3.88031\n",
       "   4.68631  -2.90024  -15.4773    -34.56       1.79415\n",
       "  14.5528   12.8868    -7.24955    31.6918   -25.5789 \n",
       "\n",
       "[:, :, 2] =\n",
       "   0.571207  -10.6937     -6.80236   -5.06254   -14.7615 \n",
       "  -0.917922   11.1787    -12.883     -8.22178     5.81594\n",
       " -11.8289     -0.984667   -3.75683  -18.1961     24.129  \n",
       "   1.5517     14.2721    -13.7827    -6.20751    16.2529 \n",
       "   8.93097     5.05943     5.22587   -0.983505  -29.7584 \n",
       "\n",
       "[:, :, 3] =\n",
       "  11.5554    -3.36741   7.43436    8.65631   -8.22641\n",
       "   5.36517  -17.5463    2.64485   -3.52395    3.36866\n",
       "  16.9827   -23.3633    3.26162   -0.31914  -13.0875 \n",
       " -18.1376   -12.8307   -3.06489  -13.2984     3.47517\n",
       "  -6.61446   -2.40389  -7.78877   -4.32017   23.2771 \n",
       "\n",
       "[:, :, 4] =\n",
       "  34.0329    -12.2663     8.91062   16.9781   -2.24512\n",
       "  18.9079     -3.01779   -6.01835   20.1142   -2.92725\n",
       "   0.262011  -27.1844     0.43651   18.7074   -8.99433\n",
       " -23.4034     -1.77527  -12.999    -12.1154    3.6912 \n",
       "  36.8001      3.51313   -4.91512    4.29239  15.0902 \n",
       "\n",
       "[:, :, 5] =\n",
       "  -6.89274  -16.4201   -29.1085   28.1762    2.46891\n",
       "  -5.45567   -6.01471   -9.83353  14.5014    3.26015\n",
       "   8.17792  -10.9756   -25.7547   11.1202  -13.8242 \n",
       "   3.93198   12.9805    -4.48839  10.9828  -12.9992 \n",
       " -12.9191   -32.5532    22.5876   16.8442    8.50116\n",
       " #NULL                                                                                                                                                                                                                                                                                                                                                                                                                                                                                                                                                                                                                                                                                                                                                                                                                                                                                                                                                                                                                                                                                                                                                                                                                                                                                                                                                                                                                                                                                                                                5x5x5 Array{Float64,3}:\n",
       "[:, :, 1] =\n",
       "  10.0643    19.5391   -1.1006    15.0543  -24.822  \n",
       " -12.1242   -12.8594    6.6105   -17.8395   24.2692 \n",
       "   7.47022    7.09025   3.59523   11.9333  -18.7539 \n",
       " -14.1083   -10.7941   -6.05416   21.0865    7.29622\n",
       "  -8.45783   31.1794   11.9471    41.4429  -14.0022 \n",
       "\n",
       "[:, :, 2] =\n",
       " -13.3435   -21.2466     0.765933    0.193121  -15.7107 \n",
       "   1.15979   24.4673    -3.15714    -4.6932     18.5938 \n",
       "   8.78426    0.986672  -9.10031   -10.5864     -4.09251\n",
       "  13.6962    21.3849     4.53921   -30.5545      3.01344\n",
       "  -9.74253  -19.7084    -3.61553   -14.0727     -3.39606\n",
       "\n",
       "[:, :, 3] =\n",
       "  7.72491  -12.7082    7.28889     22.818     -21.3212 \n",
       "  3.68796   11.1685   -5.12361    -16.2634     10.0264 \n",
       "  4.07276  -15.362    -0.0128748   -0.726681    5.48409\n",
       "  4.08078  -12.6261  -19.4943      -1.14759     6.59614\n",
       " 27.4479   -21.9245   12.9633       8.49398   -11.2842 \n",
       "\n",
       "[:, :, 4] =\n",
       "  20.2125   -8.62621   24.0129   16.3828    6.92009\n",
       " -16.744    -8.01116  -15.3056   -1.28418  -3.65083\n",
       "  25.4892   -2.21441   -3.4147   20.4917   -6.84285\n",
       "  17.7413  -20.8089    -2.90427  33.4838    4.43456\n",
       "  48.0182  -27.7722     9.55134  29.883    -7.66776\n",
       "\n",
       "[:, :, 5] =\n",
       " -9.09315    -26.5071  -33.3357   29.2429      6.99415\n",
       "  1.97506     17.0888    2.93403   0.613495   11.245  \n",
       " -7.29348    -16.1432   -4.44995   5.29268   -12.1531 \n",
       "  6.47256    -36.348     3.94048   2.19991   -14.0816 \n",
       "  0.0824493  -30.302   -33.7134   29.5203     -4.99398          "
      ]
     },
     "execution_count": 5,
     "metadata": {},
     "output_type": "execute_result"
    }
   ],
   "source": [
    "bcss3(bs, r1')"
   ]
  },
  {
   "cell_type": "code",
   "execution_count": 4,
   "metadata": {
    "collapsed": false
   },
   "outputs": [
    {
     "data": {
      "text/plain": [
       "SymmetricMatrix.BoxStructure{Float64,2}(NullableArrays.NullableArray{Array{Float64,2},2}[\n",
       "5x5 Array{Float64,2}:\n",
       " 0.0  0.0  0.0  0.0  0.0\n",
       " 0.0  0.0  0.0  0.0  0.0\n",
       " 0.0  0.0  0.0  0.0  0.0\n",
       " 0.0  0.0  0.0  0.0  0.0\n",
       " 0.0  0.0  0.0  0.0  0.0,\n",
       "\n",
       "#NULL,\n",
       "5x5 Array{Float64,2}:\n",
       " 0.0  0.0  0.0  0.0  0.0\n",
       " 0.0  0.0  0.0  0.0  0.0\n",
       " 0.0  0.0  0.0  0.0  0.0\n",
       " 0.0  0.0  0.0  0.0  0.0\n",
       " 0.0  0.0  0.0  0.0  0.0,\n",
       "\n",
       "5x5 Array{Float64,2}:\n",
       " 0.0  0.0  0.0  0.0  0.0\n",
       " 0.0  0.0  0.0  0.0  0.0\n",
       " 0.0  0.0  0.0  0.0  0.0\n",
       " 0.0  0.0  0.0  0.0  0.0\n",
       " 0.0  0.0  0.0  0.0  0.0],5)"
      ]
     },
     "execution_count": 4,
     "metadata": {},
     "output_type": "execute_result"
    }
   ],
   "source": [
    "bcss(c, r1) - bcss1(c, r1)"
   ]
  },
  {
   "cell_type": "code",
   "execution_count": 9,
   "metadata": {
    "collapsed": false
   },
   "outputs": [],
   "source": [
    "for f in (\n",
    "    :+,\n",
    "    :-,\n",
    ")\n",
    "    @eval begin\n",
    "        @inline function $(f){S1, S2}(x::Nullable{Matrix{S1}}, y::Nullable{Matrix{S2}}, i::Int)\n",
    "            Nullable($(f)(x.value, y.value), x.isnull | y.isnull)\n",
    "        end\n",
    "    end\n",
    "end\n"
   ]
  },
  {
   "cell_type": "code",
   "execution_count": 3,
   "metadata": {
    "collapsed": false
   },
   "outputs": [],
   "source": [
    "r = randn(7,7)\n",
    "a = covbs(r);\n"
   ]
  },
  {
   "cell_type": "code",
   "execution_count": 6,
   "metadata": {
    "collapsed": false
   },
   "outputs": [
    {
     "data": {
      "text/plain": [
       "SymmetricMatrix.BoxStructure{Float64,2}(NullableArrays.NullableArray{Array{Float64,2},2}[\n",
       "3x3 Array{Float64,2}:\n",
       "  0.0  -0.0   0.0\n",
       " -0.0   0.0  -0.0\n",
       "  0.0  -0.0   0.0,\n",
       "\n",
       "#NULL,#NULL,\n",
       "3x3 Array{Float64,2}:\n",
       "  0.0  -0.0   0.0\n",
       " -0.0   0.0  -0.0\n",
       "  0.0  -0.0   0.0,\n",
       "\n",
       "3x3 Array{Float64,2}:\n",
       "  0.0  -0.0  -0.0\n",
       " -0.0   0.0  -0.0\n",
       " -0.0  -0.0   0.0,\n",
       "\n",
       "#NULL,\n",
       "3x1 Array{Float64,2}:\n",
       " 0.0\n",
       " 0.0\n",
       " 0.0,\n",
       "\n",
       "3x1 Array{Float64,2}:\n",
       " -0.0\n",
       " -0.0\n",
       "  0.0,\n",
       "\n",
       "1x1 Array{Float64,2}:\n",
       " 0.0],3)"
      ]
     },
     "execution_count": 6,
     "metadata": {},
     "output_type": "execute_result"
    }
   ],
   "source": [
    "a*0"
   ]
  },
  {
   "cell_type": "code",
   "execution_count": 8,
   "metadata": {
    "collapsed": false
   },
   "outputs": [
    {
     "data": {
      "text/plain": [
       "SymmetricMatrix.BoxStructure{Float64,2}(NullableArrays.NullableArray{Array{Float64,2},2}[\n",
       "3x3 Array{Float64,2}:\n",
       "  0.0  -0.0   0.0\n",
       " -0.0   0.0  -0.0\n",
       "  0.0  -0.0   0.0,\n",
       "\n",
       "#NULL,#NULL,\n",
       "3x3 Array{Float64,2}:\n",
       "  0.0  -0.0   0.0\n",
       " -0.0   0.0  -0.0\n",
       "  0.0  -0.0   0.0,\n",
       "\n",
       "3x3 Array{Float64,2}:\n",
       "  0.0  -0.0  -0.0\n",
       " -0.0   0.0  -0.0\n",
       " -0.0  -0.0   0.0,\n",
       "\n",
       "#NULL,\n",
       "3x1 Array{Float64,2}:\n",
       " 0.0\n",
       " 0.0\n",
       " 0.0,\n",
       "\n",
       "3x1 Array{Float64,2}:\n",
       " -0.0\n",
       " -0.0\n",
       "  0.0,\n",
       "\n",
       "1x1 Array{Float64,2}:\n",
       " 0.0],3)"
      ]
     },
     "execution_count": 8,
     "metadata": {},
     "output_type": "execute_result"
    }
   ],
   "source": [
    "*(a, 0, true)\n"
   ]
  },
  {
   "cell_type": "code",
   "execution_count": 9,
   "metadata": {
    "collapsed": false
   },
   "outputs": [
    {
     "data": {
      "text/plain": [
       "SymmetricMatrix.BoxStructure{Float64,2}(NullableArrays.NullableArray{Array{Float64,2},2}[\n",
       "3x3 Array{Float64,2}:\n",
       "  0.0  -0.0   0.0\n",
       " -0.0   0.0  -0.0\n",
       "  0.0  -0.0   0.0,\n",
       "\n",
       "#NULL,#NULL,\n",
       "3x3 Array{Float64,2}:\n",
       "  0.0  -0.0   0.0\n",
       " -0.0   0.0  -0.0\n",
       "  0.0  -0.0   0.0,\n",
       "\n",
       "3x3 Array{Float64,2}:\n",
       "  0.0  -0.0  -0.0\n",
       " -0.0   0.0  -0.0\n",
       " -0.0  -0.0   0.0,\n",
       "\n",
       "#NULL,\n",
       "3x1 Array{Float64,2}:\n",
       " 0.0\n",
       " 0.0\n",
       " 0.0,\n",
       "\n",
       "3x1 Array{Float64,2}:\n",
       " -0.0\n",
       " -0.0\n",
       "  0.0,\n",
       "\n",
       "1x1 Array{Float64,2}:\n",
       " 0.0],3)"
      ]
     },
     "execution_count": 9,
     "metadata": {},
     "output_type": "execute_result"
    }
   ],
   "source": [
    "a"
   ]
  },
  {
   "cell_type": "code",
   "execution_count": 7,
   "metadata": {
    "collapsed": false
   },
   "outputs": [
    {
     "data": {
      "text/plain": [
       "3-element Array{Int64,1}:\n",
       " 2\n",
       " 2\n",
       " 3"
      ]
     },
     "execution_count": 7,
     "metadata": {},
     "output_type": "execute_result"
    }
   ],
   "source": [
    "j = 2\n",
    "k = [1,2,3]\n",
    "[j, k[2:end]...]"
   ]
  },
  {
   "cell_type": "code",
   "execution_count": null,
   "metadata": {
    "collapsed": true
   },
   "outputs": [],
   "source": []
  }
 ],
 "metadata": {
  "kernelspec": {
   "display_name": "Julia 0.4.5",
   "language": "julia",
   "name": "julia-0.4"
  },
  "language_info": {
   "file_extension": ".jl",
   "mimetype": "application/julia",
   "name": "julia",
   "version": "0.4.5"
  }
 },
 "nbformat": 4,
 "nbformat_minor": 0
}
