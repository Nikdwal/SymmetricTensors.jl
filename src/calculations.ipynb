{
 "cells": [
  {
   "cell_type": "code",
   "execution_count": 1,
   "metadata": {
    "collapsed": false
   },
   "outputs": [
    {
     "data": {
      "text/plain": [
       "Node{T}"
      ]
     },
     "execution_count": 1,
     "metadata": {},
     "output_type": "execute_result"
    }
   ],
   "source": [
    "type Node{T}\n",
    "    left::Nullable{Node{T}}\n",
    "    right::Nullable{Node{T}}\n",
    "    value::T\n",
    "end\n",
    "\n",
    "Node{T}(v::T) = Node(Nullable{Node{T}}(), Nullable{Node{T}}(), v)"
   ]
  },
  {
   "cell_type": "code",
   "execution_count": 1,
   "metadata": {
    "collapsed": false
   },
   "outputs": [
    {
     "ename": "LoadError",
     "evalue": "LoadError: UndefVarError: Node not defined\nwhile loading In[1], in expression starting on line 1",
     "output_type": "error",
     "traceback": [
      "LoadError: UndefVarError: Node not defined\nwhile loading In[1], in expression starting on line 1",
      ""
     ]
    }
   ],
   "source": [
    "n1 = Node(Nullable(Node(2)), Nullable(Node(3)), 10)"
   ]
  },
  {
   "cell_type": "code",
   "execution_count": 12,
   "metadata": {
    "collapsed": false
   },
   "outputs": [
    {
     "data": {
      "text/plain": [
       "right (generic function with 1 method)"
      ]
     },
     "execution_count": 12,
     "metadata": {},
     "output_type": "execute_result"
    }
   ],
   "source": [
    "left(n::Node) = isnull(n.left) ? Void(): get(n.left)\n",
    "right(n::Node) = isnull(n.right) ? Void(): get(n.right)"
   ]
  },
  {
   "cell_type": "code",
   "execution_count": 91,
   "metadata": {
    "collapsed": false
   },
   "outputs": [
    {
     "data": {
      "text/plain": [
       "search (generic function with 1 method)"
      ]
     },
     "execution_count": 91,
     "metadata": {},
     "output_type": "execute_result"
    }
   ],
   "source": [
    "function search{T}(graph::Node{T}, number)\n",
    "    for i = 1:10\n",
    "        if graph.value == number\n",
    "            return number\n",
    "        else\n",
    "            try\n",
    "                graph = graph.left.value\n",
    "            catch\n",
    "                return 0\n",
    "            end\n",
    "        end\n",
    "    end\n",
    "end\n",
    "    "
   ]
  },
  {
   "cell_type": "code",
   "execution_count": 1,
   "metadata": {
    "collapsed": false
   },
   "outputs": [],
   "source": [
    "include(\"SymmetricMatrix.jl\")\n",
    "include(\"Test.jl\")\n",
    "using Test"
   ]
  },
  {
   "cell_type": "code",
   "execution_count": 1,
   "metadata": {
    "collapsed": false
   },
   "outputs": [],
   "source": [
    "include(\"SymmetricMatrix.jl\")\n",
    "using SymmetricMatrix\n",
    "using NullableArrays\n",
    "importall SymmetricMatrix"
   ]
  },
  {
   "cell_type": "code",
   "execution_count": 2,
   "metadata": {
    "collapsed": false
   },
   "outputs": [
    {
     "data": {
      "text/plain": [
       "genstensor (generic function with 2 methods)"
      ]
     },
     "execution_count": 2,
     "metadata": {},
     "output_type": "execute_result"
    }
   ],
   "source": [
    "using Iterators\n",
    "function genstensor(T::Type, dims::Int, l::Int, seed::Int = 1234)\n",
    "    srand(seed)\n",
    "    ret = zeros(T, fill(l, dims)...)\n",
    "    indices = collect(product(fill(collect(1:l), dims)...))\n",
    "    elements = Array{T,1}(randn(l^dims÷dims))\n",
    "    r = 1\n",
    "    for i in indices \n",
    "        if issorted(i)          \n",
    "            for k in collect(permutations(i))\n",
    "                ret[k...] = elements[r]\n",
    "            end\n",
    "            r += 1\n",
    "        end\n",
    "    end\n",
    "    ret\n",
    "end"
   ]
  },
  {
   "cell_type": "code",
   "execution_count": 3,
   "metadata": {
    "collapsed": false
   },
   "outputs": [],
   "source": [
    "l = 100\n",
    "st = genstensor(Float64, 4,l);\n",
    "st1 = genstensor(Float64, 4,l, 1233);\n",
    "c = randn(l,12);"
   ]
  },
  {
   "cell_type": "code",
   "execution_count": 4,
   "metadata": {
    "collapsed": false
   },
   "outputs": [
    {
     "name": "stdout",
     "output_type": "stream",
     "text": [
      "  3.874624 seconds (321.07 k allocations: 9.016 GB, 4.34% gc time)\n"
     ]
    }
   ],
   "source": [
    "bs = (convert(BoxStructure{Float64}, st, 10)) ;\n",
    "@time bs1 = (convert(BoxStructure{Float64}, st1, 10)) ;"
   ]
  },
  {
   "cell_type": "code",
   "execution_count": 5,
   "metadata": {
    "collapsed": false
   },
   "outputs": [
    {
     "name": "stdout",
     "output_type": "stream",
     "text": [
      "  0.328269 seconds (468.27 k allocations: 84.380 MB, 21.15% gc time)\n",
      "  0.109335 seconds (318.81 k allocations: 77.178 MB)\n",
      "  0.220835 seconds (7 allocations: 762.940 MB, 16.10% gc time)\n",
      "  0.163464 seconds (7 allocations: 762.940 MB, 24.33% gc time)\n"
     ]
    }
   ],
   "source": [
    "@time bs+bs1;\n",
    "@time bs+2;\n",
    "@time st + st1;\n",
    "@time st + 2;"
   ]
  },
  {
   "cell_type": "code",
   "execution_count": 6,
   "metadata": {
    "collapsed": false
   },
   "outputs": [
    {
     "name": "stdout",
     "output_type": "stream",
     "text": [
      "  1.106713 seconds (1.49 M allocations: 1.553 GB, 8.54% gc time)\n",
      "  0.811949 seconds (1.23 M allocations: 1.541 GB, 7.96% gc time)\n",
      "  0.000002 seconds (6 allocations: 240 bytes)\n"
     ]
    }
   ],
   "source": [
    "@time convert(Array{Float64}, bs);\n",
    "@time vec(bs);\n",
    "@time vec(st);"
   ]
  },
  {
   "cell_type": "code",
   "execution_count": 7,
   "metadata": {
    "collapsed": false
   },
   "outputs": [
    {
     "name": "stdout",
     "output_type": "stream",
     "text": [
      "  0.400118 seconds (596.88 k allocations: 89.653 MB, 2.12% gc time)\n",
      "  0.101318 seconds (326.91 k allocations: 77.428 MB, 8.02% gc time)\n",
      "  0.195885 seconds (357.83 k allocations: 79.060 MB, 24.00% gc time)\n",
      "  0.289738 seconds (13 allocations: 762.940 MB, 12.49% gc time)\n",
      "  0.221641 seconds (7 allocations: 762.940 MB, 15.59% gc time)\n",
      "  0.794166 seconds (13 allocations: 762.940 MB, 4.06% gc time)\n"
     ]
    }
   ],
   "source": [
    "@time bs.*bs1;\n",
    "@time bs+bs1;\n",
    "@time bs./bs1;\n",
    "@time st.*st1;\n",
    "@time st+st1;\n",
    "@time st./st1;"
   ]
  },
  {
   "cell_type": "code",
   "execution_count": 8,
   "metadata": {
    "collapsed": false
   },
   "outputs": [
    {
     "name": "stdout",
     "output_type": "stream",
     "text": [
      "  3.900043 seconds (5.54 M allocations: 6.035 GB, 6.03% gc time)\n",
      "  1.293228 seconds (176 allocations: 946.063 MB, 2.76% gc time)\n"
     ]
    }
   ],
   "source": [
    "@time modemult(bs, c', 4)\n",
    "@time Tensors.modemult(st,c',4);"
   ]
  },
  {
   "cell_type": "code",
   "execution_count": null,
   "metadata": {
    "collapsed": true
   },
   "outputs": [],
   "source": []
  }
 ],
 "metadata": {
  "kernelspec": {
   "display_name": "Julia 0.4.0",
   "language": "julia",
   "name": "julia-0.4"
  },
  "language_info": {
   "file_extension": ".jl",
   "mimetype": "application/julia",
   "name": "julia",
   "version": "0.4.5"
  }
 },
 "nbformat": 4,
 "nbformat_minor": 0
}
