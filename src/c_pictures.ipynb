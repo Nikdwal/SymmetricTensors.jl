{
 "cells": [
  {
   "cell_type": "code",
   "execution_count": null,
   "metadata": {
    "collapsed": true,
    "focus": false,
    "id": "48f2e138-8277-4767-897f-fedd90d4e321"
   },
   "outputs": [],
   "source": []
  },
  {
   "cell_type": "code",
   "execution_count": null,
   "metadata": {
    "collapsed": false,
    "focus": false,
    "id": "c2e57fda-b95b-415f-ad14-b64fdfdce24a"
   },
   "outputs": [],
   "source": []
  },
  {
   "cell_type": "code",
   "execution_count": 52,
   "metadata": {
    "collapsed": false,
    "focus": false,
    "id": "bcf8d404-5747-4e6c-930c-99d68f80b4d6"
   },
   "outputs": [
    {
     "data": {
      "text/plain": [
       "generate_random_gauss (generic function with 1 method)"
      ]
     },
     "execution_count": 52,
     "metadata": {},
     "output_type": "execute_result"
    }
   ],
   "source": [
    "path = \"/home/krzysztof/Dokumenty/badania_iitis/tensors_symetric/tensor calculations/pictures_tensor/low_rank_tensor_approx/low-rank-tensor-approximation/src/\"\n",
    "include(path*\"cumulants.jl\")\n",
    "include(path*\"read_pictures.jl\")\n",
    "include(path*\"moment_calc.jl\")\n",
    "include(path*\"random.jl\")"
   ]
  },
  {
   "cell_type": "code",
   "execution_count": 5,
   "metadata": {
    "collapsed": true,
    "focus": false,
    "id": "8512ee07-13b6-4e92-97ce-910489ae1559"
   },
   "outputs": [],
   "source": []
  },
  {
   "cell_type": "code",
   "execution_count": 1,
   "metadata": {
    "collapsed": false,
    "focus": false,
    "id": "1b9bd3bd-0d29-49b3-86f3-ee181a107db7"
   },
   "outputs": [
    {
     "name": "stderr",
     "output_type": "stream",
     "text": [
      "WARNING: rmprocs: process 1 not removed\n"
     ]
    },
    {
     "data": {
      "text/plain": [
       "8-element Array{Int64,1}:\n",
       " 2\n",
       " 3\n",
       " 4\n",
       " 5\n",
       " 6\n",
       " 7\n",
       " 8\n",
       " 9"
      ]
     },
     "execution_count": 1,
     "metadata": {},
     "output_type": "execute_result"
    }
   ],
   "source": [
    "rmprocs(workers())\n",
    "addprocs()"
   ]
  },
  {
   "cell_type": "code",
   "execution_count": 63,
   "metadata": {
    "collapsed": false,
    "focus": false,
    "id": "391698a2-f0bb-4237-babf-8915749afffa"
   },
   "outputs": [
    {
     "data": {
      "text/plain": [
       "(\n",
       "4x3 Array{Float64,2}:\n",
       " 0.0120731   0.0120737   -4.75624e-5\n",
       " 0.00587742  0.0058777   -4.75624e-5\n",
       " 0.00393397  0.00393416  -4.75624e-5\n",
       " 1.23751e-5  1.23757e-5  -4.75624e-5,\n",
       "\n",
       "4x4 Array{Float64,2}:\n",
       " -0.0875626  -0.99471     0.0536524  -0.00245832\n",
       " -0.947935    0.0666331  -0.311292    0.00875608\n",
       "  0.293493   -0.0746559  -0.917015   -0.259562  \n",
       "  0.0872589  -0.0232028  -0.243521    0.965684  ,\n",
       "\n",
       "[0.012073084210579177,0.005877424539753128,0.003933973270769709,1.2375084166562841e-5])"
      ]
     },
     "execution_count": 63,
     "metadata": {},
     "output_type": "execute_result"
    }
   ],
   "source": [
    "cov_calc(data,n)"
   ]
  },
  {
   "cell_type": "raw",
   "metadata": {
    "collapsed": false,
    "focus": false,
    "id": "7d200ca1-4d96-4f93-ac76-9989481aedbe"
   },
   "source": []
  },
  {
   "cell_type": "code",
   "execution_count": 4,
   "metadata": {
    "collapsed": false,
    "focus": false,
    "id": "429c522a-5cea-46e6-b67b-e184bbf2f858"
   },
   "outputs": [],
   "source": [
    "data, n = generate_random_gauss(5, 1000000);"
   ]
  },
  {
   "cell_type": "code",
   "execution_count": 53,
   "metadata": {
    "collapsed": false,
    "focus": false,
    "id": "2c4e4c69-c215-4ca7-8e2b-61cc0d54cdd8"
   },
   "outputs": [],
   "source": [
    "data, n = read_hyperspectral(\"indian_pines_hyperspectral.npy\", 60);\n",
    "data = data/maximum(data);"
   ]
  },
  {
   "cell_type": "code",
   "execution_count": 54,
   "metadata": {
    "collapsed": false,
    "focus": false,
    "id": "0d23aebf-aeb4-4e20-ae48-3a04fa54bcda"
   },
   "outputs": [
    {
     "data": {
      "text/plain": [
       "4x4 Array{Float64,2}:\n",
       "  0.0059193     0.000546848  -6.7347e-5   -8.02316e-6 \n",
       "  0.000546848   0.0112559    -0.00226516  -0.000709397\n",
       " -6.7347e-5    -0.00226516    0.00438169   0.00119477 \n",
       " -8.02316e-6   -0.000709397   0.00119477   0.000339925"
      ]
     },
     "execution_count": 54,
     "metadata": {},
     "output_type": "execute_result"
    }
   ],
   "source": [
    "C2 = get_cumulant2(data)"
   ]
  },
  {
   "cell_type": "code",
   "execution_count": 39,
   "metadata": {
    "collapsed": false,
    "focus": false,
    "id": "1d5ebc7c-bea7-423a-a0d2-f172ac2bea7d"
   },
   "outputs": [
    {
     "name": "stdout",
     "output_type": "stream",
     "text": [
      "  0.779872 seconds (13.91 k allocations: 3.587 MB)\n"
     ]
    }
   ],
   "source": [
    "@time C3 = get_cumulant3(data);"
   ]
  },
  {
   "cell_type": "code",
   "execution_count": 40,
   "metadata": {
    "collapsed": false,
    "focus": false,
    "id": "b22ebdce-d6c1-4d23-96c0-ca56618927c2"
   },
   "outputs": [
    {
     "name": "stdout",
     "output_type": "stream",
     "text": [
      "  0.327761 seconds (28.13 k allocations: 2.185 MB)\n"
     ]
    }
   ],
   "source": [
    "@time C4 = get_cumulant4(data);"
   ]
  },
  {
   "cell_type": "code",
   "execution_count": 62,
   "metadata": {
    "collapsed": false,
    "focus": false,
    "id": "c7afc70f-ef28-4baf-b6d2-2113221bc306"
   },
   "outputs": [
    {
     "name": "stdout",
     "output_type": "stream",
     "text": [
      "  "
     ]
    },
    {
     "data": {
      "text/plain": [
       "4x3 Array{Float64,2}:\n",
       " -1.11367   -1.11367   -3.15818e-12\n",
       "  1.25494    1.25494   -1.92884e-11\n",
       " -0.700002  -0.700002  -1.27042e-11\n",
       "  0.61275    0.61275   -7.35198e-8 "
      ]
     },
     "execution_count": 62,
     "metadata": {},
     "output_type": "execute_result"
    },
    {
     "name": "stdout",
     "output_type": "stream",
     "text": [
      "3.085492 seconds (3.54 M allocations: 164.673 MB, 1.18% gc time)\n"
     ]
    }
   ],
   "source": [
    "# kurtosis\n",
    "@time A,B,C = kurtosis_calc(data, n)\n",
    "A"
   ]
  },
  {
   "cell_type": "code",
   "execution_count": 59,
   "metadata": {
    "collapsed": false,
    "focus": false,
    "id": "c1d7745c-66cb-4920-a348-c94644b280af"
   },
   "outputs": [],
   "source": [
    "using MAT\n",
    "matwrite(\"cumulants.mat\", Dict{Any,Any}(\n",
    "    \"C2\" => C2,\n",
    "    \"C3\" => C3,\n",
    "    \"C4\" => C4\n",
    "))"
   ]
  },
  {
   "cell_type": "code",
   "execution_count": 32,
   "metadata": {
    "collapsed": false,
    "focus": false,
    "id": "dc8c9293-526a-41d0-b0e5-67a56932b8b6"
   },
   "outputs": [],
   "source": [
    "using MAT\n",
    "matwrite(\"cumulants.mat\", Dict{Any,Any}(\n",
    "    \"C2\" => C2,\n",
    "    \"C3\" => C3\n",
    "))"
   ]
  },
  {
   "cell_type": "code",
   "execution_count": null,
   "metadata": {
    "collapsed": false,
    "focus": false,
    "id": "176ceaad-480d-43e9-99e8-bf35732008a1"
   },
   "outputs": [],
   "source": []
  },
  {
   "cell_type": "code",
   "execution_count": 61,
   "metadata": {
    "collapsed": false,
    "focus": false,
    "id": "b2b81fa7-6f99-420e-86ec-5eb8cffb57fa"
   },
   "outputs": [
    {
     "data": {
      "text/plain": [
       "1.0861860890382604e-6"
      ]
     },
     "execution_count": 61,
     "metadata": {},
     "output_type": "execute_result"
    }
   ],
   "source": [
    "using Tensors\n",
    "(norm(vec(C4), 2)^2)/2\n"
   ]
  },
  {
   "cell_type": "code",
   "execution_count": null,
   "metadata": {
    "collapsed": false,
    "focus": false,
    "id": "538c9124-2984-48ec-86c3-4873930cc716"
   },
   "outputs": [],
   "source": []
  },
  {
   "cell_type": "code",
   "execution_count": 25,
   "metadata": {
    "collapsed": false,
    "focus": false,
    "id": "9287351f-c1a7-49e4-adc0-3cda3f8917bc"
   },
   "outputs": [],
   "source": [
    "using PyCall"
   ]
  },
  {
   "cell_type": "code",
   "execution_count": 26,
   "metadata": {
    "collapsed": false,
    "focus": false,
    "id": "f7dbe8f6-63a7-49b8-b8d7-3f7333f38dae"
   },
   "outputs": [],
   "source": [
    "unshift!(PyVector(pyimport(\"sys\")[\"path\"]), \"\")\n",
    "@pyimport cross_cumulant as cc"
   ]
  },
  {
   "cell_type": "code",
   "execution_count": 74,
   "metadata": {
    "collapsed": false,
    "focus": false,
    "id": "710e41e1-81ff-452e-86a4-c8e43452daba"
   },
   "outputs": [
    {
     "data": {
      "text/plain": [
       "3x3 Array{Float64,2}:\n",
       " 0.431195  0.328736  0.180378\n",
       " 0.328736  0.254933  0.139698\n",
       " 0.180378  0.139698  0.077555"
      ]
     },
     "execution_count": 74,
     "metadata": {},
     "output_type": "execute_result"
    }
   ],
   "source": []
  },
  {
   "cell_type": "code",
   "execution_count": 75,
   "metadata": {
    "collapsed": false,
    "focus": false,
    "id": "d5bdf5c1-ca07-4054-9e09-17f93e49ba79"
   },
   "outputs": [
    {
     "data": {
      "text/plain": [
       "3x3 Array{Float64,2}:\n",
       "  0.00612226   0.000111728  -6.69157e-6 \n",
       "  0.000111728  0.000873043   0.000242232\n",
       " -6.69157e-6   0.000242232   0.00100628 "
      ]
     },
     "execution_count": 75,
     "metadata": {},
     "output_type": "execute_result"
    }
   ],
   "source": [
    "cov(data)"
   ]
  },
  {
   "cell_type": "code",
   "execution_count": null,
   "metadata": {
    "collapsed": false,
    "focus": false,
    "id": "d62ef6b2-0528-4e29-823b-be17e24c5178"
   },
   "outputs": [],
   "source": []
  },
  {
   "cell_type": "code",
   "execution_count": null,
   "metadata": {
    "collapsed": false,
    "focus": false,
    "id": "70d77da9-c86d-4996-a169-69866198d539"
   },
   "outputs": [],
   "source": []
  },
  {
   "cell_type": "code",
   "execution_count": 41,
   "metadata": {
    "collapsed": false,
    "focus": false,
    "id": "7d6887db-1c3d-42cf-9d66-fe9176d9d805"
   },
   "outputs": [
    {
     "data": {
      "text/plain": [
       "21025x4 Array{Float64,2}:\n",
       "  0.0465286   -0.0134801     0.0448405   0.0201421 \n",
       " -0.0826715   -0.0221512     0.0387707   0.0177575 \n",
       " -0.0462526   -0.0438291     0.0342184   0.0160233 \n",
       "  0.00924269  -0.060521      0.0305331   0.0171072 \n",
       " -0.044952    -0.0160814     0.0441902   0.0201421 \n",
       " -0.0826715    0.000177001   0.0526445   0.0216595 \n",
       "  0.0465286    0.00516291    0.0402882   0.0184078 \n",
       "  0.0465286   -0.00264112    0.0151418   0.00908635\n",
       " -0.0835386   -0.00155723   -0.0277803  -0.00717205\n",
       " -0.0828882   -0.125988     -0.0342837  -0.0112908 \n",
       " -0.085056     0.0032119    -0.0470736  -0.0130251 \n",
       " -0.048854     0.0147012    -0.0537938  -0.0130251 \n",
       " -0.0501547   -0.113415     -0.0579126  -0.0138922 \n",
       "  ⋮                                                \n",
       "  0.00447356  -0.13661      -0.0964992  -0.0223466 \n",
       "  0.0783951    0.210019     -0.0663669  -0.0197452 \n",
       "  0.042193     0.159293     -0.0852267  -0.0208291 \n",
       "  0.00685812   0.0940422    -0.0891287  -0.0225633 \n",
       "  0.153617    -0.0910868    -0.0908629  -0.0201788 \n",
       "  0.00577423  -0.10366      -0.0958488  -0.021913  \n",
       "  0.079479     0.106182     -0.0785066  -0.0203955 \n",
       "  0.0799125    0.087322     -0.0880448  -0.021913  \n",
       "  0.0051239    0.089273     -0.0928139  -0.0225633 \n",
       "  0.0430602    0.087322     -0.0919468  -0.0221298 \n",
       " -0.0859231    0.156041     -0.0691851  -0.0197452 \n",
       "  0.0792622    0.105748     -0.0882616  -0.0221298 "
      ]
     },
     "execution_count": 41,
     "metadata": {},
     "output_type": "execute_result"
    }
   ],
   "source": [
    "data1 = data - repmat(mean(data,1), size(data,1))"
   ]
  },
  {
   "cell_type": "code",
   "execution_count": 55,
   "metadata": {
    "collapsed": false,
    "focus": false,
    "id": "70686791-6144-48b6-b87e-fd5dc507e61d"
   },
   "outputs": [
    {
     "data": {
      "text/plain": [
       "4x4 Array{Float64,2}:\n",
       "  4.77049e-17   0.0          -4.06576e-20  -9.99499e-20\n",
       "  0.0          -3.1225e-17    1.30104e-18   0.0        \n",
       " -4.06576e-20   1.30104e-18  -2.77556e-17   8.67362e-18\n",
       " -9.99499e-20   0.0           8.67362e-18  -1.1872e-17 "
      ]
     },
     "execution_count": 55,
     "metadata": {},
     "output_type": "execute_result"
    }
   ],
   "source": [
    "cc.compute_cumulant2(data1')-C2"
   ]
  },
  {
   "cell_type": "code",
   "execution_count": 49,
   "metadata": {
    "collapsed": false,
    "focus": false,
    "id": "f46595c6-f233-4654-8e55-9ab27792c12c"
   },
   "outputs": [
    {
     "data": {
      "text/plain": [
       "4x4x4 Array{Float64,3}:\n",
       "[:, :, 1] =\n",
       " -9.21572e-19  -1.76183e-19   5.42101e-19  -2.57498e-19\n",
       " -1.76183e-19   7.45389e-20  -7.87741e-20  -2.5411e-20 \n",
       "  5.42101e-19  -7.87741e-20  -2.10064e-19  -1.52466e-20\n",
       " -2.57498e-19  -2.5411e-20   -1.52466e-20  -5.50571e-21\n",
       "\n",
       "[:, :, 2] =\n",
       " -1.76183e-19   6.09864e-20  -7.6233e-20   -2.5411e-20 \n",
       "  6.09864e-20  -1.24683e-18  -6.77626e-19   2.50722e-19\n",
       " -7.6233e-20   -6.77626e-19   2.91379e-19   1.35525e-20\n",
       " -2.5411e-20    2.50722e-19   1.35525e-20   2.96462e-21\n",
       "\n",
       "[:, :, 3] =\n",
       "  5.42101e-19  -7.11508e-20  -2.10064e-19  -1.86347e-20\n",
       " -7.11508e-20  -6.50521e-19   2.91379e-19   1.35525e-20\n",
       " -2.10064e-19   2.91379e-19  -2.57498e-19  -1.77877e-19\n",
       " -1.86347e-20   1.35525e-20  -1.77877e-19   1.69407e-20\n",
       "\n",
       "[:, :, 4] =\n",
       " -2.57498e-19  -2.75286e-20  -2.03288e-20  -5.50571e-21\n",
       " -2.75286e-20   2.43945e-19   1.18585e-20   2.11758e-21\n",
       " -2.03288e-20   1.18585e-20  -1.72795e-19   1.35525e-20\n",
       " -5.50571e-21   2.11758e-21   1.35525e-20   9.97381e-20"
      ]
     },
     "execution_count": 49,
     "metadata": {},
     "output_type": "execute_result"
    }
   ],
   "source": [
    "cc.compute_cumulant3(data1')-C3"
   ]
  },
  {
   "cell_type": "code",
   "execution_count": 61,
   "metadata": {
    "collapsed": false,
    "focus": false,
    "id": "4a0c1c8e-7906-4742-9c47-db4e7a1c3cc9"
   },
   "outputs": [
    {
     "data": {
      "text/plain": [
       "4x4x4x4 Array{Float64,4}:\n",
       "[:, :, 1, 1] =\n",
       " -1.95927e-6  -1.43287e-5  2.68036e-5  7.52958e-6\n",
       " -1.43287e-5  -6.21784e-6  5.05537e-6  1.43433e-6\n",
       "  2.68036e-5   5.05537e-6  3.69552e-6  1.2116e-6 \n",
       "  7.52958e-6   1.43433e-6  1.2116e-6   3.88603e-7\n",
       "\n",
       "[:, :, 2, 1] =\n",
       " -1.43287e-5  -6.21784e-6  5.05537e-6  1.43433e-6\n",
       " -6.21784e-6  -6.01859e-6  2.6497e-6   8.66965e-7\n",
       "  5.05537e-6   2.6497e-6   1.97013e-6  6.49061e-7\n",
       "  1.43433e-6   8.66965e-7  6.49061e-7  2.02715e-7\n",
       "\n",
       "[:, :, 3, 1] =\n",
       " 2.68036e-5  5.05537e-6  3.69552e-6  1.2116e-6 \n",
       " 5.05537e-6  2.6497e-6   1.97013e-6  6.49061e-7\n",
       " 3.69552e-6  1.97013e-6  2.48358e-6  7.26541e-7\n",
       " 1.2116e-6   6.49061e-7  7.26541e-7  2.11638e-7\n",
       "\n",
       "[:, :, 4, 1] =\n",
       " 7.52958e-6  1.43433e-6  1.2116e-6   3.88603e-7\n",
       " 1.43433e-6  8.66965e-7  6.49061e-7  2.02715e-7\n",
       " 1.2116e-6   6.49061e-7  7.26541e-7  2.11638e-7\n",
       " 3.88603e-7  2.02715e-7  2.11638e-7  6.18527e-8\n",
       "\n",
       "[:, :, 1, 2] =\n",
       " -1.43287e-5  -6.21784e-6  5.05537e-6  1.43433e-6\n",
       " -6.21784e-6  -6.01859e-6  2.6497e-6   8.66965e-7\n",
       "  5.05537e-6   2.6497e-6   1.97013e-6  6.49061e-7\n",
       "  1.43433e-6   8.66965e-7  6.49061e-7  2.02715e-7\n",
       "\n",
       "[:, :, 2, 2] =\n",
       " -6.21784e-6  -6.01859e-6    2.6497e-6    8.66965e-7\n",
       " -6.01859e-6  -0.000152943   2.23647e-5   7.38979e-6\n",
       "  2.6497e-6    2.23647e-5   -4.80024e-6  -1.68459e-6\n",
       "  8.66965e-7   7.38979e-6   -1.68459e-6  -5.786e-7  \n",
       "\n",
       "[:, :, 3, 2] =\n",
       " 5.05537e-6   2.6497e-6    1.97013e-6   6.49061e-7\n",
       " 2.6497e-6    2.23647e-5  -4.80024e-6  -1.68459e-6\n",
       " 1.97013e-6  -4.80024e-6   1.84101e-5   5.14331e-6\n",
       " 6.49061e-7  -1.68459e-6   5.14331e-6   1.47095e-6\n",
       "\n",
       "[:, :, 4, 2] =\n",
       " 1.43433e-6   8.66965e-7   6.49061e-7   2.02715e-7\n",
       " 8.66965e-7   7.38979e-6  -1.68459e-6  -5.786e-7  \n",
       " 6.49061e-7  -1.68459e-6   5.14331e-6   1.47095e-6\n",
       " 2.02715e-7  -5.786e-7     1.47095e-6   4.27427e-7\n",
       "\n",
       "[:, :, 1, 3] =\n",
       " 2.68036e-5  5.05537e-6  3.69552e-6  1.2116e-6 \n",
       " 5.05537e-6  2.6497e-6   1.97013e-6  6.49061e-7\n",
       " 3.69552e-6  1.97013e-6  2.48358e-6  7.26541e-7\n",
       " 1.2116e-6   6.49061e-7  7.26541e-7  2.11638e-7\n",
       "\n",
       "[:, :, 2, 3] =\n",
       " 5.05537e-6   2.6497e-6    1.97013e-6   6.49061e-7\n",
       " 2.6497e-6    2.23647e-5  -4.80024e-6  -1.68459e-6\n",
       " 1.97013e-6  -4.80024e-6   1.84101e-5   5.14331e-6\n",
       " 6.49061e-7  -1.68459e-6   5.14331e-6   1.47095e-6\n",
       "\n",
       "[:, :, 3, 3] =\n",
       " 3.69552e-6   1.97013e-6   2.48358e-6   7.26541e-7\n",
       " 1.97013e-6  -4.80024e-6   1.84101e-5   5.14331e-6\n",
       " 2.48358e-6   1.84101e-5  -2.63535e-5  -7.26147e-6\n",
       " 7.26541e-7   5.14331e-6  -7.26147e-6  -2.01853e-6\n",
       "\n",
       "[:, :, 4, 3] =\n",
       " 1.2116e-6    6.49061e-7   7.26541e-7   2.11638e-7\n",
       " 6.49061e-7  -1.68459e-6   5.14331e-6   1.47095e-6\n",
       " 7.26541e-7   5.14331e-6  -7.26147e-6  -2.01853e-6\n",
       " 2.11638e-7   1.47095e-6  -2.01853e-6  -5.66273e-7\n",
       "\n",
       "[:, :, 1, 4] =\n",
       " 7.52958e-6  1.43433e-6  1.2116e-6   3.88603e-7\n",
       " 1.43433e-6  8.66965e-7  6.49061e-7  2.02715e-7\n",
       " 1.2116e-6   6.49061e-7  7.26541e-7  2.11638e-7\n",
       " 3.88603e-7  2.02715e-7  2.11638e-7  6.18527e-8\n",
       "\n",
       "[:, :, 2, 4] =\n",
       " 1.43433e-6   8.66965e-7   6.49061e-7   2.02715e-7\n",
       " 8.66965e-7   7.38979e-6  -1.68459e-6  -5.786e-7  \n",
       " 6.49061e-7  -1.68459e-6   5.14331e-6   1.47095e-6\n",
       " 2.02715e-7  -5.786e-7     1.47095e-6   4.27427e-7\n",
       "\n",
       "[:, :, 3, 4] =\n",
       " 1.2116e-6    6.49061e-7   7.26541e-7   2.11638e-7\n",
       " 6.49061e-7  -1.68459e-6   5.14331e-6   1.47095e-6\n",
       " 7.26541e-7   5.14331e-6  -7.26147e-6  -2.01853e-6\n",
       " 2.11638e-7   1.47095e-6  -2.01853e-6  -5.66273e-7\n",
       "\n",
       "[:, :, 4, 4] =\n",
       " 3.88603e-7   2.02715e-7   2.11638e-7   6.18527e-8\n",
       " 2.02715e-7  -5.786e-7     1.47095e-6   4.27427e-7\n",
       " 2.11638e-7   1.47095e-6  -2.01853e-6  -5.66273e-7\n",
       " 6.18527e-8   4.27427e-7  -5.66273e-7  -1.6013e-7 "
      ]
     },
     "execution_count": 61,
     "metadata": {},
     "output_type": "execute_result"
    }
   ],
   "source": [
    "cc.compute_cumulant4(data1')"
   ]
  },
  {
   "cell_type": "code",
   "execution_count": null,
   "metadata": {
    "collapsed": false,
    "focus": false,
    "id": "e767b754-f852-4c9e-b885-241fd736c5fd"
   },
   "outputs": [],
   "source": []
  },
  {
   "cell_type": "code",
   "execution_count": null,
   "metadata": {
    "collapsed": false,
    "focus": false,
    "id": "e8d148d7-1daf-4624-8065-a35d4f69032c"
   },
   "outputs": [],
   "source": []
  },
  {
   "cell_type": "code",
   "execution_count": 50,
   "metadata": {
    "collapsed": false,
    "focus": true,
    "id": "625e3933-8f8d-44d5-b51a-14b9ae9fcdee"
   },
   "outputs": [
    {
     "name": "stdout",
     "output_type": "stream",
     "text": [
      "search: "
     ]
    },
    {
     "data": {
      "text/latex": [
       "\\begin{verbatim}\n",
       "cov(v1[, v2][, vardim=1, corrected=true, mean=nothing])\n",
       "\\end{verbatim}\n",
       "Compute the Pearson covariance between the vector(s) in \\texttt{v1} and \\texttt{v2}. Here, \\texttt{v1} and \\texttt{v2} can be either vectors or matrices.\n",
       "This function accepts three keyword arguments:\n",
       "\\begin{itemize}\n",
       "\\item \\texttt{vardim}: the dimension of variables. When \\texttt{vardim = 1}, variables are considered in columns while observations in rows; when \\texttt{vardim = 2}, variables are in rows while observations in columns. By default, it is set to \\texttt{1}.\n",
       "\\item \\texttt{corrected}: whether to apply Bessel's correction (divide by \\texttt{n-1} instead of \\texttt{n}). By default, it is set to \\texttt{true}.\n",
       "\\item \\texttt{mean}: allow users to supply mean values that are known. By default, it is set to \\texttt{nothing}, which indicates that the mean(s) are unknown, and the function will compute the mean. Users can use \\texttt{mean=0} to indicate that the input data are centered, and hence there's no need to subtract the mean.\n",
       "\\end{itemize}\n",
       "The size of the result depends on the size of \\texttt{v1} and \\texttt{v2}. When both \\texttt{v1} and \\texttt{v2} are vectors, it returns the covariance between them as a scalar. When either one is a matrix, it returns a covariance matrix of size \\texttt{(n1, n2)}, where \\texttt{n1} and \\texttt{n2} are the numbers of slices in \\texttt{v1} and \\texttt{v2}, which depend on the setting of \\texttt{vardim}.\n",
       "Note: \\texttt{v2} can be omitted, which indicates \\texttt{v2 = v1}.\n"
      ],
      "text/markdown": [
       "```\n",
       "cov(v1[, v2][, vardim=1, corrected=true, mean=nothing])\n",
       "```\n",
       "\n",
       "Compute the Pearson covariance between the vector(s) in `v1` and `v2`. Here, `v1` and `v2` can be either vectors or matrices.\n",
       "\n",
       "This function accepts three keyword arguments:\n",
       "\n",
       "  * `vardim`: the dimension of variables. When `vardim = 1`, variables are considered in columns while observations in rows; when `vardim = 2`, variables are in rows while observations in columns. By default, it is set to `1`.\n",
       "  * `corrected`: whether to apply Bessel's correction (divide by `n-1` instead of `n`). By default, it is set to `true`.\n",
       "  * `mean`: allow users to supply mean values that are known. By default, it is set to `nothing`, which indicates that the mean(s) are unknown, and the function will compute the mean. Users can use `mean=0` to indicate that the input data are centered, and hence there's no need to subtract the mean.\n",
       "\n",
       "The size of the result depends on the size of `v1` and `v2`. When both `v1` and `v2` are vectors, it returns the covariance between them as a scalar. When either one is a matrix, it returns a covariance matrix of size `(n1, n2)`, where `n1` and `n2` are the numbers of slices in `v1` and `v2`, which depend on the setting of `vardim`.\n",
       "\n",
       "Note: `v2` can be omitted, which indicates `v2 = v1`.\n"
      ],
      "text/plain": [
       "```\n",
       "cov(v1[, v2][, vardim=1, corrected=true, mean=nothing])\n",
       "```\n",
       "\n",
       "Compute the Pearson covariance between the vector(s) in `v1` and `v2`. Here, `v1` and `v2` can be either vectors or matrices.\n",
       "\n",
       "This function accepts three keyword arguments:\n",
       "\n",
       "  * `vardim`: the dimension of variables. When `vardim = 1`, variables are considered in columns while observations in rows; when `vardim = 2`, variables are in rows while observations in columns. By default, it is set to `1`.\n",
       "  * `corrected`: whether to apply Bessel's correction (divide by `n-1` instead of `n`). By default, it is set to `true`.\n",
       "  * `mean`: allow users to supply mean values that are known. By default, it is set to `nothing`, which indicates that the mean(s) are unknown, and the function will compute the mean. Users can use `mean=0` to indicate that the input data are centered, and hence there's no need to subtract the mean.\n",
       "\n",
       "The size of the result depends on the size of `v1` and `v2`. When both `v1` and `v2` are vectors, it returns the covariance between them as a scalar. When either one is a matrix, it returns a covariance matrix of size `(n1, n2)`, where `n1` and `n2` are the numbers of slices in `v1` and `v2`, which depend on the setting of `vardim`.\n",
       "\n",
       "Note: `v2` can be omitted, which indicates `v2 = v1`.\n"
      ]
     },
     "execution_count": 50,
     "metadata": {},
     "output_type": "execute_result"
    },
    {
     "name": "stdout",
     "output_type": "stream",
     "text": [
      "cov cov_calc vcov invcov conv conv2 convert autocov autocov! deconv\n",
      "\n"
     ]
    }
   ],
   "source": [
    "?cov"
   ]
  },
  {
   "cell_type": "code",
   "execution_count": 51,
   "metadata": {
    "collapsed": false
   },
   "outputs": [
    {
     "data": {
      "text/html": [
       "10 methods for generic function <b>cov</b>:<ul><li> cov(x::<b>DenseArray{T,2}</b>, wv::<b>StatsBase.WeightVec{W,Vec<:AbstractArray{T<:Real,1}}</b>) at <a href=\"https://github.com/JuliaStats/StatsBase.jl/tree/cf943919e9033b84ad1591307ddec5e5a6e451da/src/cov.jl#L45\" target=\"_blank\">/home/krzysztof/.julia/v0.4/StatsBase/src/cov.jl:45</a><li> cov(x::<b>AbstractArray{T,1}</b>) at <a href=\"https://github.com/JuliaLang/julia/tree/bb73f3489d837e3339fce2c1aab283d3b2e97a4c/base/statistics.jl#L292\" target=\"_blank\">statistics.jl:292</a><li> cov(x::<b>AbstractArray{T,2}</b>) at <a href=\"https://github.com/JuliaLang/julia/tree/bb73f3489d837e3339fce2c1aab283d3b2e97a4c/base/statistics.jl#L299\" target=\"_blank\">statistics.jl:299</a><li> cov(x::<b>AbstractArray{T,1}</b>, y::<b>AbstractArray{T,1}</b>) at <a href=\"https://github.com/JuliaLang/julia/tree/bb73f3489d837e3339fce2c1aab283d3b2e97a4c/base/statistics.jl#L306\" target=\"_blank\">statistics.jl:306</a><li> cov(x::<b>Union{AbstractArray{T,1},AbstractArray{T,2}}</b>, y::<b>Union{AbstractArray{T,1},AbstractArray{T,2}}</b>) at <a href=\"https://github.com/JuliaLang/julia/tree/bb73f3489d837e3339fce2c1aab283d3b2e97a4c/base/statistics.jl#L313\" target=\"_blank\">statistics.jl:313</a><li> cov(d::<b>Distributions.Dirichlet</b>) at <a href=\"https://github.com/JuliaStats/Distributions.jl/tree/3bf11d14fcc3953c90ccf59ea8f7f3839782a1db/src/multivariate/dirichlet.jl#L57\" target=\"_blank\">/home/krzysztof/.julia/v0.4/Distributions/src/multivariate/dirichlet.jl:57</a><li> cov(d::<b>Distributions.Multinomial</b>) at <a href=\"https://github.com/JuliaStats/Distributions.jl/tree/3bf11d14fcc3953c90ccf59ea8f7f3839782a1db/src/multivariate/multinomial.jl#L47\" target=\"_blank\">/home/krzysztof/.julia/v0.4/Distributions/src/multivariate/multinomial.jl:47</a><li> cov(d::<b>Distributions.MvNormal{Cov<:PDMats.AbstractPDMat,Mean<:Union{Array{Float64,1},Distributions.ZeroVector{Float64}}}</b>) at <a href=\"https://github.com/JuliaStats/Distributions.jl/tree/3bf11d14fcc3953c90ccf59ea8f7f3839782a1db/src/multivariate/mvnormal.jl#L114\" target=\"_blank\">/home/krzysztof/.julia/v0.4/Distributions/src/multivariate/mvnormal.jl:114</a><li> cov(d::<b>Distributions.MvNormalCanon{P<:PDMats.AbstractPDMat,V<:Union{Array{Float64,1},Distributions.ZeroVector{Float64}}}</b>) at <a href=\"https://github.com/JuliaStats/Distributions.jl/tree/3bf11d14fcc3953c90ccf59ea8f7f3839782a1db/src/multivariate/mvnormalcanon.jl#L70\" target=\"_blank\">/home/krzysztof/.julia/v0.4/Distributions/src/multivariate/mvnormalcanon.jl:70</a><li> cov(d::<b>Distributions.GenericMvTDist{Cov<:PDMats.AbstractPDMat}</b>) at <a href=\"https://github.com/JuliaStats/Distributions.jl/tree/3bf11d14fcc3953c90ccf59ea8f7f3839782a1db/src/multivariate/mvtdist.jl#L78\" target=\"_blank\">/home/krzysztof/.julia/v0.4/Distributions/src/multivariate/mvtdist.jl:78</a></ul>"
      ],
      "text/plain": [
       "# 10 methods for generic function \"cov\":\n",
       "cov(x::DenseArray{T,2}, wv::StatsBase.WeightVec{W,Vec<:AbstractArray{T<:Real,1}}) at /home/krzysztof/.julia/v0.4/StatsBase/src/cov.jl:45\n",
       "cov(x::AbstractArray{T,1}) at statistics.jl:292\n",
       "cov(x::AbstractArray{T,2}) at statistics.jl:299\n",
       "cov(x::AbstractArray{T,1}, y::AbstractArray{T,1}) at statistics.jl:306\n",
       "cov(x::Union{AbstractArray{T,1},AbstractArray{T,2}}, y::Union{AbstractArray{T,1},AbstractArray{T,2}}) at statistics.jl:313\n",
       "cov(d::Distributions.Dirichlet) at /home/krzysztof/.julia/v0.4/Distributions/src/multivariate/dirichlet.jl:57\n",
       "cov(d::Distributions.Multinomial) at /home/krzysztof/.julia/v0.4/Distributions/src/multivariate/multinomial.jl:47\n",
       "cov(d::Distributions.MvNormal{Cov<:PDMats.AbstractPDMat,Mean<:Union{Array{Float64,1},Distributions.ZeroVector{Float64}}}) at /home/krzysztof/.julia/v0.4/Distributions/src/multivariate/mvnormal.jl:114\n",
       "cov(d::Distributions.MvNormalCanon{P<:PDMats.AbstractPDMat,V<:Union{Array{Float64,1},Distributions.ZeroVector{Float64}}}) at /home/krzysztof/.julia/v0.4/Distributions/src/multivariate/mvnormalcanon.jl:70\n",
       "cov(d::Distributions.GenericMvTDist{Cov<:PDMats.AbstractPDMat}) at /home/krzysztof/.julia/v0.4/Distributions/src/multivariate/mvtdist.jl:78"
      ]
     },
     "execution_count": 51,
     "metadata": {},
     "output_type": "execute_result"
    }
   ],
   "source": [
    "methods(cov)"
   ]
  },
  {
   "cell_type": "code",
   "execution_count": null,
   "metadata": {
    "collapsed": true
   },
   "outputs": [],
   "source": []
  }
 ],
 "metadata": {
  "kernelspec": {
   "display_name": "Julia 0.4.0",
   "language": "julia",
   "name": "julia-0.4"
  },
  "language_info": {
   "file_extension": ".jl",
   "mimetype": "application/julia",
   "name": "julia",
   "version": "0.4.2"
  }
 },
 "nbformat": 4,
 "nbformat_minor": 0
}
