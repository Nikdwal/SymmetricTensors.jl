{
 "cells": [
  {
   "cell_type": "code",
   "execution_count": 1,
   "metadata": {
    "collapsed": false,
    "focus": false,
    "id": "bcf8d404-5747-4e6c-930c-99d68f80b4d6"
   },
   "outputs": [
    {
     "data": {
      "text/plain": [
       "generate_random_gauss (generic function with 1 method)"
      ]
     },
     "execution_count": 1,
     "metadata": {},
     "output_type": "execute_result"
    }
   ],
   "source": [
    "path = \"/home/krzysztof/Dokumenty/badania_iitis/tensors_symetric/tensor calculations/pictures_tensor/low_rank_tensor_approx/low-rank-tensor-approximation/src/\"\n",
    "include(path*\"cumulants.jl\")\n",
    "include(path*\"read_pictures.jl\")\n",
    "include(path*\"moment_calc.jl\")\n",
    "include(path*\"random.jl\")"
   ]
  },
  {
   "cell_type": "code",
   "execution_count": 3,
   "metadata": {
    "collapsed": false,
    "focus": false,
    "id": "8512ee07-13b6-4e92-97ce-910489ae1559"
   },
   "outputs": [
    {
     "data": {
      "text/plain": [
       "8-element Array{Int64,1}:\n",
       " 10\n",
       " 11\n",
       " 12\n",
       " 13\n",
       " 14\n",
       " 15\n",
       " 16\n",
       " 17"
      ]
     },
     "execution_count": 3,
     "metadata": {},
     "output_type": "execute_result"
    }
   ],
   "source": [
    "rmprocs(workers())\n",
    "addprocs()"
   ]
  },
  {
   "cell_type": "code",
   "execution_count": 54,
   "metadata": {
    "collapsed": false,
    "focus": false,
    "id": "429c522a-5cea-46e6-b67b-e184bbf2f858"
   },
   "outputs": [],
   "source": [
    "data, n = generate_random_gauss(5, 1000000);"
   ]
  },
  {
   "cell_type": "code",
   "execution_count": 7,
   "metadata": {
    "collapsed": false,
    "focus": false,
    "id": "2c4e4c69-c215-4ca7-8e2b-61cc0d54cdd8"
   },
   "outputs": [],
   "source": [
    "data, n = read_hyperspectral(\"indian_pines_hyperspectral.npy\", 1);\n",
    "data = data/maximum(data);"
   ]
  },
  {
   "cell_type": "code",
   "execution_count": 8,
   "metadata": {
    "collapsed": false,
    "focus": false,
    "id": "0d23aebf-aeb4-4e20-ae48-3a04fa54bcda"
   },
   "outputs": [],
   "source": [
    "C2 = get_cumulant2(data);\n",
    "r, X2, S = cov_calc(C2, n);"
   ]
  },
  {
   "cell_type": "code",
   "execution_count": 9,
   "metadata": {
    "collapsed": false,
    "focus": false,
    "id": "1d5ebc7c-bea7-423a-a0d2-f172ac2bea7d"
   },
   "outputs": [
    {
     "name": "stdout",
     "output_type": "stream",
     "text": [
      "179.438818 seconds (27.21 k allocations: 82.140 MB, 0.02% gc time)\n"
     ]
    }
   ],
   "source": [
    "@time C3 = get_cumulant3(convert(Array{Float32,2},data));\n",
    "X3 = hosvd(C3).matrices[1];"
   ]
  },
  {
   "cell_type": "code",
   "execution_count": null,
   "metadata": {
    "collapsed": false,
    "focus": false,
    "id": "b22ebdce-d6c1-4d23-96c0-ca56618927c2"
   },
   "outputs": [],
   "source": [
    "@time C4 = get_cumulant4(convert(Array{Float32,2},data));\n",
    "X4 = hosvd(C4).matrices[1];"
   ]
  },
  {
   "cell_type": "code",
   "execution_count": 68,
   "metadata": {
    "collapsed": false,
    "focus": false,
    "id": "c1d7745c-66cb-4920-a348-c94644b280af"
   },
   "outputs": [],
   "source": [
    "using MAT\n",
    "matwrite(\"cumulants.mat\", Dict{Any,Any}(\n",
    "    \"C2\" => C2,\n",
    "    \"C3\" => C3,\n",
    "    \"C4\" => C4,\n",
    "    \"X2\" => X2,\n",
    "    \"X3\" => X3,\n",
    "    \"X4\" => X4\n",
    "))"
   ]
  },
  {
   "cell_type": "code",
   "execution_count": 7,
   "metadata": {
    "collapsed": false,
    "focus": false,
    "id": "dc8c9293-526a-41d0-b0e5-67a56932b8b6"
   },
   "outputs": [],
   "source": [
    "using MAT\n",
    "matwrite(\"cumulants.mat\", Dict{Any,Any}(\n",
    "    \"C2\" => C2,\n",
    "    \"C3\" => C3\n",
    "))"
   ]
  },
  {
   "cell_type": "code",
   "execution_count": 70,
   "metadata": {
    "collapsed": false,
    "focus": false,
    "id": "538c9124-2984-48ec-86c3-4873930cc716"
   },
   "outputs": [
    {
     "data": {
      "text/plain": [
       "0.00045140120997063223"
      ]
     },
     "execution_count": 70,
     "metadata": {},
     "output_type": "execute_result"
    }
   ],
   "source": [
    "norm_tensor(C3)"
   ]
  },
  {
   "cell_type": "code",
   "execution_count": 25,
   "metadata": {
    "collapsed": false,
    "focus": false,
    "id": "9287351f-c1a7-49e4-adc0-3cda3f8917bc"
   },
   "outputs": [],
   "source": [
    "using PyCall\n",
    "unshift!(PyVector(pyimport(\"sys\")[\"path\"]), \"\")\n",
    "@pyimport cross_cumulant as cc\n",
    "data1 = data - repmat(mean(data,1), size(data,1))"
   ]
  },
  {
   "cell_type": "code",
   "execution_count": 26,
   "metadata": {
    "collapsed": false,
    "focus": false,
    "id": "f7dbe8f6-63a7-49b8-b8d7-3f7333f38dae"
   },
   "outputs": [],
   "source": [
    "cc.compute_cumulant2(data1')-C2"
   ]
  },
  {
   "cell_type": "code",
   "execution_count": 74,
   "metadata": {
    "collapsed": false,
    "focus": false,
    "id": "710e41e1-81ff-452e-86a4-c8e43452daba"
   },
   "outputs": [
    {
     "data": {
      "text/plain": [
       "3x3 Array{Float64,2}:\n",
       " 0.431195  0.328736  0.180378\n",
       " 0.328736  0.254933  0.139698\n",
       " 0.180378  0.139698  0.077555"
      ]
     },
     "execution_count": 74,
     "metadata": {},
     "output_type": "execute_result"
    }
   ],
   "source": [
    "cc.compute_cumulant3(data1')-C3"
   ]
  },
  {
   "cell_type": "code",
   "execution_count": 75,
   "metadata": {
    "collapsed": false,
    "focus": false,
    "id": "d5bdf5c1-ca07-4054-9e09-17f93e49ba79"
   },
   "outputs": [
    {
     "data": {
      "text/plain": [
       "3x3 Array{Float64,2}:\n",
       "  0.00612226   0.000111728  -6.69157e-6 \n",
       "  0.000111728  0.000873043   0.000242232\n",
       " -6.69157e-6   0.000242232   0.00100628 "
      ]
     },
     "execution_count": 75,
     "metadata": {},
     "output_type": "execute_result"
    }
   ],
   "source": [
    "cc.compute_cumulant4(data1')-C4"
   ]
  }
 ],
 "metadata": {
  "kernelspec": {
   "display_name": "Julia 0.4.0",
   "language": "julia",
   "name": "julia-0.4"
  },
  "language_info": {
   "file_extension": ".jl",
   "mimetype": "application/julia",
   "name": "julia",
   "version": "0.4.2"
  }
 },
 "nbformat": 4,
 "nbformat_minor": 0
}
